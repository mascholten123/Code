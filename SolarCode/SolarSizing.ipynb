{
 "cells": [
  {
   "cell_type": "markdown",
   "metadata": {},
   "source": [
    "# Solar Sizing Optimization code \n",
    "\n",
    "+ 1 ha\n",
    "+ Direct-drive system"
   ]
  },
  {
   "cell_type": "code",
   "execution_count": 1,
   "metadata": {
    "tags": []
   },
   "outputs": [],
   "source": [
    "\n",
    "#Imports \n",
    "import pvlib\n",
    "from pvlib.location import Location\n",
    "from pvlib import pvsystem, location, modelchain, iotools\n",
    "from pvlib.temperature import TEMPERATURE_MODEL_PARAMETERS\n",
    "import matplotlib\n",
    "import matplotlib.pyplot as plt\n",
    "import numpy as np\n",
    "import pandas as pd\n",
    "import seaborn as sns\n",
    "import datetime\n",
    "import pathlib\n",
    "from datetime import datetime\n",
    "from dataclasses import dataclass\n",
    "import sqlite3\n",
    "import scipy"
   ]
  },
  {
   "cell_type": "code",
   "execution_count": 2,
   "metadata": {},
   "outputs": [],
   "source": [
    "#Worst day from PlantWaterCalcs.ipynb\n",
    "Q_max = 20.7504 #m3/day for 1ha\n",
    "day_max = pd.to_datetime('2020-06-11').date()\n",
    "max_flow_rate = (2*50*34) /(1000*3600) #m3/s\n",
    "time_min = (Q_max) / (max_flow_rate* 3600) #hours\n",
    "\n",
    "\n",
    "#Pump P vs Q equation from PumpCurve.ipynb --> P = a*Q^3 + b*Q^2 + c*Q + c\n",
    "a = 445687894.591783\n",
    "b = -984696.5871017637\n",
    "c = 854.0710206707552\n",
    "d = -0.05692714507987253\n",
    "\n",
    "max_power = a*(max_flow_rate**3) + b*(max_flow_rate**2) + c*max_flow_rate + d #kw\n",
    "\n"
   ]
  },
  {
   "cell_type": "code",
   "execution_count": 4,
   "metadata": {},
   "outputs": [
    {
     "data": {
      "text/plain": [
       "0.0009444444444444445"
      ]
     },
     "execution_count": 4,
     "metadata": {},
     "output_type": "execute_result"
    }
   ],
   "source": [
    "max_flow_rate"
   ]
  },
  {
   "cell_type": "code",
   "execution_count": 7,
   "metadata": {},
   "outputs": [],
   "source": [
    "def root_pump_curve(a,b,c,d,P,Q):\n",
    "    '''function Return zero in terms of Q of pump power equation given a,b,c,d and P'''\n",
    "    return (a*(Q**3) + b*(Q**2) + c*Q + d - P)"
   ]
  },
  {
   "cell_type": "markdown",
   "metadata": {},
   "source": [
    "## Worst day sizing"
   ]
  },
  {
   "cell_type": "code",
   "execution_count": 8,
   "metadata": {},
   "outputs": [],
   "source": [
    "#Import and clean Solar data \n",
    "con = sqlite3.connect(\"../NetworkCode/SolarData.sqlite\")\n",
    "df_weather_CEBIVE_raw = pd.read_sql_query(\"SELECT * from cebiveSolarDailyHourly\", con)\n",
    "con.close()\n",
    "\n",
    "#Convert date to datetime\n",
    "df_weather_CEBIVE_raw['iso_date'] = pd.to_datetime(df_weather_CEBIVE_raw['iso_date'])\n",
    "df_weather_CEBIVE_raw.index = pd.to_datetime(df_weather_CEBIVE_raw['iso_date'])\n",
    "\n",
    "#Only data where location is CEBIVE and date is day_max\n",
    "df_weather = df_weather_CEBIVE_raw[(df_weather_CEBIVE_raw['location'] == 'CEBIVE') & (df_weather_CEBIVE_raw['iso_date'].dt.date == day_max)]\n",
    "\n",
    "#Formatting data to input into pvlib model\n",
    "weather = pd.DataFrame({\n",
    "    'ghi': df_weather['Cloudy_sky.ghi'], 'dhi': df_weather['Cloudy_sky.dhi'], 'dni': df_weather['Cloudy_sky.dni'],\n",
    "    'temp_air':  df_weather['Temp'], 'wind_speed':  df_weather['wind_speed'], \n",
    "})\n",
    "\n",
    "loc = location.Location(18.541, -69.990, -4.00, 32.0) #CEBIVE"
   ]
  },
  {
   "cell_type": "code",
   "execution_count": 9,
   "metadata": {},
   "outputs": [],
   "source": [
    "#Configure solar model\n",
    "solpos = loc.get_solarposition(weather.index)\n",
    "\n",
    "#Default --> change to correct pannels values \n",
    "module_parameters = {'pdc0': 0.35, 'gamma_pdc': -0.004, 'b': 0.05} #350W pannel \n",
    "temp_params = TEMPERATURE_MODEL_PARAMETERS['sapm']['open_rack_glass_glass']\n",
    "\n"
   ]
  },
  {
   "cell_type": "code",
   "execution_count": 6,
   "metadata": {},
   "outputs": [
    {
     "name": "stdout",
     "output_type": "stream",
     "text": [
      "1 panels is NOT enough\n",
      "2 panels is enough for 6.103058823529412 hours of power for the worst day with 0.25 kW of max power\n"
     ]
    },
    {
     "data": {
      "text/plain": [
       "Text(0, 0.5, 'AC Power [kW]')"
      ]
     },
     "execution_count": 6,
     "metadata": {},
     "output_type": "execute_result"
    },
    {
     "data": {
      "image/png": "[encoded data removed]",
      "text/plain": [
       "<Figure size 640x480 with 1 Axes>"
      ]
     },
     "metadata": {},
     "output_type": "display_data"
    }
   ],
   "source": [
    "#Is one pannel enough for the worst day? \n",
    "\n",
    "flag = 0 # 0 = infufficient power production for worst day\n",
    "n_panels = 1 #intial number of PV panels\n",
    "\n",
    "while flag == 0: \n",
    "\n",
    "    #Calculate solar panel power production for worst day with n panels\n",
    "    array = pvsystem.Array(mount=pvsystem.FixedMount(20, 180),\n",
    "                        module_parameters=module_parameters,\n",
    "                        temperature_model_parameters=temp_params, modules_per_string=n_panels)\n",
    "    system = pvsystem.PVSystem(arrays=[array], inverter_parameters={'pdc0': 1, 'eta_inv_nom':0.95, 'strings_per_inverter':1 })\n",
    "    mc2 = modelchain.ModelChain(system, loc, spectral_model='no_loss')\n",
    "    _ = mc2.run_model(weather)\n",
    "    \n",
    "    #Check if enough power is produced for worst day\n",
    "    n_hours = 0 # hours with power greater than or equal to max_power\n",
    "    for i in range(len(mc2.results.ac)):\n",
    "        if mc2.results.ac.iloc[i] >= max_power:\n",
    "            n_hours += 1\n",
    "\n",
    "    if n_hours >= time_min:\n",
    "        flag = 1\n",
    "        print(f\"{n_panels} panels is enough for {time_min} hours of power for the worst day with {max_power:.2f} kW of max power\")\n",
    "        break\n",
    "    else:\n",
    "        print(f'{n_panels} panels is NOT enough') \n",
    "        n_panels += 1\n",
    "\n",
    "    if n_panels > 10: #safty check\n",
    "        print(f\"Could not find enough panels with 10 panels\")\n",
    "        \n",
    "mc2.results.ac.plot()\n",
    "plt.xlabel('Time of the Day')\n",
    "plt.ylabel('AC Power [kW]')"
   ]
  },
  {
   "cell_type": "markdown",
   "metadata": {},
   "source": [
    "## Sizing for entire historical dataset"
   ]
  },
  {
   "cell_type": "code",
   "execution_count": 11,
   "metadata": {},
   "outputs": [
    {
     "name": "stdout",
     "output_type": "stream",
     "text": [
      "2010-01-01\n",
      "2010-01-01 does not have enough power for 1ha, 1.5795294117647058 hours short\n"
     ]
    }
   ],
   "source": [
    "#How about for the entire historical data set? \n",
    "\n",
    "df_daily_irrigation =  pd.read_pickle('../NetworkCode/df_areas.pkl') #daily irrigation need in m3/day for 1h, 2ha and 3ha \n",
    "df_daily_irrigation['1ha_hrs'] = df_daily_irrigation['1 ha'] / (max_flow_rate* 3600) # convert to hrs\n",
    "df_daily_irrigation['2ha_hrs'] = df_daily_irrigation['2 ha'] / (max_flow_rate* 3600) \n",
    "df_daily_irrigation['3ha_hrs'] = df_daily_irrigation['3 ha'] / (max_flow_rate* 3600) \n",
    "df_daily_irrigation.index = pd.to_datetime(df_daily_irrigation.index)\n",
    "\n",
    "\n",
    "#create full weather data set\n",
    "df_weather_full = df_weather_CEBIVE_raw[(df_weather_CEBIVE_raw['location'] == 'CEBIVE')]\n",
    "df_weather_full.index = pd.to_datetime(df_weather_full['iso_date'])\n",
    "weather_full = pd.DataFrame({\n",
    "    'ghi': df_weather_full['Cloudy_sky.ghi'], 'dhi': df_weather_full['Cloudy_sky.dhi'], 'dni': df_weather_full['Cloudy_sky.dni'],\n",
    "    'temp_air':  df_weather_full['Temp'], 'wind_speed':  df_weather_full['wind_speed'], \n",
    "})\n",
    "\n",
    "#run PVlib model for full year\n",
    "loc = location.Location(18.541, -69.990, -4.00, 32.0) #CEBIVE\n",
    "solpos = loc.get_solarposition(weather_full.index)\n",
    "module_parameters = {'pdc0': 0.35, 'gamma_pdc': -0.004, 'b': 0.05} #350W pannel \n",
    "temp_params = TEMPERATURE_MODEL_PARAMETERS['sapm']['open_rack_glass_glass']\n",
    "\n",
    "array_full = pvsystem.Array(mount=pvsystem.FixedMount(20, 180),\n",
    "                        module_parameters=module_parameters,\n",
    "                        temperature_model_parameters=temp_params, modules_per_string=n_panels)\n",
    "system_full = pvsystem.PVSystem(arrays=[array_full], inverter_parameters={'pdc0': 1, 'eta_inv_nom':0.95, 'strings_per_inverter':1 })\n",
    "mc_full = modelchain.ModelChain(system_full, loc, spectral_model='no_loss')\n",
    "_ = mc_full.run_model(weather_full)\n",
    "\n",
    "df_solar_full = pd.DataFrame({'solar_power': mc_full.results.ac})\n",
    "\n",
    "\n",
    "#see if enough power is available each day for 1ha\n",
    "weather_full_index = pd.to_datetime(weather_full.index.date).unique()\n",
    "\n",
    "for day in weather_full_index.date:\n",
    "    print(day)\n",
    "    daily_power = df_solar_full.loc[df_solar_full.index.date == day]\n",
    "   \n",
    "    n_hrs = 0 # hours with power greater than or equal to max_power\n",
    "    for i in range(len(daily_power)):\n",
    "        if daily_power['solar_power'].iloc[i] >= max_power:\n",
    "            n_hrs += 1  \n",
    "    \n",
    "    day_timestamp = pd.Timestamp(day)\n",
    "    if day_timestamp in df_daily_irrigation.index:\n",
    "        day_loc = df_daily_irrigation.index.get_loc(day_timestamp)  \n",
    "\n",
    "        if n_hrs >= df_daily_irrigation['1ha_hrs'].iloc[day_loc]:\n",
    "            print(f\"{day} has enough power for 1ha\")\n",
    "        else:\n",
    "            print(f\"{day} does not have enough power for 1ha, {df_daily_irrigation['1ha_hrs'].iloc[day_loc] - n_hrs} hours short\")\n",
    "\n",
    "            break \n",
    "    else: \n",
    "         print(f\"{day} is not found in df_daily_irrigation index\")\n",
    "\n",
    "\n",
    "##Fails on 2010-01-03 --> how to take into acount variable speed when power is less than max power\n",
    "\n"
   ]
  },
  {
   "cell_type": "code",
   "execution_count": 12,
   "metadata": {},
   "outputs": [
    {
     "name": "stderr",
     "output_type": "stream",
     "text": [
      "/var/folders/_q/cqfc7f7d18ng3r1chbk8y35h0000gn/T/ipykernel_27801/1607703907.py:15: FutureWarning: Setting an item of incompatible dtype is deprecated and will raise in a future error of pandas. Value '7.955504139067158e-05' has dtype incompatible with int64, please explicitly cast to a compatible dtype first.\n",
      "  df_solar_full.loc[hour, 'flow_rate'] = solution.root\n"
     ]
    },
    {
     "name": "stdout",
     "output_type": "stream",
     "text": [
      "1 is not sufficient even with variable speed operation, on 2010-01-03 00:00:00 the power deficit is 0.6203082514975451 m3\n"
     ]
    }
   ],
   "source": [
    "#accouting for variable speed operation\n",
    "\n",
    "#Calculate the flow rate [m3/s] for each hour for variable speed pump \n",
    "df_solar_full['flow_rate'] = 0 #initialize column\n",
    "# Iterate over the index of df_solar_full directly\n",
    "for hour in df_solar_full.index:\n",
    "    if df_solar_full.loc[hour, 'solar_power'] >= max_power:\n",
    "        df_solar_full.loc[hour, 'flow_rate'] = max_flow_rate\n",
    "    elif df_solar_full.loc[hour, 'solar_power'] == 0:\n",
    "        # Handle the case when solar power is zero \n",
    "        df_solar_full.loc[hour, 'flow_rate'] = 0\n",
    "    else:\n",
    "        # Use root_scalar to find the root of the pump curve equation\n",
    "        solution = scipy.optimize.root_scalar(lambda x: root_pump_curve(a, b, c, d, df_solar_full.loc[hour, 'solar_power'], x), x0=max_flow_rate)\n",
    "        df_solar_full.loc[hour, 'flow_rate'] = solution.root\n",
    "\n",
    "# Check for negative flow rates\n",
    "negative_flow_rates = df_solar_full[df_solar_full['flow_rate'] < 0]\n",
    "if not negative_flow_rates.empty:\n",
    "    raise ValueError(f\"Negative flow rates found in hours: {negative_flow_rates.index.tolist()}\")\n",
    "\n",
    "\n",
    "# Assuming constant flow rate over each hour, calculate the total daily pumpible water \n",
    "df_solar_full['flow_rate_hourly']= df_solar_full['flow_rate'] * 3600\n",
    "df_daily_irrigation['1ha variable speed'] =  df_solar_full['flow_rate_hourly'].resample('D').sum()\n",
    "\n",
    "#Is the possible irrigaiation with variable speed operation sufficient? \n",
    "\n",
    "for day in df_daily_irrigation.index:\n",
    "    if df_daily_irrigation['1 ha'].loc[day] > df_daily_irrigation['1ha variable speed'].loc[day]:\n",
    "        print(f'{n_panels} is not sufficient even with variable speed operation, on {day} the power deficit is {df_daily_irrigation[\"1 ha\"].loc[day] - df_daily_irrigation[\"1ha variable speed\"].loc[day]} m3')\n",
    "        break   \n",
    "\n",
    "#Even with variable speed operation, the number of panels is insufficient --> Increase number of panels\n"
   ]
  },
  {
   "cell_type": "code",
   "execution_count": 13,
   "metadata": {},
   "outputs": [
    {
     "name": "stderr",
     "output_type": "stream",
     "text": [
      "/var/folders/_q/cqfc7f7d18ng3r1chbk8y35h0000gn/T/ipykernel_27801/2632832514.py:35: FutureWarning: Setting an item of incompatible dtype is deprecated and will raise in a future error of pandas. Value '0.00015324026076758454' has dtype incompatible with int64, please explicitly cast to a compatible dtype first.\n",
      "  df_solar_full.loc[hour, 'flow_rate'] = solution.root\n"
     ]
    },
    {
     "name": "stdout",
     "output_type": "stream",
     "text": [
      "1226 days are not covered with variable speed direct-drive operation with 1 panels\n"
     ]
    },
    {
     "name": "stderr",
     "output_type": "stream",
     "text": [
      "/var/folders/_q/cqfc7f7d18ng3r1chbk8y35h0000gn/T/ipykernel_27801/2632832514.py:35: FutureWarning: Setting an item of incompatible dtype is deprecated and will raise in a future error of pandas. Value '0.0003305698615150383' has dtype incompatible with int64, please explicitly cast to a compatible dtype first.\n",
      "  df_solar_full.loc[hour, 'flow_rate'] = solution.root\n"
     ]
    },
    {
     "name": "stdout",
     "output_type": "stream",
     "text": [
      "8 days are not covered with variable speed direct-drive operation with 2 panels\n"
     ]
    },
    {
     "name": "stderr",
     "output_type": "stream",
     "text": [
      "/var/folders/_q/cqfc7f7d18ng3r1chbk8y35h0000gn/T/ipykernel_27801/2632832514.py:35: FutureWarning: Setting an item of incompatible dtype is deprecated and will raise in a future error of pandas. Value '7.728291653734108e-05' has dtype incompatible with int64, please explicitly cast to a compatible dtype first.\n",
      "  df_solar_full.loc[hour, 'flow_rate'] = solution.root\n"
     ]
    },
    {
     "name": "stdout",
     "output_type": "stream",
     "text": [
      "2 days are not covered with variable speed direct-drive operation with 3 panels\n"
     ]
    },
    {
     "name": "stderr",
     "output_type": "stream",
     "text": [
      "/var/folders/_q/cqfc7f7d18ng3r1chbk8y35h0000gn/T/ipykernel_27801/2632832514.py:35: FutureWarning: Setting an item of incompatible dtype is deprecated and will raise in a future error of pandas. Value '9.283185102327231e-05' has dtype incompatible with int64, please explicitly cast to a compatible dtype first.\n",
      "  df_solar_full.loc[hour, 'flow_rate'] = solution.root\n"
     ]
    },
    {
     "name": "stdout",
     "output_type": "stream",
     "text": [
      "1 days are not covered with variable speed direct-drive operation with 4 panels\n"
     ]
    },
    {
     "name": "stderr",
     "output_type": "stream",
     "text": [
      "/var/folders/_q/cqfc7f7d18ng3r1chbk8y35h0000gn/T/ipykernel_27801/2632832514.py:35: FutureWarning: Setting an item of incompatible dtype is deprecated and will raise in a future error of pandas. Value '0.00010901409975746773' has dtype incompatible with int64, please explicitly cast to a compatible dtype first.\n",
      "  df_solar_full.loc[hour, 'flow_rate'] = solution.root\n"
     ]
    },
    {
     "name": "stdout",
     "output_type": "stream",
     "text": [
      "5 panel(s) is sufficient with variable speed operation\n"
     ]
    }
   ],
   "source": [
    "## Increase number of panels until sufficient amount to cover all historical days with variable speed operation\n",
    "\n",
    "flag = 0 # flag == 0 --> insufficient number of panels, flag == 1 --> sufficient number of panels found \n",
    "n_panels = 1 # number of panels to use\n",
    "\n",
    "while flag == 0: \n",
    "    count = 0 \n",
    "    #Calculate solar panel power production for all days with n panels\n",
    "    loc = location.Location(18.541, -69.990, -4.00, 32.0) #CEBIVE\n",
    "    solpos = loc.get_solarposition(weather_full.index)\n",
    "    module_parameters = {'pdc0': 0.35, 'gamma_pdc': -0.004, 'b': 0.05} #350W pannel \n",
    "    temp_params = TEMPERATURE_MODEL_PARAMETERS['sapm']['open_rack_glass_glass']\n",
    "\n",
    "    array_full = pvsystem.Array(mount=pvsystem.FixedMount(20, 180),\n",
    "                        module_parameters=module_parameters,\n",
    "                        temperature_model_parameters=temp_params, modules_per_string=n_panels)\n",
    "    system_full = pvsystem.PVSystem(arrays=[array_full], inverter_parameters={'pdc0': 5, 'eta_inv_nom':0.95, 'strings_per_inverter':1 })\n",
    "    mc_full = modelchain.ModelChain(system_full, loc, spectral_model='no_loss')\n",
    "    _ = mc_full.run_model(weather_full)\n",
    "\n",
    "    df_solar_full = pd.DataFrame({'solar_power': mc_full.results.ac})\n",
    "\n",
    "    #Calculate the flow rate [m3/s] for each hour for variable speed pump \n",
    "    df_solar_full['flow_rate'] = 0 #initialize column\n",
    "    # Iterate over the index of df_solar_full directly\n",
    "    for hour in df_solar_full.index:\n",
    "        if df_solar_full.loc[hour, 'solar_power'] >= max_power:\n",
    "            df_solar_full.loc[hour, 'flow_rate'] = max_flow_rate\n",
    "        elif df_solar_full.loc[hour, 'solar_power'] == 0:\n",
    "            #Handle the case when solar power is zero \n",
    "            df_solar_full.loc[hour, 'flow_rate'] = 0\n",
    "        else:\n",
    "            # Use root_scalar to find the root of the pump curve equation\n",
    "            solution = scipy.optimize.root_scalar(lambda x: root_pump_curve(a, b, c, d, df_solar_full.loc[hour, 'solar_power'], x), x0=max_flow_rate)\n",
    "            df_solar_full.loc[hour, 'flow_rate'] = solution.root\n",
    "\n",
    "    # SAFETY: Check for negative flow rates\n",
    "    negative_flow_rates = df_solar_full[df_solar_full['flow_rate'] < 0]\n",
    "    if not negative_flow_rates.empty:\n",
    "        raise ValueError(f\"Negative flow rates found in hours: {negative_flow_rates.index.tolist()}\")\n",
    "\n",
    "\n",
    "    # Assuming constant flow rate over each hour, calculate the total daily pumpible water \n",
    "    df_solar_full['flow_rate_hourly']= df_solar_full['flow_rate'] * 3600\n",
    "    df_daily_irrigation['1ha variable speed'] =  df_solar_full['flow_rate_hourly'].resample('D').sum()\n",
    "\n",
    "    #Is the possible irrigaiation with variable speed operation sufficient  with n_panels? \n",
    "    day_flag = 0 # flag == 0 --> insufficient number of panels, flag == 1 --> sufficient number of panels found\n",
    "    for day in df_daily_irrigation.index:\n",
    "        if df_daily_irrigation['1 ha'].loc[day] > df_daily_irrigation['1ha variable speed'].loc[day]:\n",
    "            #print(f'{n_panels} panel(s) is not sufficient with variable speed operation, on {day} the irrigation deficit is {df_daily_irrigation[\"1 ha\"].loc[day] - df_daily_irrigation[\"1ha variable speed\"].loc[day]} m3')\n",
    "            count += 1\n",
    "            day_flag = 1\n",
    "        \n",
    "    if day_flag == 1:\n",
    "        print(f'{count} days are not covered with variable speed direct-drive operation with {n_panels} panels')\n",
    "        n_panels += 1\n",
    "    else:\n",
    "        flag = 1\n",
    "        print(f'{n_panels} panel(s) is sufficient with variable speed operation')\n",
    "\n",
    "    if n_panels > 10: #safety check\n",
    "        raise ValueError('the number of PV panels required is greater than 10')         \n",
    "\n",
    "\n",
    "#Takes a bit over 4 mins to run"
   ]
  },
  {
   "cell_type": "code",
   "execution_count": 145,
   "metadata": {},
   "outputs": [
    {
     "data": {
      "text/plain": [
       "([<matplotlib.axis.XTick at 0x13170c3d0>,\n",
       "  <matplotlib.axis.XTick at 0x131702710>,\n",
       "  <matplotlib.axis.XTick at 0x131701e90>],\n",
       " [Text(2, 0, '2'), Text(3, 0, '3'), Text(4, 0, '4')])"
      ]
     },
     "execution_count": 145,
     "metadata": {},
     "output_type": "execute_result"
    },
    {
     "data": {
      "image/png": "[encoded data removed]",
      "text/plain": [
       "<Figure size 640x480 with 1 Axes>"
      ]
     },
     "metadata": {},
     "output_type": "display_data"
    }
   ],
   "source": [
    "PV_panels = [2, 3, 4]\n",
    "days = [8,2,1]\n",
    "\n",
    "plt.bar(PV_panels, days)\n",
    "plt.xlabel('Number of PV panels')\n",
    "plt.ylabel('Number of Days irrigation needs not met')\n",
    "plt.xticks([2,3,4])\n",
    "\n"
   ]
  },
  {
   "cell_type": "markdown",
   "metadata": {},
   "source": [
    "## Battery system sizing optimization \n",
    "\n",
    "+ 1ha\n",
    "+ Lithium-ion\n"
   ]
  },
  {
   "cell_type": "code",
   "execution_count": 14,
   "metadata": {
    "tags": [
     "parameters"
    ]
   },
   "outputs": [],
   "source": [
    "# Lithium-ion battery characterisitics \n",
    "\n",
    "eta_charge = 0.95\n",
    "eta_discharge = 0.95\n",
    "SOC_min = 0.05 #5%\n",
    "SOC_initial = 0.95 #100%\n",
    "SOC_max = 0.95 #90%\n",
    "deprciation = 0.001632 #depreciation per day for 8% per month\n",
    "capacity = 0.1 #kWh"
   ]
  },
  {
   "cell_type": "code",
   "execution_count": 128,
   "metadata": {},
   "outputs": [
    {
     "name": "stdout",
     "output_type": "stream",
     "text": [
      "1 panels is not sufficient with battery operation, on 2010-01-03 the energy deficit is 0.029241209860041195 kWh\n"
     ]
    },
    {
     "ename": "KeyboardInterrupt",
     "evalue": "",
     "output_type": "error",
     "traceback": [
      "\u001b[0;31m---------------------------------------------------------------------------\u001b[0m",
      "\u001b[0;31mKeyboardInterrupt\u001b[0m                         Traceback (most recent call last)",
      "Cell \u001b[0;32mIn[128], line 27\u001b[0m\n\u001b[1;32m     25\u001b[0m Q_day \u001b[38;5;241m=\u001b[39m \u001b[38;5;241m0\u001b[39m \u001b[38;5;66;03m# m3 of water irrigated on day \u001b[39;00m\n\u001b[1;32m     26\u001b[0m Q_needed \u001b[38;5;241m=\u001b[39m df_daily_irrigation[\u001b[38;5;124m'\u001b[39m\u001b[38;5;124m1 ha\u001b[39m\u001b[38;5;124m'\u001b[39m]\u001b[38;5;241m.\u001b[39mloc[day\u001b[38;5;241m.\u001b[39mstrftime(\u001b[38;5;124m'\u001b[39m\u001b[38;5;124m%\u001b[39m\u001b[38;5;124mY-\u001b[39m\u001b[38;5;124m%\u001b[39m\u001b[38;5;124mm-\u001b[39m\u001b[38;5;132;01m%d\u001b[39;00m\u001b[38;5;124m'\u001b[39m)] \u001b[38;5;66;03m#required irrigation in m3 \u001b[39;00m\n\u001b[0;32m---> 27\u001b[0m power_day \u001b[38;5;241m=\u001b[39m \u001b[43mdf_solar_battery\u001b[49m\u001b[43m[\u001b[49m\u001b[38;5;124;43m'\u001b[39;49m\u001b[38;5;124;43msolar_power\u001b[39;49m\u001b[38;5;124;43m'\u001b[39;49m\u001b[43m]\u001b[49m\u001b[38;5;241;43m.\u001b[39;49m\u001b[43mloc\u001b[49m\u001b[43m[\u001b[49m\u001b[43mday\u001b[49m\u001b[38;5;241;43m.\u001b[39;49m\u001b[43mstrftime\u001b[49m\u001b[43m(\u001b[49m\u001b[38;5;124;43m'\u001b[39;49m\u001b[38;5;124;43m%\u001b[39;49m\u001b[38;5;124;43mY-\u001b[39;49m\u001b[38;5;124;43m%\u001b[39;49m\u001b[38;5;124;43mm-\u001b[39;49m\u001b[38;5;132;43;01m%d\u001b[39;49;00m\u001b[38;5;124;43m'\u001b[39;49m\u001b[43m)\u001b[49m\u001b[43m]\u001b[49m\n\u001b[1;32m     29\u001b[0m \u001b[38;5;28;01mfor\u001b[39;00m hour \u001b[38;5;129;01min\u001b[39;00m data\u001b[38;5;241m.\u001b[39mindex\u001b[38;5;241m.\u001b[39mhour:\n\u001b[1;32m     30\u001b[0m     deficit \u001b[38;5;241m=\u001b[39m Q_needed \u001b[38;5;241m-\u001b[39m Q_day\n",
      "File \u001b[0;32m/usr/local/lib/python3.11/site-packages/pandas/core/indexing.py:1153\u001b[0m, in \u001b[0;36m_LocationIndexer.__getitem__\u001b[0;34m(self, key)\u001b[0m\n\u001b[1;32m   1150\u001b[0m axis \u001b[38;5;241m=\u001b[39m \u001b[38;5;28mself\u001b[39m\u001b[38;5;241m.\u001b[39maxis \u001b[38;5;129;01mor\u001b[39;00m \u001b[38;5;241m0\u001b[39m\n\u001b[1;32m   1152\u001b[0m maybe_callable \u001b[38;5;241m=\u001b[39m com\u001b[38;5;241m.\u001b[39mapply_if_callable(key, \u001b[38;5;28mself\u001b[39m\u001b[38;5;241m.\u001b[39mobj)\n\u001b[0;32m-> 1153\u001b[0m \u001b[38;5;28;01mreturn\u001b[39;00m \u001b[38;5;28;43mself\u001b[39;49m\u001b[38;5;241;43m.\u001b[39;49m\u001b[43m_getitem_axis\u001b[49m\u001b[43m(\u001b[49m\u001b[43mmaybe_callable\u001b[49m\u001b[43m,\u001b[49m\u001b[43m \u001b[49m\u001b[43maxis\u001b[49m\u001b[38;5;241;43m=\u001b[39;49m\u001b[43maxis\u001b[49m\u001b[43m)\u001b[49m\n",
      "File \u001b[0;32m/usr/local/lib/python3.11/site-packages/pandas/core/indexing.py:1393\u001b[0m, in \u001b[0;36m_LocIndexer._getitem_axis\u001b[0;34m(self, key, axis)\u001b[0m\n\u001b[1;32m   1391\u001b[0m \u001b[38;5;66;03m# fall thru to straight lookup\u001b[39;00m\n\u001b[1;32m   1392\u001b[0m \u001b[38;5;28mself\u001b[39m\u001b[38;5;241m.\u001b[39m_validate_key(key, axis)\n\u001b[0;32m-> 1393\u001b[0m \u001b[38;5;28;01mreturn\u001b[39;00m \u001b[38;5;28;43mself\u001b[39;49m\u001b[38;5;241;43m.\u001b[39;49m\u001b[43m_get_label\u001b[49m\u001b[43m(\u001b[49m\u001b[43mkey\u001b[49m\u001b[43m,\u001b[49m\u001b[43m \u001b[49m\u001b[43maxis\u001b[49m\u001b[38;5;241;43m=\u001b[39;49m\u001b[43maxis\u001b[49m\u001b[43m)\u001b[49m\n",
      "File \u001b[0;32m/usr/local/lib/python3.11/site-packages/pandas/core/indexing.py:1343\u001b[0m, in \u001b[0;36m_LocIndexer._get_label\u001b[0;34m(self, label, axis)\u001b[0m\n\u001b[1;32m   1341\u001b[0m \u001b[38;5;28;01mdef\u001b[39;00m \u001b[38;5;21m_get_label\u001b[39m(\u001b[38;5;28mself\u001b[39m, label, axis: AxisInt):\n\u001b[1;32m   1342\u001b[0m     \u001b[38;5;66;03m# GH#5567 this will fail if the label is not present in the axis.\u001b[39;00m\n\u001b[0;32m-> 1343\u001b[0m     \u001b[38;5;28;01mreturn\u001b[39;00m \u001b[38;5;28;43mself\u001b[39;49m\u001b[38;5;241;43m.\u001b[39;49m\u001b[43mobj\u001b[49m\u001b[38;5;241;43m.\u001b[39;49m\u001b[43mxs\u001b[49m\u001b[43m(\u001b[49m\u001b[43mlabel\u001b[49m\u001b[43m,\u001b[49m\u001b[43m \u001b[49m\u001b[43maxis\u001b[49m\u001b[38;5;241;43m=\u001b[39;49m\u001b[43maxis\u001b[49m\u001b[43m)\u001b[49m\n",
      "File \u001b[0;32m/usr/local/lib/python3.11/site-packages/pandas/core/generic.py:4236\u001b[0m, in \u001b[0;36mNDFrame.xs\u001b[0;34m(self, key, axis, level, drop_level)\u001b[0m\n\u001b[1;32m   4234\u001b[0m             new_index \u001b[38;5;241m=\u001b[39m index[loc]\n\u001b[1;32m   4235\u001b[0m \u001b[38;5;28;01melse\u001b[39;00m:\n\u001b[0;32m-> 4236\u001b[0m     loc \u001b[38;5;241m=\u001b[39m \u001b[43mindex\u001b[49m\u001b[38;5;241;43m.\u001b[39;49m\u001b[43mget_loc\u001b[49m\u001b[43m(\u001b[49m\u001b[43mkey\u001b[49m\u001b[43m)\u001b[49m\n\u001b[1;32m   4238\u001b[0m     \u001b[38;5;28;01mif\u001b[39;00m \u001b[38;5;28misinstance\u001b[39m(loc, np\u001b[38;5;241m.\u001b[39mndarray):\n\u001b[1;32m   4239\u001b[0m         \u001b[38;5;28;01mif\u001b[39;00m loc\u001b[38;5;241m.\u001b[39mdtype \u001b[38;5;241m==\u001b[39m np\u001b[38;5;241m.\u001b[39mbool_:\n",
      "File \u001b[0;32m/usr/local/lib/python3.11/site-packages/pandas/core/indexes/datetimes.py:611\u001b[0m, in \u001b[0;36mDatetimeIndex.get_loc\u001b[0;34m(self, key)\u001b[0m\n\u001b[1;32m    609\u001b[0m \u001b[38;5;28;01mif\u001b[39;00m \u001b[38;5;28mself\u001b[39m\u001b[38;5;241m.\u001b[39m_can_partial_date_slice(reso):\n\u001b[1;32m    610\u001b[0m     \u001b[38;5;28;01mtry\u001b[39;00m:\n\u001b[0;32m--> 611\u001b[0m         \u001b[38;5;28;01mreturn\u001b[39;00m \u001b[38;5;28;43mself\u001b[39;49m\u001b[38;5;241;43m.\u001b[39;49m\u001b[43m_partial_date_slice\u001b[49m\u001b[43m(\u001b[49m\u001b[43mreso\u001b[49m\u001b[43m,\u001b[49m\u001b[43m \u001b[49m\u001b[43mparsed\u001b[49m\u001b[43m)\u001b[49m\n\u001b[1;32m    612\u001b[0m     \u001b[38;5;28;01mexcept\u001b[39;00m \u001b[38;5;167;01mKeyError\u001b[39;00m \u001b[38;5;28;01mas\u001b[39;00m err:\n\u001b[1;32m    613\u001b[0m         \u001b[38;5;28;01mraise\u001b[39;00m \u001b[38;5;167;01mKeyError\u001b[39;00m(key) \u001b[38;5;28;01mfrom\u001b[39;00m \u001b[38;5;21;01merr\u001b[39;00m\n",
      "File \u001b[0;32m/usr/local/lib/python3.11/site-packages/pandas/core/indexes/datetimelike.py:301\u001b[0m, in \u001b[0;36mDatetimeIndexOpsMixin._partial_date_slice\u001b[0;34m(self, reso, parsed)\u001b[0m\n\u001b[1;32m    298\u001b[0m \u001b[38;5;28;01mif\u001b[39;00m \u001b[38;5;129;01mnot\u001b[39;00m \u001b[38;5;28mself\u001b[39m\u001b[38;5;241m.\u001b[39m_can_partial_date_slice(reso):\n\u001b[1;32m    299\u001b[0m     \u001b[38;5;28;01mraise\u001b[39;00m \u001b[38;5;167;01mValueError\u001b[39;00m\n\u001b[0;32m--> 301\u001b[0m t1, t2 \u001b[38;5;241m=\u001b[39m \u001b[38;5;28;43mself\u001b[39;49m\u001b[38;5;241;43m.\u001b[39;49m\u001b[43m_parsed_string_to_bounds\u001b[49m\u001b[43m(\u001b[49m\u001b[43mreso\u001b[49m\u001b[43m,\u001b[49m\u001b[43m \u001b[49m\u001b[43mparsed\u001b[49m\u001b[43m)\u001b[49m\n\u001b[1;32m    302\u001b[0m vals \u001b[38;5;241m=\u001b[39m \u001b[38;5;28mself\u001b[39m\u001b[38;5;241m.\u001b[39m_data\u001b[38;5;241m.\u001b[39m_ndarray\n\u001b[1;32m    303\u001b[0m unbox \u001b[38;5;241m=\u001b[39m \u001b[38;5;28mself\u001b[39m\u001b[38;5;241m.\u001b[39m_data\u001b[38;5;241m.\u001b[39m_unbox\n",
      "File \u001b[0;32m/usr/local/lib/python3.11/site-packages/pandas/core/indexes/datetimes.py:539\u001b[0m, in \u001b[0;36mDatetimeIndex._parsed_string_to_bounds\u001b[0;34m(self, reso, parsed)\u001b[0m\n\u001b[1;32m    524\u001b[0m \u001b[38;5;250m\u001b[39m\u001b[38;5;124;03m\"\"\"\u001b[39;00m\n\u001b[1;32m    525\u001b[0m \u001b[38;5;124;03mCalculate datetime bounds for parsed time string and its resolution.\u001b[39;00m\n\u001b[1;32m    526\u001b[0m \n\u001b[0;32m   (...)\u001b[0m\n\u001b[1;32m    536\u001b[0m \u001b[38;5;124;03mlower, upper: pd.Timestamp\u001b[39;00m\n\u001b[1;32m    537\u001b[0m \u001b[38;5;124;03m\"\"\"\u001b[39;00m\n\u001b[1;32m    538\u001b[0m per \u001b[38;5;241m=\u001b[39m Period(parsed, freq\u001b[38;5;241m=\u001b[39mreso\u001b[38;5;241m.\u001b[39mattr_abbrev)\n\u001b[0;32m--> 539\u001b[0m start, end \u001b[38;5;241m=\u001b[39m \u001b[43mper\u001b[49m\u001b[38;5;241;43m.\u001b[39;49m\u001b[43mstart_time\u001b[49m, per\u001b[38;5;241m.\u001b[39mend_time\n\u001b[1;32m    541\u001b[0m \u001b[38;5;66;03m# GH 24076\u001b[39;00m\n\u001b[1;32m    542\u001b[0m \u001b[38;5;66;03m# If an incoming date string contained a UTC offset, need to localize\u001b[39;00m\n\u001b[1;32m    543\u001b[0m \u001b[38;5;66;03m# the parsed date to this offset first before aligning with the index's\u001b[39;00m\n\u001b[1;32m    544\u001b[0m \u001b[38;5;66;03m# timezone\u001b[39;00m\n\u001b[1;32m    545\u001b[0m start \u001b[38;5;241m=\u001b[39m start\u001b[38;5;241m.\u001b[39mtz_localize(parsed\u001b[38;5;241m.\u001b[39mtzinfo)\n",
      "File \u001b[0;32mperiod.pyx:1651\u001b[0m, in \u001b[0;36mpandas._libs.tslibs.period.PeriodMixin.start_time.__get__\u001b[0;34m()\u001b[0m\n",
      "File \u001b[0;32mperiod.pyx:1998\u001b[0m, in \u001b[0;36mpandas._libs.tslibs.period._Period.to_timestamp\u001b[0;34m()\u001b[0m\n",
      "File \u001b[0;32mperiod.pyx:1938\u001b[0m, in \u001b[0;36mpandas._libs.tslibs.period._Period.asfreq\u001b[0;34m()\u001b[0m\n",
      "File \u001b[0;32mperiod.pyx:1762\u001b[0m, in \u001b[0;36mpandas._libs.tslibs.period._Period._maybe_convert_freq\u001b[0;34m()\u001b[0m\n",
      "File \u001b[0;32moffsets.pyx:4540\u001b[0m, in \u001b[0;36mpandas._libs.tslibs.offsets.to_offset\u001b[0;34m()\u001b[0m\n",
      "File \u001b[0;32mtimedeltas.pyx:1888\u001b[0m, in \u001b[0;36mpandas._libs.tslibs.timedeltas.Timedelta.__new__\u001b[0;34m()\u001b[0m\n",
      "File \u001b[0;32mtimedeltas.pyx:958\u001b[0m, in \u001b[0;36mpandas._libs.tslibs.timedeltas._timedelta_from_value_and_reso\u001b[0;34m()\u001b[0m\n",
      "\u001b[0;31mKeyboardInterrupt\u001b[0m: "
     ]
    }
   ],
   "source": [
    "#sizing number of panels if energy can be stored over time with battery\n",
    "\n",
    "n_panels_battery = 1 #number of panels\n",
    "flag = 0 #flag == 0 --> insufficient number of panels, flag == 1 --> sufficient number of panels found\n",
    "\n",
    "while flag == 0: \n",
    "    #solar power production for historical data with n_panels_battery \n",
    "    loc = location.Location(18.541, -69.990, -4.00, 32.0) #CEBIVE\n",
    "    solpos = loc.get_solarposition(weather_full.index)\n",
    "    module_parameters = {'pdc0': 0.35, 'gamma_pdc': -0.004, 'b': 0.05} #350W pannel \n",
    "    temp_params = TEMPERATURE_MODEL_PARAMETERS['sapm']['open_rack_glass_glass']\n",
    "\n",
    "    array_full = pvsystem.Array(mount=pvsystem.FixedMount(20, 180),\n",
    "                        module_parameters=module_parameters,\n",
    "                        temperature_model_parameters=temp_params, modules_per_string=n_panels_battery)\n",
    "    system_full = pvsystem.PVSystem(arrays=[array_full], inverter_parameters={'pdc0': 5, 'eta_inv_nom':0.95, 'strings_per_inverter':1 })\n",
    "    mc_full = modelchain.ModelChain(system_full, loc, spectral_model='no_loss')\n",
    "    _ = mc_full.run_model(weather_full)\n",
    "    df_solar_battery = pd.DataFrame({'solar_power': mc_full.results.ac})\n",
    "\n",
    "    E_stored = [0] #kWh, battery energy stored over time\n",
    "    day_flag = 0 \n",
    "    #seeing if enough power is available each day given n_panels_battery\n",
    "    for day, data in df_solar_battery.groupby(df_solar_battery.index.date):\n",
    "        Q_day = 0 # m3 of water irrigated on day \n",
    "        Q_needed = df_daily_irrigation['1 ha'].loc[day.strftime('%Y-%m-%d')] #required irrigation in m3 \n",
    "        power_day = df_solar_battery['solar_power'].loc[day.strftime('%Y-%m-%d')]\n",
    "        \n",
    "        for hour in data.index.hour:\n",
    "            deficit = Q_needed - Q_day\n",
    "            power = power_day.iloc[hour] #Power available to pump on that hour\n",
    "\n",
    "            if deficit > 0: #Need to irrigate more water\n",
    "\n",
    "                if (power >= max_power) & (deficit > max_flow_rate * 3600): #Power is greater than max power so irrigate max possinle amount \n",
    "                    Q_day += max_flow_rate * 3600\n",
    "                    E_stored.append(E_stored[-1] + (power-max_power) * eta_charge) #kWh\n",
    "\n",
    "                elif (power >= max_power) & (deficit <= max_flow_rate * 3600): #power is greater than max power but dont need to pump max amount\n",
    "                   P_used = a * (deficit/3600)**3 + b * (deficit/3600)**2 + c * (deficit/3600) + d #power used to pump\n",
    "                   Q_day += deficit\n",
    "                   E_stored.append(E_stored[-1] + (power-P_used) * eta_charge) #kWh\n",
    "\n",
    "                elif (power == 0): \n",
    "                    #no energy stored\n",
    "                    Q_day += 0\n",
    "                else: #power is less than max power, but still need to pump \n",
    "                    Q_possible = scipy.optimize.root_scalar(lambda x: root_pump_curve(a, b, c, d, power, x), x0=max_flow_rate)\n",
    "                    Q_day += Q_possible.root * 3600\n",
    "                    #no energy stored\n",
    "\n",
    "            else: #dont need to irrigate more\n",
    "                E_stored.append(E_stored[-1]+power*eta_charge) #all  energy is stored in battery \n",
    "\n",
    "        if deficit > 0: #still need to irrigate more after all possible pumping hours have been exhausted\n",
    "            #Use energy stored to pump --> Assume always pumping at max flow rate\n",
    "            time_pump = (deficit / 3600)/ max_flow_rate \n",
    "            E_pump = max_power * time_pump / eta_discharge\n",
    "\n",
    "            if E_stored[-1] > E_pump: #if enough energy is stored to pump\n",
    "                E_stored.append(E_stored[-1] - E_pump)\n",
    "            else: #if not enough energy is stored to pump\n",
    "                print(f'{n_panels_battery} panels is not sufficient with battery operation, on {day} the energy deficit is {E_pump - E_stored[-1]} kWh')\n",
    "                day_flag = 1 #flag == 1 --> n_panels_battery is not sufficient with battery operation over historical data\n",
    "            \n",
    "    if day_flag == 1: #after checking all days, if n_panels_battery is not sufficient with battery operation\n",
    "        n_panels_battery+=1   \n",
    "    else: #after checking all days, n_panels_battery is sufficient with battery operation  \n",
    "        flag = 1 \n",
    "        print(f'{n_panels_battery} panels is sufficient with battery operation over historical data')\n",
    "\n",
    "    if n_panels_battery > 10: #safety check\n",
    "        raise ValueError('the number of PV panels required is greater than 10')\n",
    "    \n",
    "## BUT, this assumes the storage is empty at the beginning of the year, the next cell amounts for the fact that is full "
   ]
  },
  {
   "cell_type": "code",
   "execution_count": 15,
   "metadata": {},
   "outputs": [
    {
     "name": "stdout",
     "output_type": "stream",
     "text": [
      "the required number of Lithium-ion batteries is more than 10 for 1 panels\n",
      "10 Lithium-Ion batteries is sufficient with 2 panels over historical data\n",
      "6 Lithium-Ion batteries is sufficient with 3 panels over historical data\n",
      "1 Lithium-Ion batteries is sufficient with 4 panels over historical data\n",
      "0 Lithium-Ion batteries is sufficient with 5 panels over historical data\n"
     ]
    }
   ],
   "source": [
    "# Find minimum number of batteries required to cover all historical days 1 through 5 PV pannels \n",
    "\n",
    "for n_panels_battery in range(1, 6): #number of panels\n",
    "    n_batteries = 0 #number of batteries in the string \n",
    "    flag = 0 #flag == 0 --> insufficient battery capacity found, flag == 1 --> sufficient battery capacity found\n",
    "\n",
    "    #Calculate solar power output with n_pannels_battery\n",
    "    loc = location.Location(18.541, -69.990, -4.00, 32.0) #CEBIVE\n",
    "    solpos = loc.get_solarposition(weather_full.index)\n",
    "    module_parameters = {'pdc0': 0.35, 'gamma_pdc': -0.004, 'b': 0.05} #350W pannel \n",
    "    temp_params = TEMPERATURE_MODEL_PARAMETERS['sapm']['open_rack_glass_glass']\n",
    "\n",
    "    array_full = pvsystem.Array(mount=pvsystem.FixedMount(20, 180),\n",
    "                        module_parameters=module_parameters,\n",
    "                        temperature_model_parameters=temp_params, modules_per_string=n_panels_battery)\n",
    "    system_full = pvsystem.PVSystem(arrays=[array_full], inverter_parameters={'pdc0': 5, 'eta_inv_nom':0.95, 'strings_per_inverter':1 })\n",
    "    mc_full = modelchain.ModelChain(system_full, loc, spectral_model='no_loss')\n",
    "    _ = mc_full.run_model(weather_full)\n",
    "    df_solar_battery = pd.DataFrame({'solar_power': mc_full.results.ac})\n",
    "    \n",
    "\n",
    "    #find minimum number of batteries needed to cover all historical days \n",
    "    while flag == 0:\n",
    "        battery_capacity = capacity * n_batteries #kWh\n",
    "        min_SOC = SOC_min * battery_capacity\n",
    "        max_SOC = SOC_max * battery_capacity\n",
    "        E_stored = [battery_capacity] #kWh, battery energy stored over time, initially full \n",
    "        day_flag = 0 \n",
    "        for day, data in df_solar_battery.groupby(df_solar_battery.index.date):\n",
    "            Q_day = 0 # m3 of water irrigated on day \n",
    "            Q_needed = df_daily_irrigation['1 ha'].loc[day.strftime('%Y-%m-%d')] #required irrigation in m3 \n",
    "            power_day = df_solar_battery['solar_power'].loc[day.strftime('%Y-%m-%d')]\n",
    "            \n",
    "            for hour in data.index.hour:\n",
    "                deficit = Q_needed - Q_day\n",
    "                power = power_day.iloc[hour] #Power available to pump on that hour\n",
    "\n",
    "                if deficit > 0: #Need to irrigate more water\n",
    "                    if (power >= max_power) & (deficit > max_flow_rate * 3600): #Power is greater than max power so irrigate max possinle amount \n",
    "                        Q_day += max_flow_rate * 3600\n",
    "                        E_storable = (power- max_power) * eta_charge #kWh\n",
    "                    elif (power >= max_power) & (deficit <= max_flow_rate * 3600): #power is greater than max power but dont need to pump max amount\n",
    "                        P_used = a * (deficit/3600)**3 + b * (deficit/3600)**2 + c * (deficit/3600) + d #power used to pump\n",
    "                        Q_day += deficit\n",
    "                        E_storable = (power- P_used) * eta_charge #kWh    \n",
    "                    elif (power == 0): \n",
    "                        E_storable = 0 #no energy stored\n",
    "                        Q_day += 0\n",
    "                    elif (power < max_power): #power is less than max power, but still need to pump \n",
    "                        Q_possible = scipy.optimize.root_scalar(lambda x: root_pump_curve(a, b, c, d, power, x), x0=max_flow_rate)\n",
    "                        E_storable = 0 #no energy stored\n",
    "                        if Q_possible.root*3600 >= deficit:\n",
    "                            Q_day += deficit\n",
    "                        else:\n",
    "                            Q_day += Q_possible.root * 3600\n",
    "                    \n",
    "\n",
    "                else: #dont need to irrigate more\n",
    "                    E_storable =power*eta_charge \n",
    "\n",
    "                #Store energy\n",
    "                if (E_storable + E_stored[-1]*(1-deprciation)) <= max_SOC:\n",
    "                    E_stored.append(E_stored[-1]*(1-deprciation) + E_storable) #kWh\n",
    "                else: #if more energy than battery can store, only store what battery can store\n",
    "                    E_stored.append(max_SOC) #kWh\n",
    "                \n",
    "            \n",
    "                \n",
    "            if deficit > 0: #still need to irrigate more after all possible pumping hours have been exhausted\n",
    "                \n",
    "                #Use energy stored to pump --> Assume always pumping at max flow rate\n",
    "                time_pump = (deficit / 3600)/ max_flow_rate \n",
    "                E_pump = (max_power * time_pump) / eta_discharge\n",
    "\n",
    "                \n",
    "                if (E_stored[-1] - E_pump) >= min_SOC: #if enough energy is stored to pump\n",
    "                    E_stored.append(E_stored[-1]*(1-deprciation) - E_pump)\n",
    "                else: #if not enough energy is stored to pump\n",
    "                    #print(f'{n_batteries} batteries is not sufficient with {n_panels_battery} panels, on {day} the energy deficit is {E_pump - (E_stored[-1]- min_SOC)} kWh')\n",
    "                    day_flag = 1 #flag == 1 --> n_panels_battery is not sufficient with battery operation over historical data\n",
    "\n",
    "        if day_flag == 1: #after checking all days, if n_batteries is not sufficient with n_panels_battery\n",
    "            n_batteries+=1\n",
    "        else: #after checking all days, n_batteries is sufficient with n_panels_battery\n",
    "            flag = 1 \n",
    "            print(f'{n_batteries} Lithium-Ion batteries is sufficient with {n_panels_battery} panels over historical data')\n",
    "                \n",
    "                    \n",
    "        if n_batteries > 10: #safety check\n",
    "            print(f'the required number of Lithium-ion batteries is more than 10 for {n_panels_battery} panels')\n",
    "            flag = 1\n",
    "            \n",
    "        \n",
    "    #Takes 7m 55 with max 10 batteries\n",
    "\n"
   ]
  },
  {
   "cell_type": "markdown",
   "metadata": {},
   "source": [
    "## Solar sizing with Tank configuration \n",
    "+ 1 ha "
   ]
  },
  {
   "cell_type": "code",
   "execution_count": null,
   "metadata": {},
   "outputs": [],
   "source": [
    "#TODO 1. find needed height of tank to create sufficieent pressure/flow rate\n",
    "#       2. Define min SOC of tank (to create sufficient flow rate)\n",
    "#       3. figure out evaporation/loss rate\n",
    "#       4. Assuming always max flow rate as output of tank, "
   ]
  },
  {
   "cell_type": "code",
   "execution_count": 99,
   "metadata": {},
   "outputs": [
    {
     "name": "stdout",
     "output_type": "stream",
     "text": [
      " the maximum head of the system is 17.835511238939677m so the tank height is 17.835511238939677 m\n"
     ]
    }
   ],
   "source": [
    "#Determinig needed height of tank to create sufficient pressure/flow rate\n",
    "\n",
    "def system_curve (Q): \n",
    "    \"based on a given flow rate (Q) in L/min return the Head (m) of the 1ha system with values for polyfit (DripNetwork.ipynb)\"\n",
    "    return 0.004718754073931565 * (Q**2) + 0.04734825179183301 * Q \n",
    "\n",
    "def total_system_curve (Q):\n",
    "    \"based on a given flow rate (Q) L/mim return the Head (m) including static head of the 3ha system with values for polyfit (DripNetwork.ipynb)\"\n",
    "    return system_curve(Q) + 60.78973049433738\n",
    "\n",
    "max_system_head = system_curve(max_flow_rate * 60 * 1000)\n",
    "print(f\" the maximum head of the system is {max_system_head}m so the tank height is {max_system_head} m\")\n",
    "\n"
   ]
  },
  {
   "cell_type": "code",
   "execution_count": 98,
   "metadata": {},
   "outputs": [],
   "source": [
    "def tank_pump_curve (Q):\n",
    "    \"\"\"based on a given flow rate (Q) in m3/s return the electrical Power (kW) of the pump for the tank configuration (H = 80.8) with variable speed op\n",
    "        from PumpCurve.ipynb\"\"\"\n",
    "    return 152054186.35597843*Q**3 + -172700.38396421436*Q**2 + 357.18109285749836*Q + -0.005691445084420055\n",
    "\n",
    "tank_max_flow_rate = 0.003072606294153521 #m3/s\n",
    "tank_max_power = tank_pump_curve(tank_max_fow_rate) \n",
    "\n",
    "def tank_system_curve_root(P, Q):\n",
    "    return 152054186.35597843 * Q**3 - 172700.38396421436 * Q**2 + 357.18109285749836 * Q - 0.005691445084420055 - P\n",
    "\n"
   ]
  },
  {
   "cell_type": "markdown",
   "metadata": {},
   "source": [
    "#### 20 meters typically maximum so can only work for 1 ha farm for plantains "
   ]
  },
  {
   "cell_type": "code",
   "execution_count": 57,
   "metadata": {},
   "outputs": [
    {
     "name": "stdout",
     "output_type": "stream",
     "text": [
      "1 panel(s) is sufficient with tank operation\n"
     ]
    }
   ],
   "source": [
    "#calculate the pump curve (Q) for H_static + H_pump = H_tank at different powers\n",
    "# H_pump = = 80 .8 m \n",
    "#the equation of the pump curve is 445687894.59178245Q^3 + -984696.5871017603Q^2 + 854.0710206707518Q + -0.05692714507987217 for a constant H_static of 80.8m\n",
    "\n",
    "#sizing number of panels if energy can be stored over time with tank\n",
    "\n",
    "n_panels_tank = 1 #number of panels\n",
    "flag = 0 #flag == 0 --> insufficient number of panels, flag == 1 --> sufficient number of panels found\n",
    "hrly_max_out = max_flow_rate * 3600\n",
    "\n",
    "while flag == 0: \n",
    "    #solar power production for historical data with n_panels_tank \n",
    "    loc = location.Location(18.541, -69.990, -4.00, 32.0) #CEBIVE\n",
    "    solpos = loc.get_solarposition(weather_full.index)\n",
    "    module_parameters = {'pdc0': 0.35, 'gamma_pdc': -0.004, 'b': 0.05} #350W pannel \n",
    "    temp_params = TEMPERATURE_MODEL_PARAMETERS['sapm']['open_rack_glass_glass']\n",
    "\n",
    "    array_full = pvsystem.Array(mount=pvsystem.FixedMount(20, 180),\n",
    "                        module_parameters=module_parameters,\n",
    "                        temperature_model_parameters=temp_params, modules_per_string=n_panels_battery)\n",
    "    system_full = pvsystem.PVSystem(arrays=[array_full], inverter_parameters={'pdc0': 5, 'eta_inv_nom':0.95, 'strings_per_inverter':1 })\n",
    "    mc_full = modelchain.ModelChain(system_full, loc, spectral_model='no_loss')\n",
    "    _ = mc_full.run_model(weather_full)\n",
    "    df_solar_battery = pd.DataFrame({'solar_power': mc_full.results.ac})\n",
    "\n",
    "    Q_stored = [0] #m3, water stored over time\n",
    "    day_flag = 0 \n",
    "    \n",
    "    for day, data in df_solar_battery.groupby(df_solar_battery.index.date):\n",
    "        Q_day_irrigated = 0 # m3 of water irrigated on day \n",
    "        Q_needed = df_daily_irrigation['1 ha'].loc[day.strftime('%Y-%m-%d')] #required irrigation in m3 \n",
    "        power_day = df_solar_battery['solar_power'].loc[day.strftime('%Y-%m-%d')]\n",
    "        \n",
    "        for hour in data.index.hour:\n",
    "            power = power_day.iloc[hour] #Power available to pump on that hour\n",
    "            \n",
    "            #possible input into the tank\n",
    "            if power > tank_max_power:\n",
    "                Q_possible_stored = tank_max_flow_rate * 3600\n",
    "            elif power == 0:\n",
    "                Q_possible_stored = 0\n",
    "            elif power < tank_max_power:\n",
    "                sol = scipy.optimize.root_scalar(lambda x: tank_system_curve_root(power,x), x0=tank_max_fow_rate)\n",
    "                Q_possible_stored = sol.root * 3600\n",
    "            \n",
    "            Q_stored.append(Q_stored[-1] + Q_possible_stored) #stored water of that hour \n",
    "\n",
    "            #output from the tank\n",
    "            deficit = Q_needed - Q_day_irrigated #m3\n",
    "            \n",
    "            if (deficit >= hrly_max_out) & (Q_stored[-1] >= hrly_max_out):\n",
    "                Q_day_irrigated += hrly_max_out \n",
    "                Q_stored.append(Q_stored[-1] - hrly_max_out)\n",
    "\n",
    "            \n",
    "            elif (deficit >= hrly_max_out) & (Q_stored[-1] < hrly_max_out):\n",
    "                Q_day_irrigated += Q_stored[-1]\n",
    "                Q_stored.append(0)\n",
    "                \n",
    "            elif (deficit == 0) :\n",
    "                Q_day_irrigated += 0 \n",
    "                Q_stored.append(Q_stored[-1])\n",
    "            \n",
    "            elif ( 0 < deficit < hrly_max_out) & (Q_stored[-1] >= deficit):\n",
    "                Q_day_irrigated += deficit\n",
    "                Q_stored.append(Q_stored[-1] - deficit)\n",
    "            \n",
    "            elif ( 0 < deficit < hrly_max_out) & (Q_stored[-1] < deficit):\n",
    "                Q_day_irrigated += Q_stored[-1]\n",
    "                Q_stored.append(0)\n",
    "\n",
    "            \n",
    "            if Q_stored[-1] < 0:\n",
    "                raise ValueError('Q_stored is negative')\n",
    "\n",
    "        if Q_day_irrigated < Q_needed:\n",
    "            day_flag == 1 \n",
    "            print(f'on {day}, {n_panels_tank} panels is not sufficient with a tank, the irrigation deficit is {Q_needed - Q_day_irrigated} m3')\n",
    "            \n",
    "    if day_flag == 1:\n",
    "        n_panels_tank += 1\n",
    "    else:\n",
    "        flag = 1\n",
    "        print(f'{n_panels_tank} panel(s) is sufficient with tank operation')\n",
    "\n",
    "\n",
    "\n",
    "                \n",
    "            \n",
    "#1 panel is sufficient with tank operation, but what is the minimum tank size? \n"
   ]
  },
  {
   "cell_type": "code",
   "execution_count": 117,
   "metadata": {},
   "outputs": [
    {
     "name": "stdout",
     "output_type": "stream",
     "text": [
      "0m3 of tank capcitoy is NOT sufficient for 1 panel(s)\n",
      "1m3 of tank capcitoy is NOT sufficient for 1 panel(s)\n",
      "2m3 of tank capcitoy is NOT sufficient for 1 panel(s)\n",
      "3m3 of tank capcitoy is NOT sufficient for 1 panel(s)\n",
      "4m3 of tank capcitoy is NOT sufficient for 1 panel(s)\n",
      "5m3 of tank capcitoy is NOT sufficient for 1 panel(s)\n",
      "6m3 of tank capcitoy is NOT sufficient for 1 panel(s)\n",
      "7m3 of tank capcitoy is NOT sufficient for 1 panel(s)\n",
      "8m3 of tank capcitoy is NOT sufficient for 1 panel(s)\n",
      "9m3 of tank capcitoy is NOT sufficient for 1 panel(s)\n",
      "10m3 of tank capcitoy is NOT sufficient for 1 panel(s)\n",
      "11m3 of tank capcitoy is NOT sufficient for 1 panel(s)\n",
      "12m3 of tank capcitoy is NOT sufficient for 1 panel(s)\n",
      "13m3 of tank capcitoy is NOT sufficient for 1 panel(s)\n",
      "14m3 of tank capcitoy is NOT sufficient for 1 panel(s)\n",
      "15m3 of tank capcitoy is NOT sufficient for 1 panel(s)\n",
      "16m3 of tank capcitoy is NOT sufficient for 1 panel(s)\n",
      "17m3 of tank capcitoy is NOT sufficient for 1 panel(s)\n",
      "18m3 of tank capcitoy is NOT sufficient for 1 panel(s)\n",
      "19m3 of tank capcitoy is NOT sufficient for 1 panel(s)\n",
      "20m3 of tank capcitoy is NOT sufficient for 1 panel(s)\n",
      "the required tank capacity with 1 panel(s) is more than 20 m3\n",
      "0m3 of tank capcitoy is NOT sufficient for 2 panel(s)\n",
      "1m3 of tank capcitoy is NOT sufficient for 2 panel(s)\n",
      "2m3 of tank capcitoy is NOT sufficient for 2 panel(s)\n",
      "3m3 of tank capcitoy is NOT sufficient for 2 panel(s)\n",
      "4m3 of tank capcitoy is NOT sufficient for 2 panel(s)\n",
      "5m3 of tank capcitoy is NOT sufficient for 2 panel(s)\n",
      "6m3 of tank capcitoy is NOT sufficient for 2 panel(s)\n",
      "7m3 of tank capcitoy is NOT sufficient for 2 panel(s)\n",
      "8m3 of tank capcitoy is NOT sufficient for 2 panel(s)\n",
      "9m3 of tank capcitoy is NOT sufficient for 2 panel(s)\n",
      "10m3 of tank capcitoy is NOT sufficient for 2 panel(s)\n",
      "11m3 of tank capcitoy is NOT sufficient for 2 panel(s)\n",
      "12 m3 of tank capacity is sufficient with 2 panel(s)\n",
      "0m3 of tank capcitoy is NOT sufficient for 3 panel(s)\n",
      "1m3 of tank capcitoy is NOT sufficient for 3 panel(s)\n",
      "2m3 of tank capcitoy is NOT sufficient for 3 panel(s)\n",
      "3m3 of tank capcitoy is NOT sufficient for 3 panel(s)\n",
      "4m3 of tank capcitoy is NOT sufficient for 3 panel(s)\n",
      "5 m3 of tank capacity is sufficient with 3 panel(s)\n",
      "0m3 of tank capcitoy is NOT sufficient for 4 panel(s)\n",
      "1 m3 of tank capacity is sufficient with 4 panel(s)\n",
      "0 m3 of tank capacity is sufficient with 5 panel(s)\n"
     ]
    }
   ],
   "source": [
    "hlry_max_out = max_flow_rate * 3600 #m3/hr\n",
    "\n",
    "for n_panels_tank in range(1, 6):\n",
    "    Q_tank_capacity = 0 #Intial tank capacity in m3 \n",
    "    flag = 0  #flag == 0 --> insufficient tank capacity , flag == 1 --> sufficient tank capacity found\n",
    "    \n",
    "    #solar production \n",
    "    loc = location.Location(18.541, -69.990, -4.00, 32.0) #CEBIVE\n",
    "    solpos = loc.get_solarposition(weather_full.index)\n",
    "    module_parameters = {'pdc0': 0.35, 'gamma_pdc': -0.004, 'b': 0.05} #350W pannel \n",
    "    temp_params = TEMPERATURE_MODEL_PARAMETERS['sapm']['open_rack_glass_glass']\n",
    "\n",
    "    array_full = pvsystem.Array(mount=pvsystem.FixedMount(20, 180),\n",
    "                        module_parameters=module_parameters,\n",
    "                        temperature_model_parameters=temp_params, modules_per_string=n_panels_tank)\n",
    "    system_full = pvsystem.PVSystem(arrays=[array_full], inverter_parameters={'pdc0': 5, 'eta_inv_nom':0.95, 'strings_per_inverter':1 })\n",
    "    mc_full = modelchain.ModelChain(system_full, loc, spectral_model='no_loss')\n",
    "    _ = mc_full.run_model(weather_full)\n",
    "    df_solar_tank = pd.DataFrame({'solar_power': mc_full.results.ac})\n",
    "\n",
    "    while flag == 0:\n",
    "        day_flag = 0 #flag == 0 --> insufficient tank capacity , flag == 1 --> sufficient tank capacity found\n",
    "        Q_stored = [Q_tank_capacity] # assume tank is full to start with\n",
    "        \n",
    "\n",
    "        for day in df_daily_irrigation.index:\n",
    "            Q_day_irrigated = 0 # m3\n",
    "            Q_needed = df_daily_irrigation['1 ha'].loc[day.strftime('%Y-%m-%d')] #required irrigation in m3 \n",
    "            power_day = df_solar_tank['solar_power'].loc[day.strftime('%Y-%m-%d')]\n",
    "            \n",
    "            for hour in data.index.hour:\n",
    "                power = power_day.iloc[hour] #Power available to pump on that hour\n",
    "                deficit = Q_needed - Q_day_irrigated\n",
    "\n",
    "                if power >= tank_max_power:\n",
    "                    Q_in = tank_max_flow_rate * 3600  #m3/hr\n",
    "                elif (0 < power < tank_max_power):\n",
    "                    sol = scipy.optimize.root_scalar(lambda x: tank_system_curve_root(power,x), x0=tank_max_flow_rate)\n",
    "                    Q_in = sol.root * 3600\n",
    "                elif power == 0:\n",
    "                    Q_in = 0 #no water can be entered \n",
    "\n",
    "                if deficit >= hlry_max_out: #Need to irrigate more than max output\n",
    "                    if Q_in > hrly_max_out:\n",
    "                        Q_day_irrigated += hrly_max_out\n",
    "                        Q_net = Q_in - hrly_max_out\n",
    "                    else:\n",
    "                        if Q_stored[-1] >= hrly_max_out - Q_in:\n",
    "                            Q_day_irrigated += hrly_max_out\n",
    "                            Q_net = Q_in - (hrly_max_out - Q_in)\n",
    "                        else: \n",
    "                            Q_day_irrigated += Q_in + Q_stored[-1] \n",
    "                            Q_net = - Q_stored[-1]\n",
    "\n",
    "                elif (0 < deficit < hlry_max_out):\n",
    "                    if Q_in > deficit:\n",
    "                        Q_day_irrigated += deficit\n",
    "                        Q_net = Q_in - deficit\n",
    "                    else:\n",
    "                        if Q_stored[-1] >= deficit - Q_in:\n",
    "                            Q_day_irrigated += deficit\n",
    "                            Q_net = Q_in - (deficit - Q_in)\n",
    "                        else:\n",
    "                            Q_day_irrigated += Q_in + Q_stored[-1]\n",
    "                            Q_net = - Q_stored[-1]\n",
    "                else: #deficit == 0 \n",
    "                    Q_day_irrigated += 0\n",
    "                    Q_net = Q_in\n",
    "\n",
    "                if Q_stored[-1] + Q_net > Q_tank_capacity:\n",
    "                    Q_stored.append(Q_tank_capacity)\n",
    "                else:\n",
    "                    Q_stored.append(Q_stored[-1] + Q_net)\n",
    "\n",
    "                if Q_stored[-1] < 0: #safety check\n",
    "                    raise ValueError('Q_stored is negative')\n",
    "            \n",
    "            #print(f'{Q_day_irrigated}m3 was irrigated and {Q_needed}m3 was needed on {day}')\n",
    "            if Q_day_irrigated < Q_needed:\n",
    "                day_flag = 1 \n",
    "                #print(f'on {day}, {n_panels_tank} panels is not sufficient with a tank, the irrigation deficit is {Q_needed - Q_day_irrigated} m3')\n",
    "\n",
    "        if day_flag == 0:\n",
    "            flag = 1\n",
    "            print(f'{Q_tank_capacity} m3 of tank capacity is sufficient with {n_panels_tank} panel(s)')\n",
    "        else: \n",
    "            print(f'{Q_tank_capacity}m3 of tank capcitoy is NOT sufficient for {n_panels_tank} panel(s)')\n",
    "            Q_tank_capacity += 1 #m3\n",
    "\n",
    "        if Q_tank_capacity > 20: #safety check\n",
    "            print(f'the required tank capacity with {n_panels_tank} panel(s) is more than 20 m3')\n",
    "            flag = 1\n",
    "\n",
    "  \n",
    "            "
   ]
  },
  {
   "cell_type": "code",
   "execution_count": 109,
   "metadata": {},
   "outputs": [
    {
     "data": {
      "text/plain": [
       "[<matplotlib.lines.Line2D at 0x12ef031d0>]"
      ]
     },
     "execution_count": 109,
     "metadata": {},
     "output_type": "execute_result"
    },
    {
     "data": {
      "image/png": "[encoded data removed]",
      "text/plain": [
       "<Figure size 640x480 with 1 Axes>"
      ]
     },
     "metadata": {},
     "output_type": "display_data"
    }
   ],
   "source": [
    "plt.plot(Q_stored)"
   ]
  },
  {
   "cell_type": "code",
   "execution_count": 110,
   "metadata": {},
   "outputs": [
    {
     "data": {
      "text/plain": [
       "date\n",
       "2010-01-01    12.1704\n",
       "2010-01-02    13.3056\n",
       "2010-01-03     6.5208\n",
       "2010-01-04     9.5568\n",
       "2010-01-05    12.9096\n",
       "               ...   \n",
       "2023-12-27     8.9232\n",
       "2023-12-28     7.3656\n",
       "2023-12-29     6.8112\n",
       "2023-12-30     7.9464\n",
       "2023-12-31     5.1480\n",
       "Name: 1 ha, Length: 5113, dtype: float64"
      ]
     },
     "execution_count": 110,
     "metadata": {},
     "output_type": "execute_result"
    }
   ],
   "source": [
    "df_daily_irrigation['1 ha']"
   ]
  }
 ],
 "metadata": {
  "kernelspec": {
   "display_name": "Python 3",
   "language": "python",
   "name": "python3"
  },
  "language_info": {
   "codemirror_mode": {
    "name": "ipython",
    "version": 3
   },
   "file_extension": ".py",
   "mimetype": "text/x-python",
   "name": "python",
   "nbconvert_exporter": "python",
   "pygments_lexer": "ipython3",
   "version": "3.11.5"
  }
 },
 "nbformat": 4,
 "nbformat_minor": 2
}
