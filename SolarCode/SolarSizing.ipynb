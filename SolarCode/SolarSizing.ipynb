{
 "cells": [
  {
   "cell_type": "markdown",
   "metadata": {},
   "source": [
    "# Solar Sizing Optimization code \n"
   ]
  },
  {
   "cell_type": "code",
   "execution_count": 60,
   "metadata": {},
   "outputs": [],
   "source": [
    "\n",
    "#Imports \n",
    "import pvlib\n",
    "from pvlib.location import Location\n",
    "from pvlib import pvsystem, location, modelchain, iotools\n",
    "from pvlib.temperature import TEMPERATURE_MODEL_PARAMETERS\n",
    "import matplotlib\n",
    "import matplotlib.pyplot as plt\n",
    "import numpy as np\n",
    "import pandas as pd\n",
    "import seaborn as sns\n",
    "import datetime\n",
    "import pathlib\n",
    "from datetime import datetime\n",
    "from dataclasses import dataclass\n",
    "import sqlite3"
   ]
  },
  {
   "cell_type": "code",
   "execution_count": 61,
   "metadata": {},
   "outputs": [],
   "source": [
    "#Worst day from PlantWaterCalcs.ipynb\n",
    "Q_max = 20.7504 #m3/day for 1ha\n",
    "day_max = pd.to_datetime('2020-06-11').date()\n",
    "max_flow_rate = (2*50*34) /(1000*3600) #m3/s\n",
    "time_min = (Q_max) / (max_flow_rate* 3600) #hours\n",
    "\n",
    "\n",
    "#Pump P vs Q equation from PumpCurve.ipynb --> P = a*Q^3 + b*Q^2 + c*Q + c\n",
    "a = 445687894.591783\n",
    "b = -984696.5871017637\n",
    "c = 854.0710206707552\n",
    "d = -0.05692714507987253\n",
    "\n",
    "max_power = a*(max_flow_rate**3) + b*(max_flow_rate**2) + c*max_flow_rate + d #kw\n",
    "\n"
   ]
  },
  {
   "cell_type": "code",
   "execution_count": 39,
   "metadata": {},
   "outputs": [
    {
     "data": {
      "text/plain": [
       "0.24682734083929322"
      ]
     },
     "execution_count": 39,
     "metadata": {},
     "output_type": "execute_result"
    }
   ],
   "source": [
    "max_power"
   ]
  },
  {
   "cell_type": "code",
   "execution_count": 62,
   "metadata": {},
   "outputs": [],
   "source": [
    "#Import and clean Solar data \n",
    "con = sqlite3.connect(\"../NetworkCode/SolarData.sqlite\")\n",
    "df_weather_CEBIVE_raw = pd.read_sql_query(\"SELECT * from cebiveSolarDailyHourly\", con)\n",
    "con.close()\n",
    "\n",
    "#Convert date to datetime\n",
    "df_weather_CEBIVE_raw['iso_date'] = pd.to_datetime(df_weather_CEBIVE_raw['iso_date'])\n",
    "df_weather_CEBIVE_raw.index = pd.to_datetime(df_weather_CEBIVE_raw['iso_date'])\n",
    "\n",
    "#Only data where location is CEBIVE and date is day_max\n",
    "df_weather = df_weather_CEBIVE_raw[(df_weather_CEBIVE_raw['location'] == 'CEBIVE') & (df_weather_CEBIVE_raw['iso_date'].dt.date == day_max)]\n",
    "\n",
    "#Formatting data to input into pvlib model\n",
    "weather = pd.DataFrame({\n",
    "    'ghi': df_weather['Cloudy_sky.ghi'], 'dhi': df_weather['Cloudy_sky.dhi'], 'dni': df_weather['Cloudy_sky.dni'],\n",
    "    'temp_air':  df_weather['Temp'], 'wind_speed':  df_weather['wind_speed'], \n",
    "})\n",
    "\n",
    "loc = location.Location(18.541, -69.990, -4.00, 32.0) #CEBIVE"
   ]
  },
  {
   "cell_type": "code",
   "execution_count": 96,
   "metadata": {},
   "outputs": [],
   "source": [
    "#Configure solar model\n",
    "solpos = loc.get_solarposition(weather.index)\n",
    "\n",
    "#Default --> change to correct pannels values \n",
    "module_parameters = {'pdc0': 0.35, 'gamma_pdc': -0.004, 'b': 0.05} #350W pannel \n",
    "temp_params = TEMPERATURE_MODEL_PARAMETERS['sapm']['open_rack_glass_glass']\n",
    "\n"
   ]
  },
  {
   "cell_type": "code",
   "execution_count": 97,
   "metadata": {},
   "outputs": [
    {
     "name": "stdout",
     "output_type": "stream",
     "text": [
      "1 panels is NOT enough\n",
      "2 panels is enough for 6.103058823529412 hours of power for the worst day with 0.25 kW of max power\n"
     ]
    },
    {
     "data": {
      "text/plain": [
       "Text(0, 0.5, 'AC Power [kW]')"
      ]
     },
     "execution_count": 97,
     "metadata": {},
     "output_type": "execute_result"
    },
    {
     "data": {
      "image/png": "[encoded data removed]",
      "text/plain": [
       "<Figure size 640x480 with 1 Axes>"
      ]
     },
     "metadata": {},
     "output_type": "display_data"
    }
   ],
   "source": [
    "#Is one pannel enough for the worst day? \n",
    "\n",
    "flag = 0 # 0 = infufficient power production for worst day\n",
    "n_panels = 1 #intial number of PV panels\n",
    "\n",
    "while flag == 0: \n",
    "\n",
    "    #Calculate solar panel power production for worst day with n panels\n",
    "    array = pvsystem.Array(mount=pvsystem.FixedMount(20, 180),\n",
    "                        module_parameters=module_parameters,\n",
    "                        temperature_model_parameters=temp_params, modules_per_string=n_panels)\n",
    "    system = pvsystem.PVSystem(arrays=[array], inverter_parameters={'pdc0': 1, 'eta_inv_nom':0.95, 'strings_per_inverter':1 })\n",
    "    mc2 = modelchain.ModelChain(system, loc, spectral_model='no_loss')\n",
    "    _ = mc2.run_model(weather)\n",
    "    \n",
    "    #Check if enough power is produced for worst day\n",
    "    n_hours = 0 # hours with power greater than or equal to max_power\n",
    "    for i in range(len(mc2.results.ac)):\n",
    "        if mc2.results.ac.iloc[i] >= max_power:\n",
    "            n_hours += 1\n",
    "\n",
    "    if n_hours >= time_min:\n",
    "        flag = 1\n",
    "        print(f\"{n_panels} panels is enough for {time_min} hours of power for the worst day with {max_power:.2f} kW of max power\")\n",
    "        break\n",
    "    else:\n",
    "        print(f'{n_panels} panels is NOT enough') \n",
    "        n_panels += 1\n",
    "\n",
    "    if n_panels > 10: #safty check\n",
    "        print(f\"Could not find enough panels with 10 panels\")\n",
    "        \n",
    "mc2.results.ac.plot()\n",
    "plt.xlabel('Time of the Day')\n",
    "plt.ylabel('AC Power [kW]')"
   ]
  },
  {
   "cell_type": "code",
   "execution_count": 165,
   "metadata": {},
   "outputs": [
    {
     "name": "stdout",
     "output_type": "stream",
     "text": [
      "2010-01-01\n",
      "2010-01-01 has enough power for 1ha\n",
      "2010-01-02\n",
      "2010-01-02 has enough power for 1ha\n",
      "2010-01-03\n",
      "2010-01-03 does not have enough power for 1ha, 0.9178823529411766 hours short\n"
     ]
    }
   ],
   "source": [
    "#How about for the entire historical data set? \n",
    "\n",
    "df_daily_irrigation =  pd.read_pickle('../NetworkCode/df_areas.pkl') #daily irrigation need in m3/day for 1h, 2ha and 3ha \n",
    "df_daily_irrigation['1ha_hrs'] = df_daily_irrigation['1 ha'] / (max_flow_rate* 3600) # convert to hrs\n",
    "df_daily_irrigation['2ha_hrs'] = df_daily_irrigation['2 ha'] / (max_flow_rate* 3600) \n",
    "df_daily_irrigation['3ha_hrs'] = df_daily_irrigation['3 ha'] / (max_flow_rate* 3600) \n",
    "df_daily_irrigation.index = pd.to_datetime(df_daily_irrigation.index)\n",
    "\n",
    "\n",
    "#create full weather data set\n",
    "df_weather_full = df_weather_CEBIVE_raw[(df_weather_CEBIVE_raw['location'] == 'CEBIVE')]\n",
    "df_weather_full.index = pd.to_datetime(df_weather_full['iso_date'])\n",
    "weather_full = pd.DataFrame({\n",
    "    'ghi': df_weather_full['Cloudy_sky.ghi'], 'dhi': df_weather_full['Cloudy_sky.dhi'], 'dni': df_weather_full['Cloudy_sky.dni'],\n",
    "    'temp_air':  df_weather_full['Temp'], 'wind_speed':  df_weather_full['wind_speed'], \n",
    "})\n",
    "\n",
    "#run PVlib model for full year\n",
    "loc = location.Location(18.541, -69.990, -4.00, 32.0) #CEBIVE\n",
    "solpos = loc.get_solarposition(weather_full.index)\n",
    "module_parameters = {'pdc0': 0.35, 'gamma_pdc': -0.004, 'b': 0.05} #350W pannel \n",
    "temp_params = TEMPERATURE_MODEL_PARAMETERS['sapm']['open_rack_glass_glass']\n",
    "\n",
    "array_full = pvsystem.Array(mount=pvsystem.FixedMount(20, 180),\n",
    "                        module_parameters=module_parameters,\n",
    "                        temperature_model_parameters=temp_params, modules_per_string=n_panels)\n",
    "system_full = pvsystem.PVSystem(arrays=[array_full], inverter_parameters={'pdc0': 1, 'eta_inv_nom':0.95, 'strings_per_inverter':1 })\n",
    "mc_full = modelchain.ModelChain(system_full, loc, spectral_model='no_loss')\n",
    "_ = mc_full.run_model(weather_full)\n",
    "\n",
    "df_solar_full = pd.DataFrame({'solar_power': mc_full.results.ac})\n",
    "\n",
    "\n",
    "#see if enough power is available each day for 1ha\n",
    "weather_full_index = pd.to_datetime(weather_full.index.date).unique()\n",
    "\n",
    "for day in weather_full_index.date:\n",
    "    print(day)\n",
    "    daily_power = df_solar_full.loc[df_solar_full.index.date == day]\n",
    "   \n",
    "    n_hrs = 0 # hours with power greater than or equal to max_power\n",
    "    for i in range(len(daily_power)):\n",
    "        if daily_power['solar_power'].iloc[i] >= max_power:\n",
    "            n_hrs += 1  \n",
    "    \n",
    "    day_timestamp = pd.Timestamp(day)\n",
    "    if day_timestamp in df_daily_irrigation.index:\n",
    "        day_loc = df_daily_irrigation.index.get_loc(day_timestamp)  \n",
    "\n",
    "        if n_hrs >= df_daily_irrigation['1ha_hrs'].iloc[day_loc]:\n",
    "            print(f\"{day} has enough power for 1ha\")\n",
    "        else:\n",
    "            print(f\"{day} does not have enough power for 1ha, {df_daily_irrigation['1ha_hrs'].iloc[day_loc] - n_hrs} hours short\")\n",
    "\n",
    "            break \n",
    "    else: \n",
    "         print(f\"{day} is not found in df_daily_irrigation index\")\n",
    "\n",
    "\n",
    "##Fails on 2010-01-03 --> how to take into acount variable speed when power is less than max power\n",
    "\n"
   ]
  },
  {
   "cell_type": "code",
   "execution_count": 163,
   "metadata": {},
   "outputs": [
    {
     "data": {
      "text/plain": [
       "datetime.date(2010, 1, 1)"
      ]
     },
     "execution_count": 163,
     "metadata": {},
     "output_type": "execute_result"
    }
   ],
   "source": [
    "#accouting for variable speed operation\n",
    "\n",
    "\n"
   ]
  }
 ],
 "metadata": {
  "kernelspec": {
   "display_name": "Python 3",
   "language": "python",
   "name": "python3"
  },
  "language_info": {
   "codemirror_mode": {
    "name": "ipython",
    "version": 3
   },
   "file_extension": ".py",
   "mimetype": "text/x-python",
   "name": "python",
   "nbconvert_exporter": "python",
   "pygments_lexer": "ipython3",
   "version": "3.11.5"
  }
 },
 "nbformat": 4,
 "nbformat_minor": 2
}
