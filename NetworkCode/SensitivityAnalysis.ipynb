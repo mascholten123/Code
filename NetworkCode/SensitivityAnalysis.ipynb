{
 "cells": [
  {
   "cell_type": "markdown",
   "metadata": {},
   "source": [
    "# Sensitivity Analysis accounting for climate change "
   ]
  },
  {
   "cell_type": "code",
   "execution_count": 1,
   "metadata": {},
   "outputs": [],
   "source": [
    "#Imports \n",
    "import pvlib\n",
    "from pvlib.location import Location\n",
    "from pvlib import pvsystem, location, modelchain, iotools\n",
    "from pvlib.temperature import TEMPERATURE_MODEL_PARAMETERS\n",
    "import matplotlib\n",
    "import matplotlib.pyplot as plt\n",
    "import numpy as np\n",
    "import pandas as pd\n",
    "import seaborn as sns\n",
    "import datetime\n",
    "import pathlib\n",
    "from datetime import datetime\n",
    "from dataclasses import dataclass\n",
    "import sqlite3\n",
    "import scipy\n",
    "from eto import ETo\n",
    "import matplotlib.patches as mpatches\n"
   ]
  },
  {
   "cell_type": "code",
   "execution_count": 2,
   "metadata": {},
   "outputs": [],
   "source": [
    "\n",
    "#loading weather data file \n",
    "con = sqlite3.connect('solarData.sqlite')\n",
    "df_weather_CEBIVE_raw = pd.read_sql_query(\"SELECT * from cebiveSolarDailyHourly\", con)\n",
    "df_precipitation_CEBIVE_raw = pd.read_sql_query(\"SELECT date, rain_1h from cebiveWeatherHourly\", con)\n",
    "con.close()\n",
    "\n",
    "df_weather_CEBIVE = df_weather_CEBIVE_raw.groupby('date').agg({'Temp': ['max', 'min'], 'RH': ['max', 'min'], 'pressure': 'mean', 'wind_speed': 'mean', 'Cloudy_sky.ghi': 'sum', 'Cloudy_sky.dni':'sum' })\n",
    "df_weather_CEBIVE.columns = ['T_max', 'T_min', 'RH_max', 'RH_min' ,'P','U_2', 'GHI', 'DNI']\n",
    "df_weather_CEBIVE['R_n'] = (0.77 * df_weather_CEBIVE['GHI'] + 0.25 * df_weather_CEBIVE['DNI']) * 3600 / 1e6 #in MJ/m2/day\n",
    "df_weather_CEBIVE.drop(columns=['GHI', 'DNI'])\n",
    "df_weather_CEBIVE.index = pd.to_datetime(df_weather_CEBIVE.index)\n",
    "df_precipitation_CEBIVE_raw['rain_1h'] = pd.to_numeric(df_precipitation_CEBIVE_raw['rain_1h'], errors='coerce')\n",
    "df_precipitation_CEBIVE_raw['rain_1h'].astype(float)\n",
    "df_precipitation_CEBIVE = df_precipitation_CEBIVE_raw.groupby('date').sum()\n",
    "df_precipitation_CEBIVE.index = pd.to_datetime(df_precipitation_CEBIVE.index)\n"
   ]
  },
  {
   "cell_type": "code",
   "execution_count": 3,
   "metadata": {},
   "outputs": [
    {
     "data": {
      "text/html": [
       "<div>\n",
       "<style scoped>\n",
       "    .dataframe tbody tr th:only-of-type {\n",
       "        vertical-align: middle;\n",
       "    }\n",
       "\n",
       "    .dataframe tbody tr th {\n",
       "        vertical-align: top;\n",
       "    }\n",
       "\n",
       "    .dataframe thead th {\n",
       "        text-align: right;\n",
       "    }\n",
       "</style>\n",
       "<table border=\"1\" class=\"dataframe\">\n",
       "  <thead>\n",
       "    <tr style=\"text-align: right;\">\n",
       "      <th></th>\n",
       "      <th>Rain_2010</th>\n",
       "      <th>Rain_2050</th>\n",
       "      <th>tempmax_2010</th>\n",
       "      <th>tempmax_2050</th>\n",
       "      <th>percent_change_rain</th>\n",
       "      <th>percent_change_tempmax</th>\n",
       "    </tr>\n",
       "    <tr>\n",
       "      <th>Month</th>\n",
       "      <th></th>\n",
       "      <th></th>\n",
       "      <th></th>\n",
       "      <th></th>\n",
       "      <th></th>\n",
       "      <th></th>\n",
       "    </tr>\n",
       "  </thead>\n",
       "  <tbody>\n",
       "    <tr>\n",
       "      <th>1</th>\n",
       "      <td>28.5</td>\n",
       "      <td>30.9</td>\n",
       "      <td>27.7</td>\n",
       "      <td>28.5</td>\n",
       "      <td>8.421053</td>\n",
       "      <td>2.888087</td>\n",
       "    </tr>\n",
       "    <tr>\n",
       "      <th>2</th>\n",
       "      <td>25.5</td>\n",
       "      <td>38.3</td>\n",
       "      <td>27.2</td>\n",
       "      <td>28.0</td>\n",
       "      <td>50.196078</td>\n",
       "      <td>2.941176</td>\n",
       "    </tr>\n",
       "    <tr>\n",
       "      <th>3</th>\n",
       "      <td>21.3</td>\n",
       "      <td>54.6</td>\n",
       "      <td>27.5</td>\n",
       "      <td>29.0</td>\n",
       "      <td>156.338028</td>\n",
       "      <td>5.454545</td>\n",
       "    </tr>\n",
       "    <tr>\n",
       "      <th>4</th>\n",
       "      <td>106.5</td>\n",
       "      <td>80.0</td>\n",
       "      <td>31.2</td>\n",
       "      <td>32.0</td>\n",
       "      <td>-24.882629</td>\n",
       "      <td>2.564103</td>\n",
       "    </tr>\n",
       "    <tr>\n",
       "      <th>5</th>\n",
       "      <td>217.1</td>\n",
       "      <td>143.5</td>\n",
       "      <td>28.5</td>\n",
       "      <td>30.1</td>\n",
       "      <td>-33.901428</td>\n",
       "      <td>5.614035</td>\n",
       "    </tr>\n",
       "    <tr>\n",
       "      <th>6</th>\n",
       "      <td>84.2</td>\n",
       "      <td>40.7</td>\n",
       "      <td>31.0</td>\n",
       "      <td>31.9</td>\n",
       "      <td>-51.662708</td>\n",
       "      <td>2.903226</td>\n",
       "    </tr>\n",
       "    <tr>\n",
       "      <th>7</th>\n",
       "      <td>158.7</td>\n",
       "      <td>128.5</td>\n",
       "      <td>32.0</td>\n",
       "      <td>33.6</td>\n",
       "      <td>-19.029616</td>\n",
       "      <td>5.000000</td>\n",
       "    </tr>\n",
       "    <tr>\n",
       "      <th>8</th>\n",
       "      <td>113.7</td>\n",
       "      <td>118.9</td>\n",
       "      <td>31.0</td>\n",
       "      <td>31.7</td>\n",
       "      <td>4.573439</td>\n",
       "      <td>2.258065</td>\n",
       "    </tr>\n",
       "    <tr>\n",
       "      <th>9</th>\n",
       "      <td>106.4</td>\n",
       "      <td>91.4</td>\n",
       "      <td>28.7</td>\n",
       "      <td>28.9</td>\n",
       "      <td>-14.097744</td>\n",
       "      <td>0.696864</td>\n",
       "    </tr>\n",
       "    <tr>\n",
       "      <th>10</th>\n",
       "      <td>54.8</td>\n",
       "      <td>198.8</td>\n",
       "      <td>28.9</td>\n",
       "      <td>29.7</td>\n",
       "      <td>262.773723</td>\n",
       "      <td>2.768166</td>\n",
       "    </tr>\n",
       "    <tr>\n",
       "      <th>11</th>\n",
       "      <td>40.4</td>\n",
       "      <td>44.1</td>\n",
       "      <td>27.0</td>\n",
       "      <td>27.8</td>\n",
       "      <td>9.158416</td>\n",
       "      <td>2.962963</td>\n",
       "    </tr>\n",
       "    <tr>\n",
       "      <th>12</th>\n",
       "      <td>10.8</td>\n",
       "      <td>6.0</td>\n",
       "      <td>24.9</td>\n",
       "      <td>26.6</td>\n",
       "      <td>-44.444444</td>\n",
       "      <td>6.827309</td>\n",
       "    </tr>\n",
       "  </tbody>\n",
       "</table>\n",
       "</div>"
      ],
      "text/plain": [
       "       Rain_2010  Rain_2050  tempmax_2010  tempmax_2050  percent_change_rain  \\\n",
       "Month                                                                          \n",
       "1           28.5       30.9          27.7          28.5             8.421053   \n",
       "2           25.5       38.3          27.2          28.0            50.196078   \n",
       "3           21.3       54.6          27.5          29.0           156.338028   \n",
       "4          106.5       80.0          31.2          32.0           -24.882629   \n",
       "5          217.1      143.5          28.5          30.1           -33.901428   \n",
       "6           84.2       40.7          31.0          31.9           -51.662708   \n",
       "7          158.7      128.5          32.0          33.6           -19.029616   \n",
       "8          113.7      118.9          31.0          31.7             4.573439   \n",
       "9          106.4       91.4          28.7          28.9           -14.097744   \n",
       "10          54.8      198.8          28.9          29.7           262.773723   \n",
       "11          40.4       44.1          27.0          27.8             9.158416   \n",
       "12          10.8        6.0          24.9          26.6           -44.444444   \n",
       "\n",
       "       percent_change_tempmax  \n",
       "Month                          \n",
       "1                    2.888087  \n",
       "2                    2.941176  \n",
       "3                    5.454545  \n",
       "4                    2.564103  \n",
       "5                    5.614035  \n",
       "6                    2.903226  \n",
       "7                    5.000000  \n",
       "8                    2.258065  \n",
       "9                    0.696864  \n",
       "10                   2.768166  \n",
       "11                   2.962963  \n",
       "12                   6.827309  "
      ]
     },
     "execution_count": 3,
     "metadata": {},
     "output_type": "execute_result"
    }
   ],
   "source": [
    "# Yaque del Sur rainfall differences (https://surfuturo.org/storage/app/uploads/public/635/167/62b/63516762bc3c6485770914.pdf)\n",
    "\n",
    "months = [1, 2, 3, 4, 5, 6, 7, 8, 9, 10, 11, 12] \n",
    "rain_2010 = [28.5, 25.5, 21.3, 106.5, 217.1, 84.2, 158.7, 113.7, 106.4, 54.8, 40.4, 10.8]  # Rain amounts in mm for 2010\n",
    "rain_2050 = [30.9, 38.3, 54.6, 80.0, 143.5, 40.7, 128.5, 118.9, 91.4, 198.8, 44.1, 6]  # Rain amounts in mm for 2050\n",
    "tempmax_2010 = [27.7, 27.2, 27.5, 31.2, 28.5, 31, 32, 31, 28.7, 28.9, 27, 24.9] #C \n",
    "tempmax_2050 = [28.5, 28, 29, 32, 30.1, 31.9, 33.6, 31.7, 28.9, 29.7, 27.8, 26.6] #C\n",
    "df_Yaque = pd.DataFrame({'Month': months,'Rain_2010': rain_2010, 'Rain_2050': rain_2050, 'tempmax_2010': tempmax_2010, 'tempmax_2050': tempmax_2050})\n",
    "\n",
    "df_Yaque['percent_change_rain'] = (df_Yaque['Rain_2050'] - df_Yaque['Rain_2010']) / df_Yaque['Rain_2010'] * 100 \n",
    "df_Yaque['percent_change_tempmax'] = (df_Yaque['tempmax_2050'] - df_Yaque['tempmax_2010']) / df_Yaque['tempmax_2010'] * 100\n",
    "\n",
    "df_Yaque.set_index('Month', inplace=True)\n",
    "df_Yaque\n"
   ]
  },
  {
   "cell_type": "code",
   "execution_count": 4,
   "metadata": {},
   "outputs": [],
   "source": [
    "#Only 2010 values \n",
    "df_2010_precipitation = df_precipitation_CEBIVE['2010-01-01':'2010-12-31']\n",
    "df_2010_weather = df_weather_CEBIVE['2010-01-01':'2010-12-31']\n"
   ]
  },
  {
   "cell_type": "code",
   "execution_count": 16,
   "metadata": {},
   "outputs": [
    {
     "name": "stderr",
     "output_type": "stream",
     "text": [
      "/var/folders/_q/cqfc7f7d18ng3r1chbk8y35h0000gn/T/ipykernel_71788/1451493581.py:1: SettingWithCopyWarning: \n",
      "A value is trying to be set on a copy of a slice from a DataFrame.\n",
      "Try using .loc[row_indexer,col_indexer] = value instead\n",
      "\n",
      "See the caveats in the documentation: https://pandas.pydata.org/pandas-docs/stable/user_guide/indexing.html#returning-a-view-versus-a-copy\n",
      "  df_2010_precipitation['Month'] = df_2010_precipitation.index.month\n"
     ]
    },
    {
     "data": {
      "text/plain": [
       "date\n",
       "2010-01-01     1\n",
       "2010-01-02     1\n",
       "2010-01-03     1\n",
       "2010-01-04     1\n",
       "2010-01-05     1\n",
       "              ..\n",
       "2010-12-27    12\n",
       "2010-12-28    12\n",
       "2010-12-29    12\n",
       "2010-12-30    12\n",
       "2010-12-31    12\n",
       "Name: Month, Length: 365, dtype: int32"
      ]
     },
     "execution_count": 16,
     "metadata": {},
     "output_type": "execute_result"
    }
   ],
   "source": [
    "df_2010_precipitation['Month'] = df_2010_precipitation.index.month\n",
    "df_2010_precipitation['Month']"
   ]
  },
  {
   "cell_type": "code",
   "execution_count": 13,
   "metadata": {},
   "outputs": [
    {
     "data": {
      "text/html": [
       "<div>\n",
       "<style scoped>\n",
       "    .dataframe tbody tr th:only-of-type {\n",
       "        vertical-align: middle;\n",
       "    }\n",
       "\n",
       "    .dataframe tbody tr th {\n",
       "        vertical-align: top;\n",
       "    }\n",
       "\n",
       "    .dataframe thead th {\n",
       "        text-align: right;\n",
       "    }\n",
       "</style>\n",
       "<table border=\"1\" class=\"dataframe\">\n",
       "  <thead>\n",
       "    <tr style=\"text-align: right;\">\n",
       "      <th></th>\n",
       "      <th>Rain_2010</th>\n",
       "      <th>Rain_2050</th>\n",
       "      <th>tempmax_2010</th>\n",
       "      <th>tempmax_2050</th>\n",
       "      <th>percent_change_rain</th>\n",
       "      <th>percent_change_tempmax</th>\n",
       "    </tr>\n",
       "    <tr>\n",
       "      <th>Month</th>\n",
       "      <th></th>\n",
       "      <th></th>\n",
       "      <th></th>\n",
       "      <th></th>\n",
       "      <th></th>\n",
       "      <th></th>\n",
       "    </tr>\n",
       "  </thead>\n",
       "  <tbody>\n",
       "    <tr>\n",
       "      <th>1</th>\n",
       "      <td>28.5</td>\n",
       "      <td>30.9</td>\n",
       "      <td>27.7</td>\n",
       "      <td>28.5</td>\n",
       "      <td>8.421053</td>\n",
       "      <td>2.888087</td>\n",
       "    </tr>\n",
       "    <tr>\n",
       "      <th>2</th>\n",
       "      <td>25.5</td>\n",
       "      <td>38.3</td>\n",
       "      <td>27.2</td>\n",
       "      <td>28.0</td>\n",
       "      <td>50.196078</td>\n",
       "      <td>2.941176</td>\n",
       "    </tr>\n",
       "    <tr>\n",
       "      <th>3</th>\n",
       "      <td>21.3</td>\n",
       "      <td>54.6</td>\n",
       "      <td>27.5</td>\n",
       "      <td>29.0</td>\n",
       "      <td>156.338028</td>\n",
       "      <td>5.454545</td>\n",
       "    </tr>\n",
       "    <tr>\n",
       "      <th>4</th>\n",
       "      <td>106.5</td>\n",
       "      <td>80.0</td>\n",
       "      <td>31.2</td>\n",
       "      <td>32.0</td>\n",
       "      <td>-24.882629</td>\n",
       "      <td>2.564103</td>\n",
       "    </tr>\n",
       "    <tr>\n",
       "      <th>5</th>\n",
       "      <td>217.1</td>\n",
       "      <td>143.5</td>\n",
       "      <td>28.5</td>\n",
       "      <td>30.1</td>\n",
       "      <td>-33.901428</td>\n",
       "      <td>5.614035</td>\n",
       "    </tr>\n",
       "    <tr>\n",
       "      <th>6</th>\n",
       "      <td>84.2</td>\n",
       "      <td>40.7</td>\n",
       "      <td>31.0</td>\n",
       "      <td>31.9</td>\n",
       "      <td>-51.662708</td>\n",
       "      <td>2.903226</td>\n",
       "    </tr>\n",
       "    <tr>\n",
       "      <th>7</th>\n",
       "      <td>158.7</td>\n",
       "      <td>128.5</td>\n",
       "      <td>32.0</td>\n",
       "      <td>33.6</td>\n",
       "      <td>-19.029616</td>\n",
       "      <td>5.000000</td>\n",
       "    </tr>\n",
       "    <tr>\n",
       "      <th>8</th>\n",
       "      <td>113.7</td>\n",
       "      <td>118.9</td>\n",
       "      <td>31.0</td>\n",
       "      <td>31.7</td>\n",
       "      <td>4.573439</td>\n",
       "      <td>2.258065</td>\n",
       "    </tr>\n",
       "    <tr>\n",
       "      <th>9</th>\n",
       "      <td>106.4</td>\n",
       "      <td>91.4</td>\n",
       "      <td>28.7</td>\n",
       "      <td>28.9</td>\n",
       "      <td>-14.097744</td>\n",
       "      <td>0.696864</td>\n",
       "    </tr>\n",
       "    <tr>\n",
       "      <th>10</th>\n",
       "      <td>54.8</td>\n",
       "      <td>198.8</td>\n",
       "      <td>28.9</td>\n",
       "      <td>29.7</td>\n",
       "      <td>262.773723</td>\n",
       "      <td>2.768166</td>\n",
       "    </tr>\n",
       "    <tr>\n",
       "      <th>11</th>\n",
       "      <td>40.4</td>\n",
       "      <td>44.1</td>\n",
       "      <td>27.0</td>\n",
       "      <td>27.8</td>\n",
       "      <td>9.158416</td>\n",
       "      <td>2.962963</td>\n",
       "    </tr>\n",
       "    <tr>\n",
       "      <th>12</th>\n",
       "      <td>10.8</td>\n",
       "      <td>6.0</td>\n",
       "      <td>24.9</td>\n",
       "      <td>26.6</td>\n",
       "      <td>-44.444444</td>\n",
       "      <td>6.827309</td>\n",
       "    </tr>\n",
       "  </tbody>\n",
       "</table>\n",
       "</div>"
      ],
      "text/plain": [
       "       Rain_2010  Rain_2050  tempmax_2010  tempmax_2050  percent_change_rain  \\\n",
       "Month                                                                          \n",
       "1           28.5       30.9          27.7          28.5             8.421053   \n",
       "2           25.5       38.3          27.2          28.0            50.196078   \n",
       "3           21.3       54.6          27.5          29.0           156.338028   \n",
       "4          106.5       80.0          31.2          32.0           -24.882629   \n",
       "5          217.1      143.5          28.5          30.1           -33.901428   \n",
       "6           84.2       40.7          31.0          31.9           -51.662708   \n",
       "7          158.7      128.5          32.0          33.6           -19.029616   \n",
       "8          113.7      118.9          31.0          31.7             4.573439   \n",
       "9          106.4       91.4          28.7          28.9           -14.097744   \n",
       "10          54.8      198.8          28.9          29.7           262.773723   \n",
       "11          40.4       44.1          27.0          27.8             9.158416   \n",
       "12          10.8        6.0          24.9          26.6           -44.444444   \n",
       "\n",
       "       percent_change_tempmax  \n",
       "Month                          \n",
       "1                    2.888087  \n",
       "2                    2.941176  \n",
       "3                    5.454545  \n",
       "4                    2.564103  \n",
       "5                    5.614035  \n",
       "6                    2.903226  \n",
       "7                    5.000000  \n",
       "8                    2.258065  \n",
       "9                    0.696864  \n",
       "10                   2.768166  \n",
       "11                   2.962963  \n",
       "12                   6.827309  "
      ]
     },
     "execution_count": 13,
     "metadata": {},
     "output_type": "execute_result"
    }
   ],
   "source": [
    "df_Yaque"
   ]
  },
  {
   "cell_type": "code",
   "execution_count": 80,
   "metadata": {},
   "outputs": [
    {
     "data": {
      "image/png": "[encoded data removed]",
      "text/plain": [
       "<Figure size 1300x500 with 2 Axes>"
      ]
     },
     "metadata": {},
     "output_type": "display_data"
    }
   ],
   "source": [
    "fig, axs = plt.subplots(1, 2, figsize=(13, 5))\n",
    "\n",
    "axs[0].plot(df_Yaque['Rain_2010'], label='2010', color='tab:blue' )\n",
    "axs[0].plot(df_Yaque['Rain_2050'], label='2050', color='orange')\n",
    "axs[0].set_ylabel('Rain (mm)')\n",
    "axs[0].set_xlabel('Month')\n",
    "axs[0].set_xticks(np.arange(1, 13, 1))\n",
    "axs[0].legend()\n",
    "\n",
    "axs[1].plot(df_Yaque['tempmax_2010'], label='2010', color='tab:blue' )\n",
    "axs[1].plot(df_Yaque['tempmax_2050'], label='2050', color='orange')\n",
    "axs[1].set_ylabel('Temperature (C)')\n",
    "axs[1].set_xlabel('Month')\n",
    "axs[1].set_xticks(np.arange(1, 13, 1))\n",
    "axs[1].legend()\n",
    "#fig.set_xlabels('Month')\n",
    "plt.show()"
   ]
  },
  {
   "cell_type": "code",
   "execution_count": null,
   "metadata": {},
   "outputs": [],
   "source": []
  },
  {
   "cell_type": "code",
   "execution_count": 28,
   "metadata": {},
   "outputs": [
    {
     "name": "stderr",
     "output_type": "stream",
     "text": [
      "/var/folders/_q/cqfc7f7d18ng3r1chbk8y35h0000gn/T/ipykernel_71788/1373000038.py:8: SettingWithCopyWarning: \n",
      "A value is trying to be set on a copy of a slice from a DataFrame.\n",
      "Try using .loc[row_indexer,col_indexer] = value instead\n",
      "\n",
      "See the caveats in the documentation: https://pandas.pydata.org/pandas-docs/stable/user_guide/indexing.html#returning-a-view-versus-a-copy\n",
      "  df_2010_weather['month'] = df_2010_weather.index.month\n"
     ]
    },
    {
     "data": {
      "text/html": [
       "<div>\n",
       "<style scoped>\n",
       "    .dataframe tbody tr th:only-of-type {\n",
       "        vertical-align: middle;\n",
       "    }\n",
       "\n",
       "    .dataframe tbody tr th {\n",
       "        vertical-align: top;\n",
       "    }\n",
       "\n",
       "    .dataframe thead th {\n",
       "        text-align: right;\n",
       "    }\n",
       "</style>\n",
       "<table border=\"1\" class=\"dataframe\">\n",
       "  <thead>\n",
       "    <tr style=\"text-align: right;\">\n",
       "      <th></th>\n",
       "      <th>T_max</th>\n",
       "      <th>T_min</th>\n",
       "      <th>RH_max</th>\n",
       "      <th>RH_min</th>\n",
       "      <th>P</th>\n",
       "      <th>U_2</th>\n",
       "      <th>GHI</th>\n",
       "      <th>DNI</th>\n",
       "      <th>R_n</th>\n",
       "    </tr>\n",
       "    <tr>\n",
       "      <th>date</th>\n",
       "      <th></th>\n",
       "      <th></th>\n",
       "      <th></th>\n",
       "      <th></th>\n",
       "      <th></th>\n",
       "      <th></th>\n",
       "      <th></th>\n",
       "      <th></th>\n",
       "      <th></th>\n",
       "    </tr>\n",
       "  </thead>\n",
       "  <tbody>\n",
       "    <tr>\n",
       "      <th>2010-01-01</th>\n",
       "      <td>31.998195</td>\n",
       "      <td>22.7</td>\n",
       "      <td>93.63</td>\n",
       "      <td>51.46</td>\n",
       "      <td>1018.083333</td>\n",
       "      <td>2.175000</td>\n",
       "      <td>4257.0</td>\n",
       "      <td>5082.0</td>\n",
       "      <td>16.374204</td>\n",
       "    </tr>\n",
       "    <tr>\n",
       "      <th>2010-01-02</th>\n",
       "      <td>32.306859</td>\n",
       "      <td>23.5</td>\n",
       "      <td>87.16</td>\n",
       "      <td>49.48</td>\n",
       "      <td>1014.583333</td>\n",
       "      <td>1.129167</td>\n",
       "      <td>4009.0</td>\n",
       "      <td>4762.0</td>\n",
       "      <td>15.398748</td>\n",
       "    </tr>\n",
       "    <tr>\n",
       "      <th>2010-01-03</th>\n",
       "      <td>29.220217</td>\n",
       "      <td>23.3</td>\n",
       "      <td>96.27</td>\n",
       "      <td>65.83</td>\n",
       "      <td>1014.041667</td>\n",
       "      <td>1.937500</td>\n",
       "      <td>1457.0</td>\n",
       "      <td>880.0</td>\n",
       "      <td>4.830804</td>\n",
       "    </tr>\n",
       "    <tr>\n",
       "      <th>2010-01-04</th>\n",
       "      <td>30.660650</td>\n",
       "      <td>23.1</td>\n",
       "      <td>95.53</td>\n",
       "      <td>58.61</td>\n",
       "      <td>1014.500000</td>\n",
       "      <td>1.762500</td>\n",
       "      <td>3369.0</td>\n",
       "      <td>3841.0</td>\n",
       "      <td>12.795768</td>\n",
       "    </tr>\n",
       "    <tr>\n",
       "      <th>2010-01-05</th>\n",
       "      <td>31.586643</td>\n",
       "      <td>23.4</td>\n",
       "      <td>94.39</td>\n",
       "      <td>47.34</td>\n",
       "      <td>1015.791667</td>\n",
       "      <td>1.479167</td>\n",
       "      <td>4557.0</td>\n",
       "      <td>5862.0</td>\n",
       "      <td>17.907804</td>\n",
       "    </tr>\n",
       "    <tr>\n",
       "      <th>...</th>\n",
       "      <td>...</td>\n",
       "      <td>...</td>\n",
       "      <td>...</td>\n",
       "      <td>...</td>\n",
       "      <td>...</td>\n",
       "      <td>...</td>\n",
       "      <td>...</td>\n",
       "      <td>...</td>\n",
       "      <td>...</td>\n",
       "    </tr>\n",
       "    <tr>\n",
       "      <th>2010-12-27</th>\n",
       "      <td>29.911647</td>\n",
       "      <td>23.1</td>\n",
       "      <td>91.55</td>\n",
       "      <td>62.14</td>\n",
       "      <td>1016.541667</td>\n",
       "      <td>1.591667</td>\n",
       "      <td>2376.0</td>\n",
       "      <td>954.0</td>\n",
       "      <td>7.444872</td>\n",
       "    </tr>\n",
       "    <tr>\n",
       "      <th>2010-12-28</th>\n",
       "      <td>29.697992</td>\n",
       "      <td>21.2</td>\n",
       "      <td>89.87</td>\n",
       "      <td>55.00</td>\n",
       "      <td>1017.666667</td>\n",
       "      <td>3.825000</td>\n",
       "      <td>4186.0</td>\n",
       "      <td>4011.0</td>\n",
       "      <td>15.213492</td>\n",
       "    </tr>\n",
       "    <tr>\n",
       "      <th>2010-12-29</th>\n",
       "      <td>29.697992</td>\n",
       "      <td>19.7</td>\n",
       "      <td>85.55</td>\n",
       "      <td>49.32</td>\n",
       "      <td>1017.458333</td>\n",
       "      <td>3.687500</td>\n",
       "      <td>3744.0</td>\n",
       "      <td>4109.0</td>\n",
       "      <td>14.076468</td>\n",
       "    </tr>\n",
       "    <tr>\n",
       "      <th>2010-12-30</th>\n",
       "      <td>31.193574</td>\n",
       "      <td>19.6</td>\n",
       "      <td>84.22</td>\n",
       "      <td>43.66</td>\n",
       "      <td>1017.458333</td>\n",
       "      <td>3.083333</td>\n",
       "      <td>4044.0</td>\n",
       "      <td>5232.0</td>\n",
       "      <td>15.918768</td>\n",
       "    </tr>\n",
       "    <tr>\n",
       "      <th>2010-12-31</th>\n",
       "      <td>30.979920</td>\n",
       "      <td>20.2</td>\n",
       "      <td>83.30</td>\n",
       "      <td>42.55</td>\n",
       "      <td>1017.875000</td>\n",
       "      <td>3.425000</td>\n",
       "      <td>4697.0</td>\n",
       "      <td>6684.0</td>\n",
       "      <td>19.035684</td>\n",
       "    </tr>\n",
       "  </tbody>\n",
       "</table>\n",
       "<p>365 rows × 9 columns</p>\n",
       "</div>"
      ],
      "text/plain": [
       "                T_max  T_min  RH_max  RH_min            P       U_2     GHI  \\\n",
       "date                                                                          \n",
       "2010-01-01  31.998195   22.7   93.63   51.46  1018.083333  2.175000  4257.0   \n",
       "2010-01-02  32.306859   23.5   87.16   49.48  1014.583333  1.129167  4009.0   \n",
       "2010-01-03  29.220217   23.3   96.27   65.83  1014.041667  1.937500  1457.0   \n",
       "2010-01-04  30.660650   23.1   95.53   58.61  1014.500000  1.762500  3369.0   \n",
       "2010-01-05  31.586643   23.4   94.39   47.34  1015.791667  1.479167  4557.0   \n",
       "...               ...    ...     ...     ...          ...       ...     ...   \n",
       "2010-12-27  29.911647   23.1   91.55   62.14  1016.541667  1.591667  2376.0   \n",
       "2010-12-28  29.697992   21.2   89.87   55.00  1017.666667  3.825000  4186.0   \n",
       "2010-12-29  29.697992   19.7   85.55   49.32  1017.458333  3.687500  3744.0   \n",
       "2010-12-30  31.193574   19.6   84.22   43.66  1017.458333  3.083333  4044.0   \n",
       "2010-12-31  30.979920   20.2   83.30   42.55  1017.875000  3.425000  4697.0   \n",
       "\n",
       "               DNI        R_n  \n",
       "date                           \n",
       "2010-01-01  5082.0  16.374204  \n",
       "2010-01-02  4762.0  15.398748  \n",
       "2010-01-03   880.0   4.830804  \n",
       "2010-01-04  3841.0  12.795768  \n",
       "2010-01-05  5862.0  17.907804  \n",
       "...            ...        ...  \n",
       "2010-12-27   954.0   7.444872  \n",
       "2010-12-28  4011.0  15.213492  \n",
       "2010-12-29  4109.0  14.076468  \n",
       "2010-12-30  5232.0  15.918768  \n",
       "2010-12-31  6684.0  19.035684  \n",
       "\n",
       "[365 rows x 9 columns]"
      ]
     },
     "execution_count": 28,
     "metadata": {},
     "output_type": "execute_result"
    }
   ],
   "source": [
    "\n",
    "# create snesitivity analysis values for precipitation\n",
    "df_SA_percipitation = pd.merge(df_2010_precipitation, df_Yaque, left_on='Month', right_index=True, how='left')\n",
    "df_SA_percipitation['Rain_SA'] = df_SA_percipitation['rain_1h'] * (1+ (df_SA_percipitation['percent_change_rain'] / 100))\n",
    "df_SA_percipitation.drop(columns=['Month', 'percent_change_rain', 'tempmax_2010', 'tempmax_2050', 'Rain_2010', 'Rain_2050', 'percent_change_tempmax'], inplace=True)\n",
    "\n",
    "\n",
    "# create snesitivity analysis values for weather (T_max)\n",
    "df_2010_weather['month'] = df_2010_weather.index.month\n",
    "df_SA_weather = pd.merge(df_2010_weather, df_Yaque, left_on='month', right_index=True, how='left')\n",
    "df_SA_weather['T_max_SA'] = df_SA_weather['T_max'] * (1+ (df_SA_weather['percent_change_tempmax'] / 100))\n",
    "df_SA_weather.drop(columns=[ 'percent_change_tempmax', 'tempmax_2010', 'tempmax_2050', 'Rain_2010', 'Rain_2050', 'percent_change_rain', \"T_max\"], inplace=True)\n",
    "df_SA_weather['T_max'] = df_SA_weather['T_max_SA']\n",
    "df_SA_weather.drop(columns=['T_max_SA', 'month'], inplace=True)\n",
    "\n",
    "# Reorder the columns\n",
    "last_column = df_SA_weather.columns[-1]\n",
    "df_SA_weather = df_SA_weather[[last_column] + [col for col in df_SA_weather.columns if col != last_column]]\n",
    "df_SA_weather\n",
    "\n",
    "\n"
   ]
  },
  {
   "cell_type": "code",
   "execution_count": 29,
   "metadata": {},
   "outputs": [
    {
     "data": {
      "text/html": [
       "<div>\n",
       "<style scoped>\n",
       "    .dataframe tbody tr th:only-of-type {\n",
       "        vertical-align: middle;\n",
       "    }\n",
       "\n",
       "    .dataframe tbody tr th {\n",
       "        vertical-align: top;\n",
       "    }\n",
       "\n",
       "    .dataframe thead th {\n",
       "        text-align: right;\n",
       "    }\n",
       "</style>\n",
       "<table border=\"1\" class=\"dataframe\">\n",
       "  <thead>\n",
       "    <tr style=\"text-align: right;\">\n",
       "      <th></th>\n",
       "      <th>rain_1h</th>\n",
       "      <th>Month</th>\n",
       "    </tr>\n",
       "    <tr>\n",
       "      <th>date</th>\n",
       "      <th></th>\n",
       "      <th></th>\n",
       "    </tr>\n",
       "  </thead>\n",
       "  <tbody>\n",
       "    <tr>\n",
       "      <th>2010-01-01</th>\n",
       "      <td>0.00</td>\n",
       "      <td>1</td>\n",
       "    </tr>\n",
       "    <tr>\n",
       "      <th>2010-01-02</th>\n",
       "      <td>0.93</td>\n",
       "      <td>1</td>\n",
       "    </tr>\n",
       "    <tr>\n",
       "      <th>2010-01-03</th>\n",
       "      <td>0.41</td>\n",
       "      <td>1</td>\n",
       "    </tr>\n",
       "    <tr>\n",
       "      <th>2010-01-04</th>\n",
       "      <td>1.10</td>\n",
       "      <td>1</td>\n",
       "    </tr>\n",
       "    <tr>\n",
       "      <th>2010-01-05</th>\n",
       "      <td>0.00</td>\n",
       "      <td>1</td>\n",
       "    </tr>\n",
       "    <tr>\n",
       "      <th>...</th>\n",
       "      <td>...</td>\n",
       "      <td>...</td>\n",
       "    </tr>\n",
       "    <tr>\n",
       "      <th>2010-12-27</th>\n",
       "      <td>3.25</td>\n",
       "      <td>12</td>\n",
       "    </tr>\n",
       "    <tr>\n",
       "      <th>2010-12-28</th>\n",
       "      <td>0.65</td>\n",
       "      <td>12</td>\n",
       "    </tr>\n",
       "    <tr>\n",
       "      <th>2010-12-29</th>\n",
       "      <td>0.00</td>\n",
       "      <td>12</td>\n",
       "    </tr>\n",
       "    <tr>\n",
       "      <th>2010-12-30</th>\n",
       "      <td>0.00</td>\n",
       "      <td>12</td>\n",
       "    </tr>\n",
       "    <tr>\n",
       "      <th>2010-12-31</th>\n",
       "      <td>0.00</td>\n",
       "      <td>12</td>\n",
       "    </tr>\n",
       "  </tbody>\n",
       "</table>\n",
       "<p>365 rows × 2 columns</p>\n",
       "</div>"
      ],
      "text/plain": [
       "            rain_1h  Month\n",
       "date                      \n",
       "2010-01-01     0.00      1\n",
       "2010-01-02     0.93      1\n",
       "2010-01-03     0.41      1\n",
       "2010-01-04     1.10      1\n",
       "2010-01-05     0.00      1\n",
       "...             ...    ...\n",
       "2010-12-27     3.25     12\n",
       "2010-12-28     0.65     12\n",
       "2010-12-29     0.00     12\n",
       "2010-12-30     0.00     12\n",
       "2010-12-31     0.00     12\n",
       "\n",
       "[365 rows x 2 columns]"
      ]
     },
     "execution_count": 29,
     "metadata": {},
     "output_type": "execute_result"
    }
   ],
   "source": [
    "df_2010_precipitation"
   ]
  },
  {
   "cell_type": "code",
   "execution_count": 30,
   "metadata": {},
   "outputs": [
    {
     "name": "stderr",
     "output_type": "stream",
     "text": [
      "/usr/local/lib/python3.11/site-packages/eto/param_est.py:149: SettingWithCopyWarning: \n",
      "A value is trying to be set on a copy of a slice from a DataFrame\n",
      "\n",
      "See the caveats in the documentation: https://pandas.pydata.org/pandas-docs/stable/user_guide/indexing.html#returning-a-view-versus-a-copy\n",
      "  self.ts_param['e_a'].loc[self.ts_param['e_a'].isnull()] = (self.ts_param['e_min'][self.ts_param['e_a'].isnull()] * self.ts_param.loc[self.ts_param['e_a'].isnull(), 'RH_max']/100 + self.ts_param['e_max'][self.ts_param['e_a'].isnull()] * self.ts_param.loc[self.ts_param['e_a'].isnull(), 'RH_min']/100)/2\n",
      "/usr/local/lib/python3.11/site-packages/eto/param_est.py:153: SettingWithCopyWarning: \n",
      "A value is trying to be set on a copy of a slice from a DataFrame\n",
      "\n",
      "See the caveats in the documentation: https://pandas.pydata.org/pandas-docs/stable/user_guide/indexing.html#returning-a-view-versus-a-copy\n",
      "  self.ts_param['e_a'].loc[self.ts_param['e_a'].isnull()] = self.ts_param.loc[self.ts_param['e_a'].isnull(), 'RH_mean']/100*(self.ts_param['e_max'][self.ts_param['e_a'].isnull()] + self.ts_param['e_min'][self.ts_param['e_a'].isnull()])/2\n",
      "/usr/local/lib/python3.11/site-packages/eto/param_est.py:157: SettingWithCopyWarning: \n",
      "A value is trying to be set on a copy of a slice from a DataFrame\n",
      "\n",
      "See the caveats in the documentation: https://pandas.pydata.org/pandas-docs/stable/user_guide/indexing.html#returning-a-view-versus-a-copy\n",
      "  self.ts_param['e_a'].loc[self.ts_param['e_a'].isnull()] = 0.6108*np.exp(17.27*self.ts_param.loc[self.ts_param['e_a'].isnull(), 'T_min']/(self.ts_param.loc[self.ts_param['e_a'].isnull(), 'T_min'] + 237.3))\n"
     ]
    },
    {
     "data": {
      "text/plain": [
       "[<matplotlib.lines.Line2D at 0x13ce1bb10>]"
      ]
     },
     "execution_count": 30,
     "metadata": {},
     "output_type": "execute_result"
    },
    {
     "data": {
      "image/png": "[encoded data removed]",
      "text/plain": [
       "<Figure size 640x480 with 1 Axes>"
      ]
     },
     "metadata": {},
     "output_type": "display_data"
    }
   ],
   "source": [
    "#EvapoTranspiration calculation\n",
    "\n",
    "# 2010 (Normal)\n",
    "et1 = ETo()\n",
    "et1.param_est(df= df_2010_weather, freq='D', z_msl=10, lat=18.54, lon=-69.99, TZ_lon=-60.00, z_u=2, K_rs=0.16, a_s=0.25, b_s=0.5, alb=0.23)\n",
    "et1.ts_param.head()\n",
    "ETo_results_2010 = et1.eto_fao()\n",
    "max_ETo_2010 = max(ETo_results_2010)\n",
    "\n",
    "\n",
    "# 2050 (sensitivity analysis)]\n",
    "et2 = ETo()\n",
    "et2.param_est(df= df_SA_weather, freq='D', z_msl=10, lat=18.54, lon=-69.99, TZ_lon=-60.00, z_u=2, K_rs=0.16, a_s=0.25, b_s=0.5, alb=0.23)\n",
    "et2.ts_param.head()\n",
    "ETo_results_SA = et2.eto_fao()\n",
    "max_ETo_SA = max(ETo_results_SA)\n",
    "\n",
    "plt.plot(ETo_results_2010)\n",
    "plt.plot(ETo_results_SA)\n"
   ]
  },
  {
   "cell_type": "code",
   "execution_count": 32,
   "metadata": {},
   "outputs": [
    {
     "data": {
      "image/png": "[encoded data removed]",
      "text/plain": [
       "<Figure size 640x480 with 1 Axes>"
      ]
     },
     "metadata": {},
     "output_type": "display_data"
    }
   ],
   "source": [
    "#For plantains \n",
    "kc_plantains = 0.88 #Goenaga et al (1995)\n",
    "A_1 = 10000 #1 ha = 10000 m2 \n",
    "f_w = 0.3\n",
    "\n",
    "# 2010\n",
    "df_2010 = pd.DataFrame()\n",
    "df_2010['ETc_plantains'] = kc_plantains * ETo_results_2010 #mm/day\n",
    "df_2010['rainfall'] = df_2010_precipitation['rain_1h'] #mm/day\n",
    "\n",
    "df_2010['effective_rainfall'] = np.where(df_2010['rainfall'] > 2.5, (0.8 * df_2010['rainfall'] - 25)/30, (0.6* df_2010['rainfall'] - 10)/30) \n",
    "df_2010['effective_rainfall'] = np.where(df_2010['effective_rainfall'] < 0, 0, df_2010['effective_rainfall']) #can never be less than zero \n",
    "df_2010['irrigation need'] = df_2010['ETc_plantains'] - df_2010['effective_rainfall'] #mm/day\n",
    "df_2010['irrigation need'] = np.where(df_2010['irrigation need'] < 0, 0, df_2010['irrigation need']) #can never be less than zero \n",
    "df_areas_2010 = pd.DataFrame()\n",
    "df_areas_2010['1 ha'] = (A_1 *1 * df_2010['irrigation need']*f_w) / 1000 #m3/day\n",
    "df_areas_2010['2 ha'] = (A_1 *2 * df_2010['irrigation need']*f_w) / 1000 #m3/day\n",
    "df_areas_2010['3 ha'] = (A_1 *3 * df_2010['irrigation need']*f_w) / 1000 #m3/day\n",
    "\n",
    "#SA \n",
    "df_SA = pd.DataFrame()\n",
    "df_SA['ETc_plantains'] = kc_plantains * ETo_results_SA #mm/day\n",
    "df_SA['rainfall'] = df_SA_percipitation['Rain_SA'] #mm/day\n",
    "df_SA['effective_rainfall'] = np.where(df_SA['rainfall'] > 2.5, (0.8 * df_SA['rainfall'] - 25)/30, (0.6* df_SA['rainfall'] - 10)/30) \n",
    "df_SA['effective_rainfall'] = np.where(df_SA['effective_rainfall'] < 0, 0, df_SA['effective_rainfall']) #can never be less than zero \n",
    "df_SA['irrigation need'] = df_SA['ETc_plantains'] - df_SA['effective_rainfall'] #mm/day\n",
    "df_SA['irrigation need'] = np.where(df_SA['irrigation need'] < 0, 0, df_SA['irrigation need']) #can never be less than zero\n",
    "df_areas_SA = pd.DataFrame()\n",
    "df_areas_SA['1 ha'] = (A_1 *1 * df_SA['irrigation need']*f_w) / 1000 #m3/day\n",
    "df_areas_SA['2 ha'] = (A_1 *2 * df_SA['irrigation need']*f_w) / 1000 #m3/day\n",
    "df_areas_SA['3 ha'] = (A_1 *3 * df_SA['irrigation need']*f_w) / 1000 #m3/day\n",
    "\n",
    "\n",
    "\n",
    "\n",
    "import matplotlib.pyplot as plt\n",
    "import numpy as np\n",
    "\n",
    "# Define the width of each violin plot\n",
    "width = 0.35\n",
    "\n",
    "# Define the x-coordinates for each group of violins\n",
    "x_areas_2010 = np.array([1, 2, 3]) - width / 2\n",
    "x_sa = np.array([1, 2, 3]) + width / 2\n",
    "\n",
    "# Plot for df_areas_2010\n",
    "colors = ['dodgerblue', 'dodgerblue', 'dodgerblue']\n",
    "data_areas_2010 = [df_areas_2010['1 ha'], df_areas_2010['2 ha'], df_areas_2010['3 ha']]\n",
    "parts_areas_2010 = plt.violinplot(data_areas_2010, positions=x_areas_2010, widths=width, showmeans=True)\n",
    "\n",
    "# Plot for df_SA\n",
    "colors_sa = ['orange', 'orange', 'orange']\n",
    "data_sa = [df_areas_SA['1 ha'], df_areas_SA['2 ha'], df_areas_SA['3 ha']]\n",
    "parts_sa = plt.violinplot(data_sa, positions=x_sa, widths=width, showmeans=True)\n",
    "\n",
    "# Set labels and ticks\n",
    "plt.ylabel('Daily plot irrigation need [m3/day]')\n",
    "plt.xlabel('Area [ha]')\n",
    "plt.xticks([1, 2, 3], ['1', '2', '3'])\n",
    "\n",
    "# Set colors for df_SA violin plot\n",
    "for pc, color in zip(parts_sa['bodies'], colors_sa):\n",
    "    pc.set_facecolor(color)\n",
    "    pc.set_edgecolor('black')\n",
    "\n",
    "# Set colors for df_areas_2010 violin plot\n",
    "for pc, color in zip(parts_areas_2010['bodies'], colors):\n",
    "    pc.set_facecolor(color)\n",
    "    pc.set_edgecolor('black')\n",
    "   \n",
    "\n",
    "# Set properties for other parts\n",
    "for partname in ('cbars', 'cmeans', 'cmaxes', 'cmins'):\n",
    "    vp = parts_sa[partname]\n",
    "    vp.set_edgecolor('black')\n",
    "    vp.set_linewidth(1.2) \n",
    "for partname in ('cbars', 'cmeans', 'cmaxes', 'cmins'):\n",
    "    vp = parts_areas_2010[partname]\n",
    "    vp.set_edgecolor('black')\n",
    "    vp.set_linewidth(1.2) \n",
    "\n",
    "# Annotate maximum values for df_SA\n",
    "for i, d in enumerate(data_sa):\n",
    "    max_value = np.max(d)\n",
    "    plt.annotate(f'{max_value:.2f}', xy=(x_sa[i], max_value), xytext=(0, +5), textcoords='offset points', ha='center', color='black')\n",
    "\n",
    "# Annotate maximum values for df_2010\n",
    "for i, d in enumerate(data_areas_2010):\n",
    "    max_value = np.max(d)\n",
    "    plt.annotate(f'{max_value:.2f}', xy=(x_areas_2010[i], max_value), xytext=(0, +5), textcoords='offset points', ha='center', color='black')\n",
    "\n",
    "# Create legend\n",
    "blue_patch = mpatches.Patch(color='dodgerblue',  label='2010')\n",
    "orange_patch = mpatches.Patch(color='orange', label='predicted 2050')\n",
    "plt.legend(handles=[blue_patch, orange_patch], loc='upper center', bbox_to_anchor=(0.5, 1.05),\n",
    "          ncol=3, fancybox=True, shadow=True)\n",
    "\n",
    "# Set y-axis properties\n",
    "plt.yticks(np.arange(0, 75, 10))\n",
    "plt.ylim(-2, 70)\n",
    "\n",
    "plt.show()\n"
   ]
  },
  {
   "cell_type": "markdown",
   "metadata": {},
   "source": [
    "# Sizing the system for 2050 "
   ]
  },
  {
   "cell_type": "code",
   "execution_count": 33,
   "metadata": {},
   "outputs": [],
   "source": [
    "#Import and clean Solar data \n",
    "con = sqlite3.connect(\"../NetworkCode/SolarData.sqlite\")\n",
    "df_weather_CEBIVE_raw = pd.read_sql_query(\"SELECT * from cebiveSolarDailyHourly\", con)\n",
    "con.close()\n",
    "\n",
    "#Convert date to datetime\n",
    "df_weather_CEBIVE_raw['iso_date'] = pd.to_datetime(df_weather_CEBIVE_raw['iso_date'])\n",
    "df_weather_CEBIVE_raw.index = pd.to_datetime(df_weather_CEBIVE_raw['iso_date'])\n",
    "\n",
    "#create full weather data set\n",
    "df_weather_full = df_weather_CEBIVE_raw[(df_weather_CEBIVE_raw['location'] == 'CEBIVE')]\n",
    "df_weather_full.index = pd.to_datetime(df_weather_full['iso_date'])\n",
    "df_weather_full = df_weather_full[df_weather_full['Year'] == '2010'] #only 2010 data\n",
    "\n",
    "#Increase temperature as a result of climate change \n",
    "merged_df = pd.merge(df_weather_full, df_Yaque, on='Month', how='left')\n",
    "merged_df['Temp'] = merged_df['Temp'] * (1 + merged_df['percent_change_tempmax'] / 100)\n",
    "merged_df = merged_df.set_index('iso_date')\n",
    "#Correcy formating \n",
    "weather_full = pd.DataFrame({\n",
    "    'ghi': merged_df['Cloudy_sky.ghi'], 'dhi': merged_df['Cloudy_sky.dhi'], 'dni': merged_df['Cloudy_sky.dni'],\n",
    "    'temp_air':  merged_df['Temp'], 'wind_speed':  merged_df['wind_speed']\n",
    "}, index = merged_df.index)\n",
    "\n",
    "loc = location.Location(18.541, -69.990, -4.00, 32.0) #CEBIVE"
   ]
  },
  {
   "cell_type": "code",
   "execution_count": 46,
   "metadata": {},
   "outputs": [],
   "source": [
    "# Lithium-ion battery characterisitics \n",
    "\n",
    "eta_charge = 0.95\n",
    "eta_discharge = 0.95\n",
    "SOC_min = 0.05 #5%\n",
    "SOC_initial = 0.95 #100%\n",
    "SOC_max = 0.95 #90%\n",
    "deprciation = 0.001632 #depreciation per day for 8% per month\n",
    "capacity = 0.1 #kWh"
   ]
  },
  {
   "cell_type": "markdown",
   "metadata": {},
   "source": [
    "### 1 ha "
   ]
  },
  {
   "cell_type": "code",
   "execution_count": 61,
   "metadata": {},
   "outputs": [],
   "source": [
    "max_flow_rate = (2*50*34) /(1000*3600) #m3/s for 1 ha \n",
    "#Pump P vs Q equation from PumpCurve.ipynb --> P = a*Q^3 + b*Q^2 + c*Q + c\n",
    "a = 445687894.591783\n",
    "b = -984696.5871017637\n",
    "c = 854.0710206707552\n",
    "d = -0.05692714507987253\n",
    "\n",
    "max_power = a*(max_flow_rate**3) + b*(max_flow_rate**2) + c*max_flow_rate + d #kw\n",
    "\n",
    "def root_pump_curve(a,b,c,d,P,Q):\n",
    "    '''function Return zero in terms of Q of pump power equation given a,b,c,d and P'''\n",
    "    return (a*(Q**3) + b*(Q**2) + c*Q + d - P)\n"
   ]
  },
  {
   "cell_type": "markdown",
   "metadata": {},
   "source": [
    "#### Direct drive \n"
   ]
  },
  {
   "cell_type": "code",
   "execution_count": 35,
   "metadata": {},
   "outputs": [
    {
     "name": "stderr",
     "output_type": "stream",
     "text": [
      "/var/folders/_q/cqfc7f7d18ng3r1chbk8y35h0000gn/T/ipykernel_71788/1355572652.py:33: FutureWarning: Setting an item of incompatible dtype is deprecated and will raise in a future error of pandas. Value '0.0001528050171676632' has dtype incompatible with int64, please explicitly cast to a compatible dtype first.\n",
      "  df_solar_full.loc[hour, 'flow_rate'] = solution.root\n"
     ]
    },
    {
     "name": "stdout",
     "output_type": "stream",
     "text": [
      "117 days are not covered with variable speed direct-drive operation with 1 panels\n"
     ]
    },
    {
     "name": "stderr",
     "output_type": "stream",
     "text": [
      "/var/folders/_q/cqfc7f7d18ng3r1chbk8y35h0000gn/T/ipykernel_71788/1355572652.py:33: FutureWarning: Setting an item of incompatible dtype is deprecated and will raise in a future error of pandas. Value '0.0003291179292360715' has dtype incompatible with int64, please explicitly cast to a compatible dtype first.\n",
      "  df_solar_full.loc[hour, 'flow_rate'] = solution.root\n"
     ]
    },
    {
     "name": "stdout",
     "output_type": "stream",
     "text": [
      "4 days are not covered with variable speed direct-drive operation with 2 panels\n"
     ]
    },
    {
     "name": "stderr",
     "output_type": "stream",
     "text": [
      "/var/folders/_q/cqfc7f7d18ng3r1chbk8y35h0000gn/T/ipykernel_71788/1355572652.py:33: FutureWarning: Setting an item of incompatible dtype is deprecated and will raise in a future error of pandas. Value '7.715603724853902e-05' has dtype incompatible with int64, please explicitly cast to a compatible dtype first.\n",
      "  df_solar_full.loc[hour, 'flow_rate'] = solution.root\n"
     ]
    },
    {
     "name": "stdout",
     "output_type": "stream",
     "text": [
      "2 days are not covered with variable speed direct-drive operation with 3 panels\n"
     ]
    },
    {
     "name": "stderr",
     "output_type": "stream",
     "text": [
      "/var/folders/_q/cqfc7f7d18ng3r1chbk8y35h0000gn/T/ipykernel_71788/1355572652.py:33: FutureWarning: Setting an item of incompatible dtype is deprecated and will raise in a future error of pandas. Value '9.265599177240723e-05' has dtype incompatible with int64, please explicitly cast to a compatible dtype first.\n",
      "  df_solar_full.loc[hour, 'flow_rate'] = solution.root\n"
     ]
    },
    {
     "name": "stdout",
     "output_type": "stream",
     "text": [
      "1 days are not covered with variable speed direct-drive operation with 4 panels\n"
     ]
    },
    {
     "name": "stderr",
     "output_type": "stream",
     "text": [
      "/var/folders/_q/cqfc7f7d18ng3r1chbk8y35h0000gn/T/ipykernel_71788/1355572652.py:33: FutureWarning: Setting an item of incompatible dtype is deprecated and will raise in a future error of pandas. Value '0.00010878508272888393' has dtype incompatible with int64, please explicitly cast to a compatible dtype first.\n",
      "  df_solar_full.loc[hour, 'flow_rate'] = solution.root\n"
     ]
    },
    {
     "name": "stdout",
     "output_type": "stream",
     "text": [
      "5 panel(s) is sufficient with variable speed operation\n"
     ]
    }
   ],
   "source": [
    "flag = 0 # flag == 0 --> insufficient number of panels, flag == 1 --> sufficient number of panels found \n",
    "n_panels = 1 # number of panels to use\n",
    "\n",
    "while flag == 0: \n",
    "    count = 0 \n",
    "    #Calculate solar panel power production for all days with n panels\n",
    "    loc = location.Location(18.541, -69.990, -4.00, 32.0) #CEBIVE\n",
    "    solpos = loc.get_solarposition(weather_full.index)\n",
    "    module_parameters = {'pdc0': 0.35, 'gamma_pdc': -0.004, 'b': 0.05} #350W pannel \n",
    "    temp_params = TEMPERATURE_MODEL_PARAMETERS['sapm']['open_rack_glass_glass']\n",
    "\n",
    "    array_full = pvsystem.Array(mount=pvsystem.FixedMount(20, 180),\n",
    "                        module_parameters=module_parameters,\n",
    "                        temperature_model_parameters=temp_params, modules_per_string=n_panels)\n",
    "    system_full = pvsystem.PVSystem(arrays=[array_full], inverter_parameters={'pdc0': 5, 'eta_inv_nom':0.95, 'strings_per_inverter':1 })\n",
    "    mc_full = modelchain.ModelChain(system_full, loc, spectral_model='no_loss')\n",
    "    _ = mc_full.run_model(weather_full)\n",
    "\n",
    "    df_solar_full = pd.DataFrame({'solar_power': mc_full.results.ac})\n",
    "\n",
    "    #Calculate the flow rate [m3/s] for each hour for variable speed pump \n",
    "    df_solar_full['flow_rate'] = 0 #initialize column\n",
    "    # Iterate over the index of df_solar_full directly\n",
    "    for hour in df_solar_full.index:\n",
    "        if df_solar_full.loc[hour, 'solar_power'] >= max_power:\n",
    "            df_solar_full.loc[hour, 'flow_rate'] = max_flow_rate\n",
    "        elif df_solar_full.loc[hour, 'solar_power'] == 0:\n",
    "            #Handle the case when solar power is zero \n",
    "            df_solar_full.loc[hour, 'flow_rate'] = 0\n",
    "        else:\n",
    "            # Use root_scalar to find the root of the pump curve equation\n",
    "            solution = scipy.optimize.root_scalar(lambda x: root_pump_curve(a, b, c, d, df_solar_full.loc[hour, 'solar_power'], x), x0=max_flow_rate)\n",
    "            df_solar_full.loc[hour, 'flow_rate'] = solution.root\n",
    "\n",
    "    # SAFETY: Check for negative flow rates\n",
    "    negative_flow_rates = df_solar_full[df_solar_full['flow_rate'] < 0]\n",
    "    if not negative_flow_rates.empty:\n",
    "        raise ValueError(f\"Negative flow rates found in hours: {negative_flow_rates.index.tolist()}\")\n",
    "\n",
    "\n",
    "    # Assuming constant flow rate over each hour, calculate the total daily pumpible water \n",
    "    df_solar_full['flow_rate_hourly']= df_solar_full['flow_rate'] * 3600\n",
    "    daily_flow_rates = df_solar_full['flow_rate_hourly'].resample('D').sum()\n",
    "    df_areas_SA['1ha variable speed'] = daily_flow_rates\n",
    "\n",
    "    \n",
    "    #Is the possible irrigaiation with variable speed operation sufficient  with n_panels? \n",
    "    day_flag = 0 # flag == 0 --> insufficient number of panels, flag == 1 --> sufficient number of panels found\n",
    "    for day in df_areas_SA.index:\n",
    "        if df_areas_SA['1 ha'].loc[day] > df_areas_SA['1ha variable speed'].loc[day]:\n",
    "            #print(f'{n_panels} panel(s) is not sufficient with variable speed operation, on {day} the irrigation deficit is {df_daily_irrigation[\"1 ha\"].loc[day] - df_daily_irrigation[\"1ha variable speed\"].loc[day]} m3')\n",
    "            count += 1\n",
    "            day_flag = 1\n",
    "        \n",
    "    if day_flag == 1:\n",
    "        print(f'{count} days are not covered with variable speed direct-drive operation with {n_panels} panels')\n",
    "        n_panels += 1\n",
    "    else:\n",
    "        flag = 1\n",
    "        print(f'{n_panels} panel(s) is sufficient with variable speed operation')\n",
    "\n",
    "    if n_panels > 10: #safety check\n",
    "        raise ValueError('the number of PV panels required is greater than 10')         \n",
    "\n",
    "\n",
    "#Takes a bit over 4 mins to run"
   ]
  },
  {
   "cell_type": "markdown",
   "metadata": {},
   "source": [
    "#### Battery "
   ]
  },
  {
   "cell_type": "code",
   "execution_count": 48,
   "metadata": {},
   "outputs": [
    {
     "name": "stdout",
     "output_type": "stream",
     "text": [
      "the required number of Lithium-ion batteries is more than 10 for 1 panels\n",
      "12 Lithium-Ion batteries is sufficient with 2 panels over historical data\n",
      "7 Lithium-Ion batteries is sufficient with 3 panels over historical data\n",
      "2 Lithium-Ion batteries is sufficient with 4 panels over historical data\n",
      "0 Lithium-Ion batteries is sufficient with 5 panels over historical data\n"
     ]
    }
   ],
   "source": [
    "# Find minimum number of batteries required to cover all historical days 1 through 5 PV pannels \n",
    "\n",
    "for n_panels_battery in range(1, 6): #number of panels\n",
    "    n_batteries = 0 #number of batteries in the string \n",
    "    flag = 0 #flag == 0 --> insufficient battery capacity found, flag == 1 --> sufficient battery capacity found\n",
    "\n",
    "    #Calculate solar power output with n_pannels_battery\n",
    "    loc = location.Location(18.541, -69.990, -4.00, 32.0) #CEBIVE\n",
    "    solpos = loc.get_solarposition(weather_full.index)\n",
    "    module_parameters = {'pdc0': 0.35, 'gamma_pdc': -0.004, 'b': 0.05} #350W pannel \n",
    "    temp_params = TEMPERATURE_MODEL_PARAMETERS['sapm']['open_rack_glass_glass']\n",
    "\n",
    "    array_full = pvsystem.Array(mount=pvsystem.FixedMount(20, 180),\n",
    "                        module_parameters=module_parameters,\n",
    "                        temperature_model_parameters=temp_params, modules_per_string=n_panels_battery)\n",
    "    system_full = pvsystem.PVSystem(arrays=[array_full], inverter_parameters={'pdc0': 5, 'eta_inv_nom':0.95, 'strings_per_inverter':1 })\n",
    "    mc_full = modelchain.ModelChain(system_full, loc, spectral_model='no_loss')\n",
    "    _ = mc_full.run_model(weather_full)\n",
    "    df_solar_battery = pd.DataFrame({'solar_power': mc_full.results.ac})\n",
    "    \n",
    "\n",
    "    #find minimum number of batteries needed to cover all historical days \n",
    "    while flag == 0:\n",
    "        battery_capacity = capacity * n_batteries #kWh\n",
    "        min_SOC = SOC_min * battery_capacity\n",
    "        max_SOC = SOC_max * battery_capacity\n",
    "        E_stored = [battery_capacity] #kWh, battery energy stored over time, initially full \n",
    "        day_flag = 0 \n",
    "        for day, data in df_solar_battery.groupby(df_solar_battery.index.date):\n",
    "            Q_day = 0 # m3 of water irrigated on day \n",
    "            Q_needed = df_areas_SA['1 ha'].loc[day.strftime('%Y-%m-%d')] #required irrigation in m3 \n",
    "            power_day = df_solar_battery['solar_power'].loc[day.strftime('%Y-%m-%d')]\n",
    "            \n",
    "            for hour in data.index.hour:\n",
    "                deficit = Q_needed - Q_day\n",
    "                power = power_day.iloc[hour] #Power available to pump on that hour\n",
    "\n",
    "                if deficit > 0: #Need to irrigate more water\n",
    "                    if (power >= max_power) & (deficit > max_flow_rate * 3600): #Power is greater than max power so irrigate max possinle amount \n",
    "                        Q_day += max_flow_rate * 3600\n",
    "                        E_storable = (power- max_power) * eta_charge #kWh\n",
    "                    elif (power >= max_power) & (deficit <= max_flow_rate * 3600): #power is greater than max power but dont need to pump max amount\n",
    "                        P_used = a * (deficit/3600)**3 + b * (deficit/3600)**2 + c * (deficit/3600) + d #power used to pump\n",
    "                        Q_day += deficit\n",
    "                        E_storable = (power- P_used) * eta_charge #kWh    \n",
    "                    elif (power == 0): \n",
    "                        E_storable = 0 #no energy stored\n",
    "                        Q_day += 0\n",
    "                    elif (power < max_power): #power is less than max power, but still need to pump \n",
    "                        Q_possible = scipy.optimize.root_scalar(lambda x: root_pump_curve(a, b, c, d, power, x), x0=max_flow_rate)\n",
    "                        E_storable = 0 #no energy stored\n",
    "                        if Q_possible.root*3600 >= deficit:\n",
    "                            Q_day += deficit\n",
    "                        else:\n",
    "                            Q_day += Q_possible.root * 3600\n",
    "                    \n",
    "\n",
    "                else: #dont need to irrigate more\n",
    "                    E_storable =power*eta_charge \n",
    "\n",
    "                #Store energy\n",
    "                if (E_storable + E_stored[-1]*(1-deprciation)) <= max_SOC:\n",
    "                    E_stored.append(E_stored[-1]*(1-deprciation) + E_storable) #kWh\n",
    "                else: #if more energy than battery can store, only store what battery can store\n",
    "                    E_stored.append(max_SOC) #kWh\n",
    "                \n",
    "            \n",
    "                \n",
    "            if deficit > 0: #still need to irrigate more after all possible pumping hours have been exhausted\n",
    "                \n",
    "                #Use energy stored to pump --> Assume always pumping at max flow rate\n",
    "                time_pump = (deficit / 3600)/ max_flow_rate \n",
    "                E_pump = (max_power * time_pump) / eta_discharge\n",
    "\n",
    "                \n",
    "                if (E_stored[-1] - E_pump) >= min_SOC: #if enough energy is stored to pump\n",
    "                    E_stored.append(E_stored[-1]*(1-deprciation) - E_pump)\n",
    "                else: #if not enough energy is stored to pump\n",
    "                    #print(f'{n_batteries} batteries is not sufficient with {n_panels_battery} panels, on {day} the energy deficit is {E_pump - (E_stored[-1]- min_SOC)} kWh')\n",
    "                    day_flag = 1 #flag == 1 --> n_panels_battery is not sufficient with battery operation over historical data\n",
    "\n",
    "        if day_flag == 1: #after checking all days, if n_batteries is not sufficient with n_panels_battery\n",
    "            n_batteries+=1\n",
    "        else: #after checking all days, n_batteries is sufficient with n_panels_battery\n",
    "            flag = 1 \n",
    "            print(f'{n_batteries} Lithium-Ion batteries is sufficient with {n_panels_battery} panels over historical data')\n",
    "                \n",
    "                    \n",
    "        if n_batteries > 20: #safety check\n",
    "            print(f'the required number of Lithium-ion batteries is more than 10 for {n_panels_battery} panels')\n",
    "            flag = 1\n",
    "            \n",
    "        \n",
    "    #Takes 7m 55 with max 10 batteries"
   ]
  },
  {
   "cell_type": "markdown",
   "metadata": {},
   "source": [
    "#### Tank"
   ]
  },
  {
   "cell_type": "code",
   "execution_count": 62,
   "metadata": {},
   "outputs": [
    {
     "name": "stdout",
     "output_type": "stream",
     "text": [
      " the maximum head of the system is 17.835511238939677m so the tank height is 17.835511238939677 m\n"
     ]
    }
   ],
   "source": [
    "\n",
    "#Determinig needed height of tank to create sufficient pressure/flow rate\n",
    "def system_curve (Q): \n",
    "    \"based on a given flow rate (Q) in L/min return the Head (m) of the 1ha system with values for polyfit (DripNetwork.ipynb)\"\n",
    "    return 0.004718754073931565 * (Q**2) + 0.04734825179183301 * Q \n",
    "\n",
    "def total_system_curve (Q):\n",
    "    \"based on a given flow rate (Q) L/mim return the Head (m) including static head of the 3ha system with values for polyfit (DripNetwork.ipynb)\"\n",
    "    return system_curve(Q) + 60.78973049433738\n",
    "\n",
    "max_system_head = system_curve(max_flow_rate * 60 * 1000)\n",
    "print(f\" the maximum head of the system is {max_system_head}m so the tank height is {max_system_head} m\")\n",
    "\n",
    "def tank_pump_curve (Q):\n",
    "    \"\"\"based on a given flow rate (Q) in m3/s return the electrical Power (kW) of the pump for the tank configuration (H = 80.8) with variable speed op\n",
    "        from PumpCurve.ipynb\"\"\"\n",
    "    return 152054186.35597843*Q**3 + -172700.38396421436*Q**2 + 357.18109285749836*Q + -0.005691445084420055\n",
    "\n",
    "tank_max_flow_rate = 0.003072606294153521 #m3/s\n",
    "tank_max_power = tank_pump_curve(tank_max_flow_rate) \n",
    "\n",
    "def tank_system_curve_root(P, Q):\n",
    "    return 152054186.35597843 * Q**3 - 172700.38396421436 * Q**2 + 357.18109285749836 * Q - 0.005691445084420055 - P\n"
   ]
  },
  {
   "cell_type": "code",
   "execution_count": 65,
   "metadata": {},
   "outputs": [
    {
     "name": "stdout",
     "output_type": "stream",
     "text": [
      "the required tank capacity with 1 panel(s) is more than 20 m3\n",
      "13 m3 of tank capacity is sufficient with 2 panel(s)\n",
      "7 m3 of tank capacity is sufficient with 3 panel(s)\n",
      "2 m3 of tank capacity is sufficient with 4 panel(s)\n",
      "0 m3 of tank capacity is sufficient with 5 panel(s)\n"
     ]
    }
   ],
   "source": [
    "hlry_max_out = max_flow_rate * 3600 #m3/hr\n",
    "\n",
    "for n_panels_tank in range(1, 6):\n",
    "    Q_tank_capacity = 0 #Intial tank capacity in m3 \n",
    "    flag = 0  #flag == 0 --> insufficient tank capacity , flag == 1 --> sufficient tank capacity found\n",
    "    \n",
    "    #solar production \n",
    "    loc = location.Location(18.541, -69.990, -4.00, 32.0) #CEBIVE\n",
    "    solpos = loc.get_solarposition(weather_full.index)\n",
    "    module_parameters = {'pdc0': 0.35, 'gamma_pdc': -0.004, 'b': 0.05} #350W pannel \n",
    "    temp_params = TEMPERATURE_MODEL_PARAMETERS['sapm']['open_rack_glass_glass']\n",
    "\n",
    "    array_full = pvsystem.Array(mount=pvsystem.FixedMount(20, 180),\n",
    "                        module_parameters=module_parameters,\n",
    "                        temperature_model_parameters=temp_params, modules_per_string=n_panels_tank)\n",
    "    system_full = pvsystem.PVSystem(arrays=[array_full], inverter_parameters={'pdc0': 5, 'eta_inv_nom':0.95, 'strings_per_inverter':1 })\n",
    "    mc_full = modelchain.ModelChain(system_full, loc, spectral_model='no_loss')\n",
    "    _ = mc_full.run_model(weather_full)\n",
    "    df_solar_tank = pd.DataFrame({'solar_power': mc_full.results.ac})\n",
    "\n",
    "    while flag == 0:\n",
    "        day_flag = 0 #flag == 0 --> insufficient tank capacity , flag == 1 --> sufficient tank capacity found\n",
    "        Q_stored = [Q_tank_capacity] # assume tank is full to start with\n",
    "        \n",
    "\n",
    "        for day in df_areas_SA.index:\n",
    "            Q_day_irrigated = 0 # m3\n",
    "            Q_needed = df_areas_SA['1 ha'].loc[day.strftime('%Y-%m-%d')] #required irrigation in m3 \n",
    "            power_day = df_solar_tank['solar_power'].loc[day.strftime('%Y-%m-%d')]\n",
    "            \n",
    "            for hour in data.index.hour:\n",
    "                power = power_day.iloc[hour] #Power available to pump on that hour\n",
    "                deficit = Q_needed - Q_day_irrigated\n",
    "\n",
    "                if power >= tank_max_power:\n",
    "                    Q_in = tank_max_flow_rate * 3600  #m3/hr\n",
    "                elif (0 < power < tank_max_power):\n",
    "                    sol = scipy.optimize.root_scalar(lambda x: tank_system_curve_root(power,x), x0=tank_max_flow_rate)\n",
    "                    Q_in = sol.root * 3600\n",
    "                elif power == 0:\n",
    "                    Q_in = 0 #no water can be entered \n",
    "\n",
    "                if deficit >= hlry_max_out: #Need to irrigate more than max output\n",
    "                    if Q_in > hlry_max_out:\n",
    "                        Q_day_irrigated += hlry_max_out\n",
    "                        Q_net = Q_in - hlry_max_out\n",
    "                    else:\n",
    "                        if Q_stored[-1] >= hlry_max_out - Q_in:\n",
    "                            Q_day_irrigated += hlry_max_out\n",
    "                            Q_net = Q_in - (hlry_max_out - Q_in)\n",
    "                        else: \n",
    "                            Q_day_irrigated += Q_in + Q_stored[-1] \n",
    "                            Q_net = - Q_stored[-1]\n",
    "\n",
    "                elif (0 < deficit < hlry_max_out):\n",
    "                    if Q_in > deficit:\n",
    "                        Q_day_irrigated += deficit\n",
    "                        Q_net = Q_in - deficit\n",
    "                    else:\n",
    "                        if Q_stored[-1] >= deficit - Q_in:\n",
    "                            Q_day_irrigated += deficit\n",
    "                            Q_net = Q_in - (deficit - Q_in)\n",
    "                        else:\n",
    "                            Q_day_irrigated += Q_in + Q_stored[-1]\n",
    "                            Q_net = - Q_stored[-1]\n",
    "                else: #deficit == 0 \n",
    "                    Q_day_irrigated += 0\n",
    "                    Q_net = Q_in\n",
    "\n",
    "                if Q_stored[-1] + Q_net > Q_tank_capacity:\n",
    "                    Q_stored.append(Q_tank_capacity)\n",
    "                else:\n",
    "                    Q_stored.append(Q_stored[-1] + Q_net)\n",
    "\n",
    "                if Q_stored[-1] < 0: #safety check\n",
    "                    raise ValueError('Q_stored is negative')\n",
    "            \n",
    "            #print(f'{Q_day_irrigated}m3 was irrigated and {Q_needed}m3 was needed on {day}')\n",
    "            if Q_day_irrigated < Q_needed:\n",
    "                day_flag = 1 \n",
    "                #print(f'on {day}, {n_panels_tank} panels is not sufficient with a tank, the irrigation deficit is {Q_needed - Q_day_irrigated} m3')\n",
    "\n",
    "        if day_flag == 0:\n",
    "            flag = 1\n",
    "            print(f'{Q_tank_capacity} m3 of tank capacity is sufficient with {n_panels_tank} panel(s)')\n",
    "        else: \n",
    "            #print(f'{Q_tank_capacity}m3 of tank capcitoy is NOT sufficient for {n_panels_tank} panel(s)')\n",
    "            Q_tank_capacity += 1 #m3\n",
    "\n",
    "        if Q_tank_capacity > 20: #safety check\n",
    "            print(f'the required tank capacity with {n_panels_tank} panel(s) is more than 20 m3')\n",
    "            flag = 1\n",
    "\n",
    "  "
   ]
  },
  {
   "cell_type": "markdown",
   "metadata": {},
   "source": [
    "### 2 ha "
   ]
  },
  {
   "cell_type": "code",
   "execution_count": 55,
   "metadata": {},
   "outputs": [],
   "source": [
    "max_flow_rate = (2*50*68) /(1000*3600) #m3/s\n",
    "#Pump P vs Q equation from PumpCurve.ipynb --> P = a*Q^3 + b*Q^2 + c*Q + c\n",
    "a = 457464099.7859799\n",
    "b = -1002598.6831058152\n",
    "c = 859.5461108664946\n",
    "d = -0.054389800267633744\n",
    "\n",
    "max_power = a*(max_flow_rate**3) + b*(max_flow_rate**2) + c*max_flow_rate + d #kw"
   ]
  },
  {
   "cell_type": "markdown",
   "metadata": {},
   "source": []
  },
  {
   "cell_type": "markdown",
   "metadata": {},
   "source": [
    "#### Direct Drive "
   ]
  },
  {
   "cell_type": "code",
   "execution_count": 56,
   "metadata": {},
   "outputs": [
    {
     "name": "stderr",
     "output_type": "stream",
     "text": [
      "/var/folders/_q/cqfc7f7d18ng3r1chbk8y35h0000gn/T/ipykernel_71788/146528753.py:33: FutureWarning: Setting an item of incompatible dtype is deprecated and will raise in a future error of pandas. Value '0.00022838307355892176' has dtype incompatible with int64, please explicitly cast to a compatible dtype first.\n",
      "  df_solar_full.loc[hour, 'flow_rate'] = solution.root\n"
     ]
    },
    {
     "name": "stdout",
     "output_type": "stream",
     "text": [
      "365 days are not covered with variable speed direct-drive operation with 1 panels\n"
     ]
    },
    {
     "name": "stderr",
     "output_type": "stream",
     "text": [
      "/var/folders/_q/cqfc7f7d18ng3r1chbk8y35h0000gn/T/ipykernel_71788/146528753.py:33: FutureWarning: Setting an item of incompatible dtype is deprecated and will raise in a future error of pandas. Value '0.0001378020052588833' has dtype incompatible with int64, please explicitly cast to a compatible dtype first.\n",
      "  df_solar_full.loc[hour, 'flow_rate'] = solution.root\n"
     ]
    },
    {
     "name": "stdout",
     "output_type": "stream",
     "text": [
      "210 days are not covered with variable speed direct-drive operation with 2 panels\n"
     ]
    },
    {
     "name": "stderr",
     "output_type": "stream",
     "text": [
      "/var/folders/_q/cqfc7f7d18ng3r1chbk8y35h0000gn/T/ipykernel_71788/146528753.py:33: FutureWarning: Setting an item of incompatible dtype is deprecated and will raise in a future error of pandas. Value '0.0003049563299324228' has dtype incompatible with int64, please explicitly cast to a compatible dtype first.\n",
      "  df_solar_full.loc[hour, 'flow_rate'] = solution.root\n"
     ]
    },
    {
     "name": "stdout",
     "output_type": "stream",
     "text": [
      "25 days are not covered with variable speed direct-drive operation with 3 panels\n"
     ]
    },
    {
     "name": "stderr",
     "output_type": "stream",
     "text": [
      "/var/folders/_q/cqfc7f7d18ng3r1chbk8y35h0000gn/T/ipykernel_71788/146528753.py:33: FutureWarning: Setting an item of incompatible dtype is deprecated and will raise in a future error of pandas. Value '0.0006675927216128181' has dtype incompatible with int64, please explicitly cast to a compatible dtype first.\n",
      "  df_solar_full.loc[hour, 'flow_rate'] = solution.root\n"
     ]
    },
    {
     "name": "stdout",
     "output_type": "stream",
     "text": [
      "7 days are not covered with variable speed direct-drive operation with 4 panels\n"
     ]
    },
    {
     "name": "stderr",
     "output_type": "stream",
     "text": [
      "/var/folders/_q/cqfc7f7d18ng3r1chbk8y35h0000gn/T/ipykernel_71788/146528753.py:33: FutureWarning: Setting an item of incompatible dtype is deprecated and will raise in a future error of pandas. Value '0.001109669177490454' has dtype incompatible with int64, please explicitly cast to a compatible dtype first.\n",
      "  df_solar_full.loc[hour, 'flow_rate'] = solution.root\n"
     ]
    },
    {
     "name": "stdout",
     "output_type": "stream",
     "text": [
      "3 days are not covered with variable speed direct-drive operation with 5 panels\n"
     ]
    },
    {
     "name": "stderr",
     "output_type": "stream",
     "text": [
      "/var/folders/_q/cqfc7f7d18ng3r1chbk8y35h0000gn/T/ipykernel_71788/146528753.py:33: FutureWarning: Setting an item of incompatible dtype is deprecated and will raise in a future error of pandas. Value '0.0012955706376994668' has dtype incompatible with int64, please explicitly cast to a compatible dtype first.\n",
      "  df_solar_full.loc[hour, 'flow_rate'] = solution.root\n"
     ]
    },
    {
     "name": "stdout",
     "output_type": "stream",
     "text": [
      "2 days are not covered with variable speed direct-drive operation with 6 panels\n"
     ]
    },
    {
     "name": "stderr",
     "output_type": "stream",
     "text": [
      "/var/folders/_q/cqfc7f7d18ng3r1chbk8y35h0000gn/T/ipykernel_71788/146528753.py:33: FutureWarning: Setting an item of incompatible dtype is deprecated and will raise in a future error of pandas. Value '0.001417411382828354' has dtype incompatible with int64, please explicitly cast to a compatible dtype first.\n",
      "  df_solar_full.loc[hour, 'flow_rate'] = solution.root\n"
     ]
    },
    {
     "name": "stdout",
     "output_type": "stream",
     "text": [
      "2 days are not covered with variable speed direct-drive operation with 7 panels\n"
     ]
    },
    {
     "name": "stderr",
     "output_type": "stream",
     "text": [
      "/var/folders/_q/cqfc7f7d18ng3r1chbk8y35h0000gn/T/ipykernel_71788/146528753.py:33: FutureWarning: Setting an item of incompatible dtype is deprecated and will raise in a future error of pandas. Value '0.0015110771050532044' has dtype incompatible with int64, please explicitly cast to a compatible dtype first.\n",
      "  df_solar_full.loc[hour, 'flow_rate'] = solution.root\n"
     ]
    },
    {
     "name": "stdout",
     "output_type": "stream",
     "text": [
      "2 days are not covered with variable speed direct-drive operation with 8 panels\n"
     ]
    },
    {
     "name": "stderr",
     "output_type": "stream",
     "text": [
      "/var/folders/_q/cqfc7f7d18ng3r1chbk8y35h0000gn/T/ipykernel_71788/146528753.py:33: FutureWarning: Setting an item of incompatible dtype is deprecated and will raise in a future error of pandas. Value '0.0015884811498864282' has dtype incompatible with int64, please explicitly cast to a compatible dtype first.\n",
      "  df_solar_full.loc[hour, 'flow_rate'] = solution.root\n"
     ]
    },
    {
     "name": "stdout",
     "output_type": "stream",
     "text": [
      "2 days are not covered with variable speed direct-drive operation with 9 panels\n"
     ]
    },
    {
     "name": "stderr",
     "output_type": "stream",
     "text": [
      "/var/folders/_q/cqfc7f7d18ng3r1chbk8y35h0000gn/T/ipykernel_71788/146528753.py:33: FutureWarning: Setting an item of incompatible dtype is deprecated and will raise in a future error of pandas. Value '0.00165513945678411' has dtype incompatible with int64, please explicitly cast to a compatible dtype first.\n",
      "  df_solar_full.loc[hour, 'flow_rate'] = solution.root\n"
     ]
    },
    {
     "name": "stdout",
     "output_type": "stream",
     "text": [
      "1 days are not covered with variable speed direct-drive operation with 10 panels\n"
     ]
    },
    {
     "name": "stderr",
     "output_type": "stream",
     "text": [
      "/var/folders/_q/cqfc7f7d18ng3r1chbk8y35h0000gn/T/ipykernel_71788/146528753.py:33: FutureWarning: Setting an item of incompatible dtype is deprecated and will raise in a future error of pandas. Value '7.197511676969353e-05' has dtype incompatible with int64, please explicitly cast to a compatible dtype first.\n",
      "  df_solar_full.loc[hour, 'flow_rate'] = solution.root\n"
     ]
    },
    {
     "name": "stdout",
     "output_type": "stream",
     "text": [
      "1 days are not covered with variable speed direct-drive operation with 11 panels\n"
     ]
    },
    {
     "name": "stderr",
     "output_type": "stream",
     "text": [
      "/var/folders/_q/cqfc7f7d18ng3r1chbk8y35h0000gn/T/ipykernel_71788/146528753.py:33: FutureWarning: Setting an item of incompatible dtype is deprecated and will raise in a future error of pandas. Value '8.721014487670479e-05' has dtype incompatible with int64, please explicitly cast to a compatible dtype first.\n",
      "  df_solar_full.loc[hour, 'flow_rate'] = solution.root\n"
     ]
    },
    {
     "name": "stdout",
     "output_type": "stream",
     "text": [
      "1 days are not covered with variable speed direct-drive operation with 12 panels\n"
     ]
    },
    {
     "name": "stderr",
     "output_type": "stream",
     "text": [
      "/var/folders/_q/cqfc7f7d18ng3r1chbk8y35h0000gn/T/ipykernel_71788/146528753.py:33: FutureWarning: Setting an item of incompatible dtype is deprecated and will raise in a future error of pandas. Value '0.00010305844021279698' has dtype incompatible with int64, please explicitly cast to a compatible dtype first.\n",
      "  df_solar_full.loc[hour, 'flow_rate'] = solution.root\n"
     ]
    },
    {
     "name": "stdout",
     "output_type": "stream",
     "text": [
      "1 days are not covered with variable speed direct-drive operation with 13 panels\n"
     ]
    },
    {
     "name": "stderr",
     "output_type": "stream",
     "text": [
      "/var/folders/_q/cqfc7f7d18ng3r1chbk8y35h0000gn/T/ipykernel_71788/146528753.py:33: FutureWarning: Setting an item of incompatible dtype is deprecated and will raise in a future error of pandas. Value '0.00011958240580447701' has dtype incompatible with int64, please explicitly cast to a compatible dtype first.\n",
      "  df_solar_full.loc[hour, 'flow_rate'] = solution.root\n"
     ]
    },
    {
     "name": "stdout",
     "output_type": "stream",
     "text": [
      "14 panel(s) is sufficient with variable speed operation\n"
     ]
    }
   ],
   "source": [
    "flag = 0 # flag == 0 --> insufficient number of panels, flag == 1 --> sufficient number of panels found \n",
    "n_panels = 1 # number of panels to use\n",
    "\n",
    "while flag == 0: \n",
    "    count = 0 \n",
    "    #Calculate solar panel power production for all days with n panels\n",
    "    loc = location.Location(18.541, -69.990, -4.00, 32.0) #CEBIVE\n",
    "    solpos = loc.get_solarposition(weather_full.index)\n",
    "    module_parameters = {'pdc0': 0.35, 'gamma_pdc': -0.004, 'b': 0.05} #350W pannel \n",
    "    temp_params = TEMPERATURE_MODEL_PARAMETERS['sapm']['open_rack_glass_glass']\n",
    "\n",
    "    array_full = pvsystem.Array(mount=pvsystem.FixedMount(20, 180),\n",
    "                        module_parameters=module_parameters,\n",
    "                        temperature_model_parameters=temp_params, modules_per_string=n_panels)\n",
    "    system_full = pvsystem.PVSystem(arrays=[array_full], inverter_parameters={'pdc0': 20, 'eta_inv_nom':0.95, 'strings_per_inverter':1 })\n",
    "    mc_full = modelchain.ModelChain(system_full, loc, spectral_model='no_loss')\n",
    "    _ = mc_full.run_model(weather_full)\n",
    "\n",
    "    df_solar_full = pd.DataFrame({'solar_power': mc_full.results.ac})\n",
    "\n",
    "    #Calculate the flow rate [m3/s] for each hour for variable speed pump \n",
    "    df_solar_full['flow_rate'] = 0 #initialize column\n",
    "    # Iterate over the index of df_solar_full directly\n",
    "    for hour in df_solar_full.index:\n",
    "        if df_solar_full.loc[hour, 'solar_power'] >= max_power:\n",
    "            df_solar_full.loc[hour, 'flow_rate'] = max_flow_rate\n",
    "        elif df_solar_full.loc[hour, 'solar_power'] == 0:\n",
    "            #Handle the case when solar power is zero \n",
    "            df_solar_full.loc[hour, 'flow_rate'] = 0\n",
    "        else:\n",
    "            # Use root_scalar to find the root of the pump curve equation\n",
    "            solution = scipy.optimize.root_scalar(lambda x: root_pump_curve(a, b, c, d, df_solar_full.loc[hour, 'solar_power'], x), x0=max_flow_rate)\n",
    "            df_solar_full.loc[hour, 'flow_rate'] = solution.root\n",
    "\n",
    "    # SAFETY: Check for negative flow rates\n",
    "    negative_flow_rates = df_solar_full[df_solar_full['flow_rate'] < 0]\n",
    "    if not negative_flow_rates.empty:\n",
    "        raise ValueError(f\"Negative flow rates found in hours: {negative_flow_rates.index.tolist()}\")\n",
    "\n",
    "\n",
    "    # Assuming constant flow rate over each hour, calculate the total daily pumpible water \n",
    "    df_solar_full['flow_rate_hourly']= df_solar_full['flow_rate'] * 3600\n",
    "    daily_flow_rates = df_solar_full['flow_rate_hourly'].resample('D').sum()\n",
    "    df_areas_SA['2ha variable speed'] = daily_flow_rates\n",
    "\n",
    "    \n",
    "    #Is the possible irrigaiation with variable speed operation sufficient  with n_panels? \n",
    "    day_flag = 0 # flag == 0 --> insufficient number of panels, flag == 1 --> sufficient number of panels found\n",
    "    for day in df_areas_SA.index:\n",
    "        if df_areas_SA['2 ha'].loc[day] > df_areas_SA['2ha variable speed'].loc[day]:\n",
    "            #print(f'{n_panels} panel(s) is not sufficient with variable speed operation, on {day} the irrigation deficit is {df_daily_irrigation[\"1 ha\"].loc[day] - df_daily_irrigation[\"1ha variable speed\"].loc[day]} m3')\n",
    "            count += 1\n",
    "            day_flag = 1\n",
    "        \n",
    "    if day_flag == 1:\n",
    "        print(f'{count} days are not covered with variable speed direct-drive operation with {n_panels} panels')\n",
    "        n_panels += 1\n",
    "    else:\n",
    "        flag = 1\n",
    "        print(f'{n_panels} panel(s) is sufficient with variable speed operation')\n",
    "\n",
    "    if n_panels > 20: #safety check\n",
    "        raise ValueError('the number of PV panels required is greater than 10')         \n",
    "\n",
    "\n",
    "#Takes a bit over 4 mins to run"
   ]
  },
  {
   "cell_type": "markdown",
   "metadata": {},
   "source": [
    "#### Battery"
   ]
  },
  {
   "cell_type": "code",
   "execution_count": 57,
   "metadata": {},
   "outputs": [
    {
     "name": "stdout",
     "output_type": "stream",
     "text": [
      "the required number of batteries is more than 10 for 1 panels\n",
      "the required number of batteries is more than 10 for 2 panels\n",
      "7 Lithuim batteries is sufficient with 3 panels over historical data\n",
      "6 Lithuim batteries is sufficient with 4 panels over historical data\n",
      "4 Lithuim batteries is sufficient with 5 panels over historical data\n",
      "3 Lithuim batteries is sufficient with 6 panels over historical data\n",
      "2 Lithuim batteries is sufficient with 7 panels over historical data\n",
      "1 Lithuim batteries is sufficient with 8 panels over historical data\n",
      "1 Lithuim batteries is sufficient with 9 panels over historical data\n",
      "1 Lithuim batteries is sufficient with 10 panels over historical data\n",
      "0 Lithuim batteries is sufficient with 11 panels over historical data\n",
      "0 Lithuim batteries is sufficient with 12 panels over historical data\n",
      "0 Lithuim batteries is sufficient with 13 panels over historical data\n",
      "0 Lithuim batteries is sufficient with 14 panels over historical data\n"
     ]
    }
   ],
   "source": [
    "capacity = 1 #kWh\n",
    "\n",
    "for n_panels_battery in range(1, 15): #number of panels\n",
    "    n_batteries = 0 #number of batteries in the string \n",
    "    flag = 0 #flag == 0 --> insufficient battery capacity found, flag == 1 --> sufficient battery capacity found\n",
    "\n",
    "    #Calculate solar power output with n_pannels_battery\n",
    "    loc = location.Location(18.541, -69.990, -4.00, 32.0) #CEBIVE\n",
    "    solpos = loc.get_solarposition(weather_full.index)\n",
    "    module_parameters = {'pdc0': 0.35, 'gamma_pdc': -0.004, 'b': 0.05} #350W pannel \n",
    "    temp_params = TEMPERATURE_MODEL_PARAMETERS['sapm']['open_rack_glass_glass']\n",
    "\n",
    "    array_full = pvsystem.Array(mount=pvsystem.FixedMount(20, 180),\n",
    "                        module_parameters=module_parameters,\n",
    "                        temperature_model_parameters=temp_params, modules_per_string=n_panels_battery)\n",
    "    system_full = pvsystem.PVSystem(arrays=[array_full], inverter_parameters={'pdc0': 10, 'eta_inv_nom':0.95, 'strings_per_inverter':1 })\n",
    "    mc_full = modelchain.ModelChain(system_full, loc, spectral_model='no_loss')\n",
    "    _ = mc_full.run_model(weather_full)\n",
    "    df_solar_battery = pd.DataFrame({'solar_power': mc_full.results.ac})\n",
    "    \n",
    "\n",
    "    #find minimum number of batteries needed to cover all historical days \n",
    "    while flag == 0:\n",
    "        battery_capacity = capacity * n_batteries #kWh\n",
    "        min_SOC = SOC_min * battery_capacity\n",
    "        max_SOC = SOC_max * battery_capacity\n",
    "        E_stored = [battery_capacity] #kWh, battery energy stored over time, initially full \n",
    "        day_flag = 0 \n",
    "        for day, data in df_solar_battery.groupby(df_solar_battery.index.date):\n",
    "            Q_day = 0 # m3 of water irrigated on day \n",
    "            Q_needed = df_areas_SA['2 ha'].loc[day.strftime('%Y-%m-%d')] #required irrigation in m3 \n",
    "            power_day = df_solar_battery['solar_power'].loc[day.strftime('%Y-%m-%d')]\n",
    "            \n",
    "            for hour in data.index.hour:\n",
    "                deficit = Q_needed - Q_day\n",
    "                power = power_day.iloc[hour] #Power available to pump on that hour\n",
    "\n",
    "                if deficit > 0: #Need to irrigate more water\n",
    "                    if (power >= max_power) & (deficit > max_flow_rate * 3600): #Power is greater than max power so irrigate max possinle amount \n",
    "                        Q_day += max_flow_rate * 3600\n",
    "                        E_storable = (power- max_power) * eta_charge #kWh\n",
    "                    elif (power >= max_power) & (deficit <= max_flow_rate * 3600): #power is greater than max power but dont need to pump max amount\n",
    "                        P_used = a * (deficit/3600)**3 + b * (deficit/3600)**2 + c * (deficit/3600) + d #power used to pump\n",
    "                        Q_day += deficit\n",
    "                        E_storable = (power- P_used) * eta_charge #kWh    \n",
    "                    elif (power == 0): \n",
    "                        E_storable = 0 #no energy stored\n",
    "                        Q_day += 0\n",
    "                    elif (power < max_power): #power is less than max power, but still need to pump \n",
    "                        Q_possible = scipy.optimize.root_scalar(lambda x: root_pump_curve(a, b, c, d, power, x), x0=max_flow_rate)\n",
    "                        E_storable = 0 #no energy stored\n",
    "                        if Q_possible.root*3600 >= deficit:\n",
    "                            Q_day += deficit\n",
    "                        else:\n",
    "                            Q_day += Q_possible.root * 3600\n",
    "                    \n",
    "\n",
    "                else: #dont need to irrigate more\n",
    "                    E_storable =power*eta_charge \n",
    "\n",
    "                #Store energy\n",
    "                if (E_storable + E_stored[-1]*(1-deprciation)) <= max_SOC:\n",
    "                    E_stored.append(E_stored[-1]*(1-deprciation) + E_storable) #kWh\n",
    "                else: #if more energy than battery can store, only store what battery can store\n",
    "                    E_stored.append(max_SOC) #kWh\n",
    "                \n",
    "            \n",
    "                \n",
    "            if deficit > 0: #still need to irrigate more after all possible pumping hours have been exhausted\n",
    "                \n",
    "                #Use energy stored to pump --> Assume always pumping at max flow rate\n",
    "                time_pump = (deficit / 3600)/ max_flow_rate \n",
    "                E_pump = (max_power * time_pump) / eta_discharge\n",
    "\n",
    "                \n",
    "                if (E_stored[-1] - E_pump) >= min_SOC: #if enough energy is stored to pump\n",
    "                    E_stored.append(E_stored[-1]*(1-deprciation) - E_pump)\n",
    "                else: #if not enough energy is stored to pump\n",
    "                    #print(f'{n_batteries} batteries is not sufficient with {n_panels_battery} panels, on {day} the energy deficit is {E_pump - (E_stored[-1]- min_SOC)} kWh')\n",
    "                    day_flag = 1 #flag == 1 --> n_panels_battery is not sufficient with battery operation over historical data\n",
    "\n",
    "        if day_flag == 1: #after checking all days, if n_batteries is not sufficient with n_panels_battery\n",
    "            n_batteries+=1\n",
    "        else: #after checking all days, n_batteries is sufficient with n_panels_battery\n",
    "            flag = 1 \n",
    "            print(f'{n_batteries} Lithuim batteries is sufficient with {n_panels_battery} panels over historical data')\n",
    "                \n",
    "                    \n",
    "        if n_batteries > 10: #safety check\n",
    "            print(f'the required number of batteries is more than 10 for {n_panels_battery} panels')\n",
    "            flag = 1\n",
    "            \n",
    "        "
   ]
  },
  {
   "cell_type": "markdown",
   "metadata": {},
   "source": [
    "### 3 ha "
   ]
  },
  {
   "cell_type": "code",
   "execution_count": 58,
   "metadata": {},
   "outputs": [],
   "source": [
    "max_flow_rate = (2*50*100) /(1000*3600) #m3/s\n",
    "#Pump P vs Q equation from PumpCurve.ipynb --> P = a*Q^3 + b*Q^2 + c*Q + c\n",
    "a = 445687894.591783\n",
    "b = -984696.5871017637\n",
    "c = 854.0710206707552\n",
    "d = -0.05692714507987253\n",
    "\n",
    "max_power = a*(max_flow_rate**3) + b*(max_flow_rate**2) + c*max_flow_rate + d #kw\n",
    "\n"
   ]
  },
  {
   "cell_type": "markdown",
   "metadata": {},
   "source": [
    "#### Direct Drive"
   ]
  },
  {
   "cell_type": "code",
   "execution_count": 44,
   "metadata": {},
   "outputs": [
    {
     "name": "stderr",
     "output_type": "stream",
     "text": [
      "/var/folders/_q/cqfc7f7d18ng3r1chbk8y35h0000gn/T/ipykernel_71788/4228990920.py:33: FutureWarning: Setting an item of incompatible dtype is deprecated and will raise in a future error of pandas. Value '0.00023475767214748948' has dtype incompatible with int64, please explicitly cast to a compatible dtype first.\n",
      "  df_solar_full.loc[hour, 'flow_rate'] = solution.root\n"
     ]
    },
    {
     "name": "stdout",
     "output_type": "stream",
     "text": [
      "365 days are not covered with variable speed direct-drive operation with 1 panels\n"
     ]
    },
    {
     "name": "stderr",
     "output_type": "stream",
     "text": [
      "/var/folders/_q/cqfc7f7d18ng3r1chbk8y35h0000gn/T/ipykernel_71788/4228990920.py:33: FutureWarning: Setting an item of incompatible dtype is deprecated and will raise in a future error of pandas. Value '0.00014273913947700662' has dtype incompatible with int64, please explicitly cast to a compatible dtype first.\n",
      "  df_solar_full.loc[hour, 'flow_rate'] = solution.root\n"
     ]
    },
    {
     "name": "stdout",
     "output_type": "stream",
     "text": [
      "356 days are not covered with variable speed direct-drive operation with 2 panels\n"
     ]
    },
    {
     "name": "stderr",
     "output_type": "stream",
     "text": [
      "/var/folders/_q/cqfc7f7d18ng3r1chbk8y35h0000gn/T/ipykernel_71788/4228990920.py:33: FutureWarning: Setting an item of incompatible dtype is deprecated and will raise in a future error of pandas. Value '0.0003126584469199652' has dtype incompatible with int64, please explicitly cast to a compatible dtype first.\n",
      "  df_solar_full.loc[hour, 'flow_rate'] = solution.root\n"
     ]
    },
    {
     "name": "stdout",
     "output_type": "stream",
     "text": [
      "213 days are not covered with variable speed direct-drive operation with 3 panels\n"
     ]
    },
    {
     "name": "stderr",
     "output_type": "stream",
     "text": [
      "/var/folders/_q/cqfc7f7d18ng3r1chbk8y35h0000gn/T/ipykernel_71788/4228990920.py:33: FutureWarning: Setting an item of incompatible dtype is deprecated and will raise in a future error of pandas. Value '0.0006804002166760983' has dtype incompatible with int64, please explicitly cast to a compatible dtype first.\n",
      "  df_solar_full.loc[hour, 'flow_rate'] = solution.root\n"
     ]
    },
    {
     "name": "stdout",
     "output_type": "stream",
     "text": [
      "65 days are not covered with variable speed direct-drive operation with 4 panels\n"
     ]
    },
    {
     "name": "stderr",
     "output_type": "stream",
     "text": [
      "/var/folders/_q/cqfc7f7d18ng3r1chbk8y35h0000gn/T/ipykernel_71788/4228990920.py:33: FutureWarning: Setting an item of incompatible dtype is deprecated and will raise in a future error of pandas. Value '0.0011179998311952202' has dtype incompatible with int64, please explicitly cast to a compatible dtype first.\n",
      "  df_solar_full.loc[hour, 'flow_rate'] = solution.root\n"
     ]
    },
    {
     "name": "stdout",
     "output_type": "stream",
     "text": [
      "16 days are not covered with variable speed direct-drive operation with 5 panels\n"
     ]
    },
    {
     "name": "stderr",
     "output_type": "stream",
     "text": [
      "/var/folders/_q/cqfc7f7d18ng3r1chbk8y35h0000gn/T/ipykernel_71788/4228990920.py:33: FutureWarning: Setting an item of incompatible dtype is deprecated and will raise in a future error of pandas. Value '0.0013049420216068542' has dtype incompatible with int64, please explicitly cast to a compatible dtype first.\n",
      "  df_solar_full.loc[hour, 'flow_rate'] = solution.root\n"
     ]
    },
    {
     "name": "stdout",
     "output_type": "stream",
     "text": [
      "5 days are not covered with variable speed direct-drive operation with 6 panels\n"
     ]
    },
    {
     "name": "stderr",
     "output_type": "stream",
     "text": [
      "/var/folders/_q/cqfc7f7d18ng3r1chbk8y35h0000gn/T/ipykernel_71788/4228990920.py:33: FutureWarning: Setting an item of incompatible dtype is deprecated and will raise in a future error of pandas. Value '0.0014277839400856072' has dtype incompatible with int64, please explicitly cast to a compatible dtype first.\n",
      "  df_solar_full.loc[hour, 'flow_rate'] = solution.root\n"
     ]
    },
    {
     "name": "stdout",
     "output_type": "stream",
     "text": [
      "5 days are not covered with variable speed direct-drive operation with 7 panels\n"
     ]
    },
    {
     "name": "stderr",
     "output_type": "stream",
     "text": [
      "/var/folders/_q/cqfc7f7d18ng3r1chbk8y35h0000gn/T/ipykernel_71788/4228990920.py:33: FutureWarning: Setting an item of incompatible dtype is deprecated and will raise in a future error of pandas. Value '0.0015222834305482743' has dtype incompatible with int64, please explicitly cast to a compatible dtype first.\n",
      "  df_solar_full.loc[hour, 'flow_rate'] = solution.root\n"
     ]
    },
    {
     "name": "stdout",
     "output_type": "stream",
     "text": [
      "2 days are not covered with variable speed direct-drive operation with 8 panels\n"
     ]
    },
    {
     "name": "stderr",
     "output_type": "stream",
     "text": [
      "/var/folders/_q/cqfc7f7d18ng3r1chbk8y35h0000gn/T/ipykernel_71788/4228990920.py:33: FutureWarning: Setting an item of incompatible dtype is deprecated and will raise in a future error of pandas. Value '0.0016003966261373516' has dtype incompatible with int64, please explicitly cast to a compatible dtype first.\n",
      "  df_solar_full.loc[hour, 'flow_rate'] = solution.root\n"
     ]
    },
    {
     "name": "stdout",
     "output_type": "stream",
     "text": [
      "2 days are not covered with variable speed direct-drive operation with 9 panels\n"
     ]
    },
    {
     "name": "stderr",
     "output_type": "stream",
     "text": [
      "/var/folders/_q/cqfc7f7d18ng3r1chbk8y35h0000gn/T/ipykernel_71788/4228990920.py:33: FutureWarning: Setting an item of incompatible dtype is deprecated and will raise in a future error of pandas. Value '0.001667673300242211' has dtype incompatible with int64, please explicitly cast to a compatible dtype first.\n",
      "  df_solar_full.loc[hour, 'flow_rate'] = solution.root\n"
     ]
    },
    {
     "name": "stdout",
     "output_type": "stream",
     "text": [
      "2 days are not covered with variable speed direct-drive operation with 10 panels\n"
     ]
    },
    {
     "name": "stderr",
     "output_type": "stream",
     "text": [
      "/var/folders/_q/cqfc7f7d18ng3r1chbk8y35h0000gn/T/ipykernel_71788/4228990920.py:33: FutureWarning: Setting an item of incompatible dtype is deprecated and will raise in a future error of pandas. Value '7.594738732863284e-05' has dtype incompatible with int64, please explicitly cast to a compatible dtype first.\n",
      "  df_solar_full.loc[hour, 'flow_rate'] = solution.root\n"
     ]
    },
    {
     "name": "stdout",
     "output_type": "stream",
     "text": [
      "2 days are not covered with variable speed direct-drive operation with 11 panels\n"
     ]
    },
    {
     "name": "stderr",
     "output_type": "stream",
     "text": [
      "/var/folders/_q/cqfc7f7d18ng3r1chbk8y35h0000gn/T/ipykernel_71788/4228990920.py:33: FutureWarning: Setting an item of incompatible dtype is deprecated and will raise in a future error of pandas. Value '9.14003796880748e-05' has dtype incompatible with int64, please explicitly cast to a compatible dtype first.\n",
      "  df_solar_full.loc[hour, 'flow_rate'] = solution.root\n"
     ]
    },
    {
     "name": "stdout",
     "output_type": "stream",
     "text": [
      "2 days are not covered with variable speed direct-drive operation with 12 panels\n"
     ]
    },
    {
     "name": "stderr",
     "output_type": "stream",
     "text": [
      "/var/folders/_q/cqfc7f7d18ng3r1chbk8y35h0000gn/T/ipykernel_71788/4228990920.py:33: FutureWarning: Setting an item of incompatible dtype is deprecated and will raise in a future error of pandas. Value '0.0001074787281573986' has dtype incompatible with int64, please explicitly cast to a compatible dtype first.\n",
      "  df_solar_full.loc[hour, 'flow_rate'] = solution.root\n"
     ]
    },
    {
     "name": "stdout",
     "output_type": "stream",
     "text": [
      "2 days are not covered with variable speed direct-drive operation with 13 panels\n"
     ]
    },
    {
     "name": "stderr",
     "output_type": "stream",
     "text": [
      "/var/folders/_q/cqfc7f7d18ng3r1chbk8y35h0000gn/T/ipykernel_71788/4228990920.py:33: FutureWarning: Setting an item of incompatible dtype is deprecated and will raise in a future error of pandas. Value '0.0001242463043201667' has dtype incompatible with int64, please explicitly cast to a compatible dtype first.\n",
      "  df_solar_full.loc[hour, 'flow_rate'] = solution.root\n"
     ]
    },
    {
     "name": "stdout",
     "output_type": "stream",
     "text": [
      "1 days are not covered with variable speed direct-drive operation with 14 panels\n"
     ]
    },
    {
     "name": "stderr",
     "output_type": "stream",
     "text": [
      "/var/folders/_q/cqfc7f7d18ng3r1chbk8y35h0000gn/T/ipykernel_71788/4228990920.py:33: FutureWarning: Setting an item of incompatible dtype is deprecated and will raise in a future error of pandas. Value '0.00014177771667409252' has dtype incompatible with int64, please explicitly cast to a compatible dtype first.\n",
      "  df_solar_full.loc[hour, 'flow_rate'] = solution.root\n"
     ]
    },
    {
     "name": "stdout",
     "output_type": "stream",
     "text": [
      "1 days are not covered with variable speed direct-drive operation with 15 panels\n"
     ]
    },
    {
     "name": "stderr",
     "output_type": "stream",
     "text": [
      "/var/folders/_q/cqfc7f7d18ng3r1chbk8y35h0000gn/T/ipykernel_71788/4228990920.py:33: FutureWarning: Setting an item of incompatible dtype is deprecated and will raise in a future error of pandas. Value '0.00016016088195298128' has dtype incompatible with int64, please explicitly cast to a compatible dtype first.\n",
      "  df_solar_full.loc[hour, 'flow_rate'] = solution.root\n"
     ]
    },
    {
     "name": "stdout",
     "output_type": "stream",
     "text": [
      "1 days are not covered with variable speed direct-drive operation with 16 panels\n"
     ]
    },
    {
     "name": "stderr",
     "output_type": "stream",
     "text": [
      "/var/folders/_q/cqfc7f7d18ng3r1chbk8y35h0000gn/T/ipykernel_71788/4228990920.py:33: FutureWarning: Setting an item of incompatible dtype is deprecated and will raise in a future error of pandas. Value '0.00017950041186646736' has dtype incompatible with int64, please explicitly cast to a compatible dtype first.\n",
      "  df_solar_full.loc[hour, 'flow_rate'] = solution.root\n"
     ]
    },
    {
     "name": "stdout",
     "output_type": "stream",
     "text": [
      "17 panel(s) is sufficient with variable speed operation\n"
     ]
    }
   ],
   "source": [
    "flag = 0 # flag == 0 --> insufficient number of panels, flag == 1 --> sufficient number of panels found \n",
    "n_panels = 1 # number of panels to use\n",
    "\n",
    "while flag == 0: \n",
    "    count = 0 \n",
    "    #Calculate solar panel power production for all days with n panels\n",
    "    loc = location.Location(18.541, -69.990, -4.00, 32.0) #CEBIVE\n",
    "    solpos = loc.get_solarposition(weather_full.index)\n",
    "    module_parameters = {'pdc0': 0.35, 'gamma_pdc': -0.004, 'b': 0.05} #350W pannel \n",
    "    temp_params = TEMPERATURE_MODEL_PARAMETERS['sapm']['open_rack_glass_glass']\n",
    "\n",
    "    array_full = pvsystem.Array(mount=pvsystem.FixedMount(20, 180),\n",
    "                        module_parameters=module_parameters,\n",
    "                        temperature_model_parameters=temp_params, modules_per_string=n_panels)\n",
    "    system_full = pvsystem.PVSystem(arrays=[array_full], inverter_parameters={'pdc0': 20, 'eta_inv_nom':0.95, 'strings_per_inverter':1 })\n",
    "    mc_full = modelchain.ModelChain(system_full, loc, spectral_model='no_loss')\n",
    "    _ = mc_full.run_model(weather_full)\n",
    "\n",
    "    df_solar_full = pd.DataFrame({'solar_power': mc_full.results.ac})\n",
    "\n",
    "    #Calculate the flow rate [m3/s] for each hour for variable speed pump \n",
    "    df_solar_full['flow_rate'] = 0 #initialize column\n",
    "    # Iterate over the index of df_solar_full directly\n",
    "    for hour in df_solar_full.index:\n",
    "        if df_solar_full.loc[hour, 'solar_power'] >= max_power:\n",
    "            df_solar_full.loc[hour, 'flow_rate'] = max_flow_rate\n",
    "        elif df_solar_full.loc[hour, 'solar_power'] == 0:\n",
    "            #Handle the case when solar power is zero \n",
    "            df_solar_full.loc[hour, 'flow_rate'] = 0\n",
    "        else:\n",
    "            # Use root_scalar to find the root of the pump curve equation\n",
    "            solution = scipy.optimize.root_scalar(lambda x: root_pump_curve(a, b, c, d, df_solar_full.loc[hour, 'solar_power'], x), x0=max_flow_rate)\n",
    "            df_solar_full.loc[hour, 'flow_rate'] = solution.root\n",
    "\n",
    "    # SAFETY: Check for negative flow rates\n",
    "    negative_flow_rates = df_solar_full[df_solar_full['flow_rate'] < 0]\n",
    "    if not negative_flow_rates.empty:\n",
    "        raise ValueError(f\"Negative flow rates found in hours: {negative_flow_rates.index.tolist()}\")\n",
    "\n",
    "\n",
    "    # Assuming constant flow rate over each hour, calculate the total daily pumpible water \n",
    "    df_solar_full['flow_rate_hourly']= df_solar_full['flow_rate'] * 3600\n",
    "    daily_flow_rates = df_solar_full['flow_rate_hourly'].resample('D').sum()\n",
    "    df_areas_SA['3ha variable speed'] = daily_flow_rates\n",
    "\n",
    "    \n",
    "    #Is the possible irrigaiation with variable speed operation sufficient  with n_panels? \n",
    "    day_flag = 0 # flag == 0 --> insufficient number of panels, flag == 1 --> sufficient number of panels found\n",
    "    for day in df_areas_SA.index:\n",
    "        if df_areas_SA['3 ha'].loc[day] > df_areas_SA['3ha variable speed'].loc[day]:\n",
    "            #print(f'{n_panels} panel(s) is not sufficient with variable speed operation, on {day} the irrigation deficit is {df_daily_irrigation[\"1 ha\"].loc[day] - df_daily_irrigation[\"1ha variable speed\"].loc[day]} m3')\n",
    "            count += 1\n",
    "            day_flag = 1\n",
    "        \n",
    "    if day_flag == 1:\n",
    "        print(f'{count} days are not covered with variable speed direct-drive operation with {n_panels} panels')\n",
    "        n_panels += 1\n",
    "    else:\n",
    "        flag = 1\n",
    "        print(f'{n_panels} panel(s) is sufficient with variable speed operation')\n",
    "\n",
    "    if n_panels > 20: #safety check\n",
    "        raise ValueError('the number of PV panels required is greater than 10')         \n",
    "\n",
    "\n",
    "#Takes a bit over 4 mins to run"
   ]
  },
  {
   "cell_type": "markdown",
   "metadata": {},
   "source": [
    "#### Battery "
   ]
  },
  {
   "cell_type": "code",
   "execution_count": 60,
   "metadata": {},
   "outputs": [
    {
     "name": "stdout",
     "output_type": "stream",
     "text": [
      "the required number of batteries is more than 10 for 1 panels\n",
      "the required number of batteries is more than 10 for 2 panels\n",
      "the required number of batteries is more than 10 for 3 panels\n",
      "the required number of batteries is more than 10 for 4 panels\n",
      "the required number of batteries is more than 10 for 5 panels\n",
      "18 Lithuim batteries is sufficient with 6 panels over historical data\n",
      "15 Lithuim batteries is sufficient with 7 panels over historical data\n",
      "12 Lithuim batteries is sufficient with 8 panels over historical data\n",
      "10 Lithuim batteries is sufficient with 9 panels over historical data\n",
      "7 Lithuim batteries is sufficient with 10 panels over historical data\n",
      "4 Lithuim batteries is sufficient with 11 panels over historical data\n",
      "3 Lithuim batteries is sufficient with 12 panels over historical data\n",
      "1 Lithuim batteries is sufficient with 13 panels over historical data\n",
      "0 Lithuim batteries is sufficient with 14 panels over historical data\n",
      "0 Lithuim batteries is sufficient with 15 panels over historical data\n",
      "0 Lithuim batteries is sufficient with 16 panels over historical data\n"
     ]
    }
   ],
   "source": [
    "# Find minimum number of batteries required to cover all historical days 1 through 5 PV pannels \n",
    "\n",
    "for n_panels_battery in range(1, 17): #number of panels\n",
    "    n_batteries = 0 #number of batteries in the string \n",
    "    flag = 0 #flag == 0 --> insufficient battery capacity found, flag == 1 --> sufficient battery capacity found\n",
    "\n",
    "    #Calculate solar power output with n_pannels_battery\n",
    "    loc = location.Location(18.541, -69.990, -4.00, 32.0) #CEBIVE\n",
    "    solpos = loc.get_solarposition(weather_full.index)\n",
    "    module_parameters = {'pdc0': 0.35, 'gamma_pdc': -0.004, 'b': 0.05} #350W pannel \n",
    "    temp_params = TEMPERATURE_MODEL_PARAMETERS['sapm']['open_rack_glass_glass']\n",
    "\n",
    "    array_full = pvsystem.Array(mount=pvsystem.FixedMount(20, 180),\n",
    "                        module_parameters=module_parameters,\n",
    "                        temperature_model_parameters=temp_params, modules_per_string=n_panels_battery)\n",
    "    system_full = pvsystem.PVSystem(arrays=[array_full], inverter_parameters={'pdc0': 10, 'eta_inv_nom':0.95, 'strings_per_inverter':1 })\n",
    "    mc_full = modelchain.ModelChain(system_full, loc, spectral_model='no_loss')\n",
    "    _ = mc_full.run_model(weather_full)\n",
    "    df_solar_battery = pd.DataFrame({'solar_power': mc_full.results.ac})\n",
    "    \n",
    "\n",
    "    #find minimum number of batteries needed to cover all historical days \n",
    "    while flag == 0:\n",
    "        battery_capacity = capacity * n_batteries #kWh\n",
    "        min_SOC = SOC_min * battery_capacity\n",
    "        max_SOC = SOC_max * battery_capacity\n",
    "        E_stored = [battery_capacity] #kWh, battery energy stored over time, initially full \n",
    "        day_flag = 0 \n",
    "        for day, data in df_solar_battery.groupby(df_solar_battery.index.date):\n",
    "            Q_day = 0 # m3 of water irrigated on day \n",
    "            Q_needed = df_areas_SA['3 ha'].loc[day.strftime('%Y-%m-%d')] #required irrigation in m3 \n",
    "            power_day = df_solar_battery['solar_power'].loc[day.strftime('%Y-%m-%d')]\n",
    "            \n",
    "            for hour in data.index.hour:\n",
    "                deficit = Q_needed - Q_day\n",
    "                power = power_day.iloc[hour] #Power available to pump on that hour\n",
    "\n",
    "                if deficit > 0: #Need to irrigate more water\n",
    "                    if (power >= max_power) & (deficit > max_flow_rate * 3600): #Power is greater than max power so irrigate max possinle amount \n",
    "                        Q_day += max_flow_rate * 3600\n",
    "                        E_storable = (power- max_power) * eta_charge #kWh\n",
    "                    elif (power >= max_power) & (deficit <= max_flow_rate * 3600): #power is greater than max power but dont need to pump max amount\n",
    "                        P_used = a * (deficit/3600)**3 + b * (deficit/3600)**2 + c * (deficit/3600) + d #power used to pump\n",
    "                        Q_day += deficit\n",
    "                        E_storable = (power- P_used) * eta_charge #kWh    \n",
    "                    elif (power == 0): \n",
    "                        E_storable = 0 #no energy stored\n",
    "                        Q_day += 0\n",
    "                    elif (power < max_power): #power is less than max power, but still need to pump \n",
    "                        Q_possible = scipy.optimize.root_scalar(lambda x: root_pump_curve(a, b, c, d, power, x), x0=max_flow_rate)\n",
    "                        E_storable = 0 #no energy stored\n",
    "                        if Q_possible.root*3600 >= deficit:\n",
    "                            Q_day += deficit\n",
    "                        else:\n",
    "                            Q_day += Q_possible.root * 3600\n",
    "                    \n",
    "\n",
    "                else: #dont need to irrigate more\n",
    "                    E_storable =power*eta_charge \n",
    "\n",
    "                #Store energy\n",
    "                if (E_storable + E_stored[-1]*(1-deprciation)) <= max_SOC:\n",
    "                    E_stored.append(E_stored[-1]*(1-deprciation) + E_storable) #kWh\n",
    "                else: #if more energy than battery can store, only store what battery can store\n",
    "                    E_stored.append(max_SOC) #kWh\n",
    "                \n",
    "            \n",
    "                \n",
    "            if deficit > 0: #still need to irrigate more after all possible pumping hours have been exhausted\n",
    "                \n",
    "                #Use energy stored to pump --> Assume always pumping at max flow rate\n",
    "                time_pump = (deficit / 3600)/ max_flow_rate \n",
    "                E_pump = (max_power * time_pump) / eta_discharge\n",
    "\n",
    "                \n",
    "                if (E_stored[-1] - E_pump) >= min_SOC: #if enough energy is stored to pump\n",
    "                    E_stored.append(E_stored[-1]*(1-deprciation) - E_pump)\n",
    "                else: #if not enough energy is stored to pump\n",
    "                    #print(f'{n_batteries} batteries is not sufficient with {n_panels_battery} panels, on {day} the energy deficit is {E_pump - (E_stored[-1]- min_SOC)} kWh')\n",
    "                    day_flag = 1 #flag == 1 --> n_panels_battery is not sufficient with battery operation over historical data\n",
    "\n",
    "        if day_flag == 1: #after checking all days, if n_batteries is not sufficient with n_panels_battery\n",
    "            n_batteries+=1\n",
    "        else: #after checking all days, n_batteries is sufficient with n_panels_battery\n",
    "            flag = 1 \n",
    "            print(f'{n_batteries} Lithuim batteries is sufficient with {n_panels_battery} panels over historical data')\n",
    "                \n",
    "                    \n",
    "        if n_batteries > 20: #safety check\n",
    "            print(f'the required number of batteries is more than 10 for {n_panels_battery} panels')\n",
    "            flag = 1\n",
    "            "
   ]
  }
 ],
 "metadata": {
  "kernelspec": {
   "display_name": "Python 3",
   "language": "python",
   "name": "python3"
  },
  "language_info": {
   "codemirror_mode": {
    "name": "ipython",
    "version": 3
   },
   "file_extension": ".py",
   "mimetype": "text/x-python",
   "name": "python",
   "nbconvert_exporter": "python",
   "pygments_lexer": "ipython3",
   "version": "3.11.5"
  }
 },
 "nbformat": 4,
 "nbformat_minor": 2
}
